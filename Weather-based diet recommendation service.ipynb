{
 "cells": [
  {
   "cell_type": "markdown",
   "metadata": {
    "id": "DqvP8AVBijSQ"
   },
   "source": [
    "### 필요한 모듈"
   ]
  },
  {
   "cell_type": "code",
   "execution_count": 1,
   "metadata": {
    "colab": {
     "base_uri": "https://localhost:8080/"
    },
    "executionInfo": {
     "elapsed": 1227,
     "status": "ok",
     "timestamp": 1624854260720,
     "user": {
      "displayName": "김미섭",
      "photoUrl": "",
      "userId": "10860151424334307550"
     },
     "user_tz": -540
    },
    "id": "CG4cXHbKijST",
    "outputId": "1f3a12d2-edc1-487a-a625-4a1c5aef728c"
   },
   "outputs": [
    {
     "name": "stderr",
     "output_type": "stream",
     "text": [
      "/usr/local/lib/python3.7/dist-packages/statsmodels/tools/_testing.py:19: FutureWarning: pandas.util.testing is deprecated. Use the functions in the public API at pandas.testing instead.\n",
      "  import pandas.util.testing as tm\n"
     ]
    }
   ],
   "source": [
    "import pandas as pd\n",
    "import numpy as np\n",
    "from matplotlib import pyplot as plt \n",
    "from scipy import stats\n",
    "import seaborn as sns\n",
    "from sklearn.linear_model import LinearRegression\n",
    "from sklearn.model_selection import train_test_split\n",
    "from sklearn import tree\n",
    "from sklearn.tree import DecisionTreeRegressor\n",
    "from sklearn import metrics\n",
    "from sklearn.metrics import mean_squared_error\n",
    "from sklearn.metrics import r2_score\n",
    "from sklearn.preprocessing import StandardScaler\n",
    "from sklearn.preprocessing import RobustScaler\n",
    "from statsmodels.stats.outliers_influence import variance_inflation_factor"
   ]
  },
  {
   "cell_type": "code",
   "execution_count": 2,
   "metadata": {
    "colab": {
     "base_uri": "https://localhost:8080/"
    },
    "executionInfo": {
     "elapsed": 17901,
     "status": "ok",
     "timestamp": 1624854278616,
     "user": {
      "displayName": "김미섭",
      "photoUrl": "",
      "userId": "10860151424334307550"
     },
     "user_tz": -540
    },
    "id": "tjpsWnkiis5L",
    "outputId": "ac43097a-ae31-4ee1-e539-48032576649a"
   },
   "outputs": [
    {
     "name": "stdout",
     "output_type": "stream",
     "text": [
      "Mounted at /gdrive\n"
     ]
    }
   ],
   "source": [
    "from google.colab import drive\n",
    "drive.mount('/gdrive')"
   ]
  },
  {
   "cell_type": "code",
   "execution_count": 3,
   "metadata": {
    "executionInfo": {
     "elapsed": 8949,
     "status": "ok",
     "timestamp": 1624854287550,
     "user": {
      "displayName": "김미섭",
      "photoUrl": "",
      "userId": "10860151424334307550"
     },
     "user_tz": -540
    },
    "id": "SPawFXDfijSU"
   },
   "outputs": [],
   "source": [
    "# colab version\n",
    "buy2018_1 = pd.read_csv('/gdrive/My Drive/weather_bigdata_contest/data/buy2018_1.csv')\n",
    "buy2018_1 = buy2018_1.drop(['Unnamed: 0'], axis=1)\n",
    "buy2018_2 = pd.read_csv('/gdrive/My Drive/weather_bigdata_contest/data/buy2018_2.csv')\n",
    "buy2018_2 = buy2018_2.drop(['Unnamed: 0'], axis=1)\n",
    "buy2019_1 = pd.read_csv('/gdrive/My Drive/weather_bigdata_contest/data/buy2019_1.csv')\n",
    "buy2019_1 = buy2019_1.drop(['Unnamed: 0'], axis=1)\n",
    "buy2019_2 = pd.read_csv('/gdrive/My Drive/weather_bigdata_contest/data/buy2019_2.csv')\n",
    "buy2019_2 = buy2019_2.drop(['Unnamed: 0'], axis=1)\n",
    "sns2018_1 = pd.read_csv('/gdrive/My Drive/weather_bigdata_contest/data/sns2018_1.csv')\n",
    "sns2018_1 = sns2018_1.drop(['Unnamed: 0'], axis=1)\n",
    "sns2018_2 = pd.read_csv('/gdrive/My Drive/weather_bigdata_contest/data/sns2018_2.csv')\n",
    "sns2018_2 = sns2018_2.drop(['Unnamed: 0'], axis=1)\n",
    "sns2019_1 = pd.read_csv('/gdrive/My Drive/weather_bigdata_contest/data/sns2019_1.csv')\n",
    "sns2019_1 = sns2019_1.drop(['Unnamed: 0'], axis=1)\n",
    "sns2019_2 = pd.read_csv('/gdrive/My Drive/weather_bigdata_contest/data/sns2019_2.csv')\n",
    "sns2019_2 = sns2019_2.drop(['Unnamed: 0'], axis=1)\n",
    "Seoul2018 = pd.read_csv('/gdrive/My Drive/weather_bigdata_contest/data/Seoul2018.csv',encoding='cp949')\n",
    "Seoul2019 = pd.read_csv('/gdrive/My Drive/weather_bigdata_contest/data/Seoul2019.csv',encoding='cp949')\n",
    "dust2018 = pd.read_csv('/gdrive/My Drive/weather_bigdata_contest/data/dust2018.csv',encoding='cp949')\n",
    "dust2019 = pd.read_csv('/gdrive/My Drive/weather_bigdata_contest/data/dust2019.csv',encoding='cp949')\n",
    "alert = pd.read_csv('/gdrive/My Drive/weather_bigdata_contest/data/alert.csv')\n",
    "test = pd.read_csv('/gdrive/My Drive/weather_bigdata_contest/data/test.csv')"
   ]
  },
  {
   "cell_type": "code",
   "execution_count": 4,
   "metadata": {
    "executionInfo": {
     "elapsed": 44,
     "status": "ok",
     "timestamp": 1624854287554,
     "user": {
      "displayName": "김미섭",
      "photoUrl": "",
      "userId": "10860151424334307550"
     },
     "user_tz": -540
    },
    "id": "4oHZMgVvns3t"
   },
   "outputs": [],
   "source": [
    "test = test.iloc[0:4,1:]"
   ]
  },
  {
   "cell_type": "markdown",
   "metadata": {
    "id": "uUjta_WaijSV"
   },
   "source": [
    "### 2018,2019 데이터 합치기"
   ]
  },
  {
   "cell_type": "code",
   "execution_count": 5,
   "metadata": {
    "executionInfo": {
     "elapsed": 507,
     "status": "ok",
     "timestamp": 1624854288777,
     "user": {
      "displayName": "김미섭",
      "photoUrl": "",
      "userId": "10860151424334307550"
     },
     "user_tz": -540
    },
    "id": "JhGWXnMUijSW"
   },
   "outputs": [],
   "source": [
    "buy2018_1.columns = ['date','sex','age','big_cat','sm_cat','qty']\n",
    "buy2018_2.columns = ['date','sex','age','big_cat','sm_cat','qty']\n",
    "buy2019_1.columns = ['date','sex','age','big_cat','sm_cat','qty']\n",
    "buy2019_2.columns = ['date','sex','age','big_cat','sm_cat','qty']\n",
    "buy20189 = pd.concat([buy2018_1,buy2018_2,buy2019_1,buy2019_2])"
   ]
  },
  {
   "cell_type": "code",
   "execution_count": 6,
   "metadata": {
    "executionInfo": {
     "elapsed": 20,
     "status": "ok",
     "timestamp": 1624854288779,
     "user": {
      "displayName": "김미섭",
      "photoUrl": "",
      "userId": "10860151424334307550"
     },
     "user_tz": -540
    },
    "id": "rJpSWFVPijSW"
   },
   "outputs": [],
   "source": [
    "sns2018_1.columns = ['date','big_cat','sm_cat','cnt']\n",
    "sns2018_2.columns = ['date','big_cat','sm_cat','cnt']\n",
    "sns2019_1.columns = ['date','big_cat','sm_cat','cnt']\n",
    "sns2019_2.columns = ['date','big_cat','sm_cat','cnt']\n",
    "sns20189 = pd.concat([sns2018_1,sns2018_2,sns2019_1,sns2019_2])"
   ]
  },
  {
   "cell_type": "markdown",
   "metadata": {
    "id": "B-iGvco3m90O"
   },
   "source": [
    "월, 일 설정"
   ]
  },
  {
   "cell_type": "code",
   "execution_count": 7,
   "metadata": {
    "executionInfo": {
     "elapsed": 21,
     "status": "ok",
     "timestamp": 1624854288781,
     "user": {
      "displayName": "김미섭",
      "photoUrl": "",
      "userId": "10860151424334307550"
     },
     "user_tz": -540
    },
    "id": "cOVkVc_aijSX"
   },
   "outputs": [],
   "source": [
    "month = ['01']*31+['02']*28+['03']*31+['04']*30+['05']*31+['06']*30+['07']*31+['08']*31+['09']*30+['10']*31+['11']*30+['12']*31\n",
    "day = list(range(1,32))+list(range(1,29))+list(range(1,32))+list(range(1,31))+list(range(1,32))+list(range(1,31))+list(range(1,32))+list(range(1,32))+list(range(1,31))+list(range(1,32))+list(range(1,31))+list(range(1,32))\n",
    "for i in range(365):\n",
    "  if day[i]<10:\n",
    "    day[i] = '0'+str(day[i])\n",
    "  else :\n",
    "    day[i] = str(day[i])"
   ]
  },
  {
   "cell_type": "code",
   "execution_count": 8,
   "metadata": {
    "executionInfo": {
     "elapsed": 19,
     "status": "ok",
     "timestamp": 1624854288782,
     "user": {
      "displayName": "김미섭",
      "photoUrl": "",
      "userId": "10860151424334307550"
     },
     "user_tz": -540
    },
    "id": "f2keVSL8ijSX"
   },
   "outputs": [],
   "source": [
    "date = []\n",
    "for i in range(365):\n",
    "  date.append('2018'+'-'+month[i]+'-'+day[i])\n",
    "for i in range(365):\n",
    "  date.append('2019'+'-'+month[i]+'-'+day[i])\n",
    "df_dust = pd.DataFrame(date)\n",
    "df_dust.columns = ['날짜']"
   ]
  },
  {
   "cell_type": "code",
   "execution_count": 9,
   "metadata": {
    "colab": {
     "base_uri": "https://localhost:8080/",
     "height": 417
    },
    "executionInfo": {
     "elapsed": 21,
     "status": "ok",
     "timestamp": 1624854288785,
     "user": {
      "displayName": "김미섭",
      "photoUrl": "",
      "userId": "10860151424334307550"
     },
     "user_tz": -540
    },
    "id": "5P8-jRTtvwLD",
    "outputId": "ec6fe59b-9e74-403b-a56a-14b4529d2909"
   },
   "outputs": [
    {
     "data": {
      "text/html": [
       "<div>\n",
       "<style scoped>\n",
       "    .dataframe tbody tr th:only-of-type {\n",
       "        vertical-align: middle;\n",
       "    }\n",
       "\n",
       "    .dataframe tbody tr th {\n",
       "        vertical-align: top;\n",
       "    }\n",
       "\n",
       "    .dataframe thead th {\n",
       "        text-align: right;\n",
       "    }\n",
       "</style>\n",
       "<table border=\"1\" class=\"dataframe\">\n",
       "  <thead>\n",
       "    <tr style=\"text-align: right;\">\n",
       "      <th></th>\n",
       "      <th>날짜</th>\n",
       "    </tr>\n",
       "  </thead>\n",
       "  <tbody>\n",
       "    <tr>\n",
       "      <th>0</th>\n",
       "      <td>2018-01-01</td>\n",
       "    </tr>\n",
       "    <tr>\n",
       "      <th>1</th>\n",
       "      <td>2018-01-02</td>\n",
       "    </tr>\n",
       "    <tr>\n",
       "      <th>2</th>\n",
       "      <td>2018-01-03</td>\n",
       "    </tr>\n",
       "    <tr>\n",
       "      <th>3</th>\n",
       "      <td>2018-01-04</td>\n",
       "    </tr>\n",
       "    <tr>\n",
       "      <th>4</th>\n",
       "      <td>2018-01-05</td>\n",
       "    </tr>\n",
       "    <tr>\n",
       "      <th>...</th>\n",
       "      <td>...</td>\n",
       "    </tr>\n",
       "    <tr>\n",
       "      <th>725</th>\n",
       "      <td>2019-12-27</td>\n",
       "    </tr>\n",
       "    <tr>\n",
       "      <th>726</th>\n",
       "      <td>2019-12-28</td>\n",
       "    </tr>\n",
       "    <tr>\n",
       "      <th>727</th>\n",
       "      <td>2019-12-29</td>\n",
       "    </tr>\n",
       "    <tr>\n",
       "      <th>728</th>\n",
       "      <td>2019-12-30</td>\n",
       "    </tr>\n",
       "    <tr>\n",
       "      <th>729</th>\n",
       "      <td>2019-12-31</td>\n",
       "    </tr>\n",
       "  </tbody>\n",
       "</table>\n",
       "<p>730 rows × 1 columns</p>\n",
       "</div>"
      ],
      "text/plain": [
       "             날짜\n",
       "0    2018-01-01\n",
       "1    2018-01-02\n",
       "2    2018-01-03\n",
       "3    2018-01-04\n",
       "4    2018-01-05\n",
       "..          ...\n",
       "725  2019-12-27\n",
       "726  2019-12-28\n",
       "727  2019-12-29\n",
       "728  2019-12-30\n",
       "729  2019-12-31\n",
       "\n",
       "[730 rows x 1 columns]"
      ]
     },
     "execution_count": 9,
     "metadata": {
      "tags": []
     },
     "output_type": "execute_result"
    }
   ],
   "source": [
    "df_dust"
   ]
  },
  {
   "cell_type": "code",
   "execution_count": 10,
   "metadata": {
    "executionInfo": {
     "elapsed": 5,
     "status": "ok",
     "timestamp": 1624854289925,
     "user": {
      "displayName": "김미섭",
      "photoUrl": "",
      "userId": "10860151424334307550"
     },
     "user_tz": -540
    },
    "id": "FiFVNxeyvlx2"
   },
   "outputs": [],
   "source": [
    "Seoul20189 = pd.concat([Seoul2018, Seoul2019],ignore_index=True)\n",
    "dust20189 = pd.concat([dust2018, dust2019],ignore_index=True)\n",
    "temp = Seoul20189.iloc[:,3]\n",
    "temp_L = Seoul20189.iloc[:,4]\n",
    "temp_H = Seoul20189.iloc[:,6]\n",
    "rain = Seoul20189.iloc[:,13]\n",
    "wind_max = Seoul20189.iloc[:,17]\n",
    "wind = Seoul20189.iloc[:,20]\n",
    "humid = Seoul20189.iloc[:,26]\n",
    "humid = humid / 100"
   ]
  },
  {
   "cell_type": "markdown",
   "metadata": {
    "id": "sm66pS-KgZxC"
   },
   "source": [
    "## 결측치 처리"
   ]
  },
  {
   "cell_type": "markdown",
   "metadata": {
    "id": "YVXGj_4shD_m"
   },
   "source": [
    "날씨 데이터 (0으로 대체)"
   ]
  },
  {
   "cell_type": "code",
   "execution_count": 11,
   "metadata": {
    "executionInfo": {
     "elapsed": 5,
     "status": "ok",
     "timestamp": 1624854291864,
     "user": {
      "displayName": "김미섭",
      "photoUrl": "",
      "userId": "10860151424334307550"
     },
     "user_tz": -540
    },
    "id": "z9IFPKa7hGR8"
   },
   "outputs": [],
   "source": [
    "# 날씨 데이터 결측치 0으로\n",
    "Seoul2018 = Seoul2018.fillna(0)\n",
    "Seoul2019 = Seoul2019.fillna(0)"
   ]
  },
  {
   "cell_type": "markdown",
   "metadata": {
    "id": "qjdnnprMnGGP"
   },
   "source": [
    "미세먼지 데이터 (전날의 데이터로 대체)"
   ]
  },
  {
   "cell_type": "code",
   "execution_count": 12,
   "metadata": {
    "executionInfo": {
     "elapsed": 8,
     "status": "ok",
     "timestamp": 1624854292680,
     "user": {
      "displayName": "김미섭",
      "photoUrl": "",
      "userId": "10860151424334307550"
     },
     "user_tz": -540
    },
    "id": "0bwujGypijSY"
   },
   "outputs": [],
   "source": [
    "dust = []\n",
    "cnt = 0\n",
    "for i in range(730):\n",
    "  j = i-cnt\n",
    "  if (df_dust['날짜'].iloc[i]==dust20189['일시'].iloc[j]):\n",
    "    dust.append(dust20189['일 미세먼지 농도(㎍/㎥)'].iloc[j])\n",
    "  else :\n",
    "    dust.append(np.nan)\n",
    "    cnt+=1\n",
    "df_dust['미세먼지'] = pd.Series(dust)\n",
    "df_dust = df_dust.fillna(method='ffill')\n",
    "dust = df_dust.iloc[:,1]"
   ]
  },
  {
   "cell_type": "markdown",
   "metadata": {
    "id": "oRQh0TjliN-1"
   },
   "source": [
    "# 변수 생성"
   ]
  },
  {
   "cell_type": "markdown",
   "metadata": {
    "id": "uJubZzMrijSY"
   },
   "source": [
    "### 계절 변수 만들기"
   ]
  },
  {
   "cell_type": "code",
   "execution_count": 13,
   "metadata": {
    "colab": {
     "base_uri": "https://localhost:8080/"
    },
    "executionInfo": {
     "elapsed": 1240,
     "status": "ok",
     "timestamp": 1624854296114,
     "user": {
      "displayName": "김미섭",
      "photoUrl": "",
      "userId": "10860151424334307550"
     },
     "user_tz": -540
    },
    "id": "jPSZbRuAijSY",
    "outputId": "c4b2aeee-52b6-4a6b-cb43-218ef5595746"
   },
   "outputs": [
    {
     "data": {
      "text/plain": [
       "0      겨울\n",
       "1      겨울\n",
       "2      겨울\n",
       "3      겨울\n",
       "4      겨울\n",
       "       ..\n",
       "725    겨울\n",
       "726    겨울\n",
       "727    겨울\n",
       "728    겨울\n",
       "729    겨울\n",
       "Name: 계절, Length: 730, dtype: object"
      ]
     },
     "execution_count": 13,
     "metadata": {
      "tags": []
     },
     "output_type": "execute_result"
    }
   ],
   "source": [
    "import datetime as dt\n",
    "date = pd.to_datetime(Seoul20189.iloc[:, 2])\n",
    "season = np.zeros(730)\n",
    "season = pd.Series(season, name='계절')\n",
    "for i in range(0, len(date)):\n",
    "    if date.dt.month[i] == 12 or date.dt.month[i] == 1 or date.dt.month[i] == 2 :\n",
    "        season[i] = '겨울'\n",
    "    elif date.dt.month[i] == 3 or date.dt.month[i] == 4 or date.dt.month[i] == 5 :\n",
    "        season[i] = '봄'\n",
    "    elif date.dt.month[i] == 6 or date.dt.month[i] == 7 or date.dt.month[i] == 8 :\n",
    "        season[i] = '여름'\n",
    "    else: season[i] = '가을'     \n",
    "season"
   ]
  },
  {
   "cell_type": "markdown",
   "metadata": {
    "id": "8EboPes9ijSg"
   },
   "source": [
    "### 계절 --> One-hot Encoding"
   ]
  },
  {
   "cell_type": "code",
   "execution_count": 14,
   "metadata": {
    "colab": {
     "base_uri": "https://localhost:8080/",
     "height": 417
    },
    "executionInfo": {
     "elapsed": 12,
     "status": "ok",
     "timestamp": 1624854296115,
     "user": {
      "displayName": "김미섭",
      "photoUrl": "",
      "userId": "10860151424334307550"
     },
     "user_tz": -540
    },
    "id": "LlIwD3MzijSh",
    "outputId": "29a5c2de-cd02-40a5-cb42-1c6a19306b0d"
   },
   "outputs": [
    {
     "data": {
      "text/html": [
       "<div>\n",
       "<style scoped>\n",
       "    .dataframe tbody tr th:only-of-type {\n",
       "        vertical-align: middle;\n",
       "    }\n",
       "\n",
       "    .dataframe tbody tr th {\n",
       "        vertical-align: top;\n",
       "    }\n",
       "\n",
       "    .dataframe thead th {\n",
       "        text-align: right;\n",
       "    }\n",
       "</style>\n",
       "<table border=\"1\" class=\"dataframe\">\n",
       "  <thead>\n",
       "    <tr style=\"text-align: right;\">\n",
       "      <th></th>\n",
       "      <th>가을</th>\n",
       "      <th>겨울</th>\n",
       "      <th>봄</th>\n",
       "      <th>여름</th>\n",
       "    </tr>\n",
       "  </thead>\n",
       "  <tbody>\n",
       "    <tr>\n",
       "      <th>0</th>\n",
       "      <td>0</td>\n",
       "      <td>1</td>\n",
       "      <td>0</td>\n",
       "      <td>0</td>\n",
       "    </tr>\n",
       "    <tr>\n",
       "      <th>1</th>\n",
       "      <td>0</td>\n",
       "      <td>1</td>\n",
       "      <td>0</td>\n",
       "      <td>0</td>\n",
       "    </tr>\n",
       "    <tr>\n",
       "      <th>2</th>\n",
       "      <td>0</td>\n",
       "      <td>1</td>\n",
       "      <td>0</td>\n",
       "      <td>0</td>\n",
       "    </tr>\n",
       "    <tr>\n",
       "      <th>3</th>\n",
       "      <td>0</td>\n",
       "      <td>1</td>\n",
       "      <td>0</td>\n",
       "      <td>0</td>\n",
       "    </tr>\n",
       "    <tr>\n",
       "      <th>4</th>\n",
       "      <td>0</td>\n",
       "      <td>1</td>\n",
       "      <td>0</td>\n",
       "      <td>0</td>\n",
       "    </tr>\n",
       "    <tr>\n",
       "      <th>...</th>\n",
       "      <td>...</td>\n",
       "      <td>...</td>\n",
       "      <td>...</td>\n",
       "      <td>...</td>\n",
       "    </tr>\n",
       "    <tr>\n",
       "      <th>725</th>\n",
       "      <td>0</td>\n",
       "      <td>1</td>\n",
       "      <td>0</td>\n",
       "      <td>0</td>\n",
       "    </tr>\n",
       "    <tr>\n",
       "      <th>726</th>\n",
       "      <td>0</td>\n",
       "      <td>1</td>\n",
       "      <td>0</td>\n",
       "      <td>0</td>\n",
       "    </tr>\n",
       "    <tr>\n",
       "      <th>727</th>\n",
       "      <td>0</td>\n",
       "      <td>1</td>\n",
       "      <td>0</td>\n",
       "      <td>0</td>\n",
       "    </tr>\n",
       "    <tr>\n",
       "      <th>728</th>\n",
       "      <td>0</td>\n",
       "      <td>1</td>\n",
       "      <td>0</td>\n",
       "      <td>0</td>\n",
       "    </tr>\n",
       "    <tr>\n",
       "      <th>729</th>\n",
       "      <td>0</td>\n",
       "      <td>1</td>\n",
       "      <td>0</td>\n",
       "      <td>0</td>\n",
       "    </tr>\n",
       "  </tbody>\n",
       "</table>\n",
       "<p>730 rows × 4 columns</p>\n",
       "</div>"
      ],
      "text/plain": [
       "     가을  겨울  봄  여름\n",
       "0     0   1  0   0\n",
       "1     0   1  0   0\n",
       "2     0   1  0   0\n",
       "3     0   1  0   0\n",
       "4     0   1  0   0\n",
       "..   ..  .. ..  ..\n",
       "725   0   1  0   0\n",
       "726   0   1  0   0\n",
       "727   0   1  0   0\n",
       "728   0   1  0   0\n",
       "729   0   1  0   0\n",
       "\n",
       "[730 rows x 4 columns]"
      ]
     },
     "execution_count": 14,
     "metadata": {
      "tags": []
     },
     "output_type": "execute_result"
    }
   ],
   "source": [
    "season_dummies = pd.get_dummies(season)\n",
    "# season_dummies = pd.DataFrame(season_dummies, columns=['봄', '여름', '가을', '겨울'])\n",
    "season_dummies"
   ]
  },
  {
   "cell_type": "markdown",
   "metadata": {
    "id": "XTFH0LnPijSf"
   },
   "source": [
    "### 체감온도 / 불쾌지수"
   ]
  },
  {
   "cell_type": "code",
   "execution_count": 15,
   "metadata": {
    "colab": {
     "base_uri": "https://localhost:8080/"
    },
    "executionInfo": {
     "elapsed": 5,
     "status": "ok",
     "timestamp": 1624854298455,
     "user": {
      "displayName": "김미섭",
      "photoUrl": "",
      "userId": "10860151424334307550"
     },
     "user_tz": -540
    },
    "id": "T4t1DNxZijSf",
    "outputId": "cf18f2b5-1f4a-4863-9052-6af59fcbbcc1"
   },
   "outputs": [
    {
     "name": "stdout",
     "output_type": "stream",
     "text": [
      "26.380913845600006 74.323328\n"
     ]
    }
   ],
   "source": [
    "# 체감온도\n",
    "sens_temp = 13.27 + 0.6215*temp - 13.947*(wind**0.16) + 0.486*temp*(wind**0.16)\n",
    "sens_temp = pd.Series(sens_temp, name='체감온도')\n",
    "# 불쾌지수\n",
    "THI = (9/5)*temp - 0.55*(1 - humid)*((9/5)*temp - 26) + 32\n",
    "print(sens_temp[180], THI[180])"
   ]
  },
  {
   "cell_type": "code",
   "execution_count": 16,
   "metadata": {
    "colab": {
     "base_uri": "https://localhost:8080/",
     "height": 35
    },
    "executionInfo": {
     "elapsed": 8,
     "status": "ok",
     "timestamp": 1624854299509,
     "user": {
      "displayName": "김미섭",
      "photoUrl": "",
      "userId": "10860151424334307550"
     },
     "user_tz": -540
    },
    "id": "AkhnYLWt8hM5",
    "outputId": "00827681-76ec-4bf0-c38b-02dda342f831"
   },
   "outputs": [
    {
     "data": {
      "application/vnd.google.colaboratory.intrinsic+json": {
       "type": "string"
      },
      "text/plain": [
       "'THI보통'"
      ]
     },
     "execution_count": 16,
     "metadata": {
      "tags": []
     },
     "output_type": "execute_result"
    }
   ],
   "source": [
    "THI_cat = np.zeros(730)\n",
    "THI_cat = pd.Series(season, name='불쾌지수')\n",
    "for i in range(0, len(THI_cat)):\n",
    "    if THI [i] < 68 :\n",
    "        THI_cat[i] = 'THI낮음'\n",
    "    elif THI [i] >= 68 and THI [i] < 75 :\n",
    "        THI_cat[i] = 'THI보통'\n",
    "    elif THI [i] >= 75 and THI [i] < 80 :\n",
    "        THI_cat[i] = 'THI높음'\n",
    "    else: THI_cat[i] = 'THI매우높음'     \n",
    "THI_cat[180]"
   ]
  },
  {
   "cell_type": "code",
   "execution_count": 17,
   "metadata": {
    "colab": {
     "base_uri": "https://localhost:8080/",
     "height": 417
    },
    "executionInfo": {
     "elapsed": 17,
     "status": "ok",
     "timestamp": 1624854302007,
     "user": {
      "displayName": "김미섭",
      "photoUrl": "",
      "userId": "10860151424334307550"
     },
     "user_tz": -540
    },
    "id": "-lcXO7Bj8jwo",
    "outputId": "834b955e-6ef8-4efe-9884-7aeb85010e97"
   },
   "outputs": [
    {
     "data": {
      "text/html": [
       "<div>\n",
       "<style scoped>\n",
       "    .dataframe tbody tr th:only-of-type {\n",
       "        vertical-align: middle;\n",
       "    }\n",
       "\n",
       "    .dataframe tbody tr th {\n",
       "        vertical-align: top;\n",
       "    }\n",
       "\n",
       "    .dataframe thead th {\n",
       "        text-align: right;\n",
       "    }\n",
       "</style>\n",
       "<table border=\"1\" class=\"dataframe\">\n",
       "  <thead>\n",
       "    <tr style=\"text-align: right;\">\n",
       "      <th></th>\n",
       "      <th>THI낮음</th>\n",
       "      <th>THI높음</th>\n",
       "      <th>THI매우높음</th>\n",
       "      <th>THI보통</th>\n",
       "    </tr>\n",
       "  </thead>\n",
       "  <tbody>\n",
       "    <tr>\n",
       "      <th>0</th>\n",
       "      <td>1</td>\n",
       "      <td>0</td>\n",
       "      <td>0</td>\n",
       "      <td>0</td>\n",
       "    </tr>\n",
       "    <tr>\n",
       "      <th>1</th>\n",
       "      <td>1</td>\n",
       "      <td>0</td>\n",
       "      <td>0</td>\n",
       "      <td>0</td>\n",
       "    </tr>\n",
       "    <tr>\n",
       "      <th>2</th>\n",
       "      <td>1</td>\n",
       "      <td>0</td>\n",
       "      <td>0</td>\n",
       "      <td>0</td>\n",
       "    </tr>\n",
       "    <tr>\n",
       "      <th>3</th>\n",
       "      <td>1</td>\n",
       "      <td>0</td>\n",
       "      <td>0</td>\n",
       "      <td>0</td>\n",
       "    </tr>\n",
       "    <tr>\n",
       "      <th>4</th>\n",
       "      <td>1</td>\n",
       "      <td>0</td>\n",
       "      <td>0</td>\n",
       "      <td>0</td>\n",
       "    </tr>\n",
       "    <tr>\n",
       "      <th>...</th>\n",
       "      <td>...</td>\n",
       "      <td>...</td>\n",
       "      <td>...</td>\n",
       "      <td>...</td>\n",
       "    </tr>\n",
       "    <tr>\n",
       "      <th>725</th>\n",
       "      <td>1</td>\n",
       "      <td>0</td>\n",
       "      <td>0</td>\n",
       "      <td>0</td>\n",
       "    </tr>\n",
       "    <tr>\n",
       "      <th>726</th>\n",
       "      <td>1</td>\n",
       "      <td>0</td>\n",
       "      <td>0</td>\n",
       "      <td>0</td>\n",
       "    </tr>\n",
       "    <tr>\n",
       "      <th>727</th>\n",
       "      <td>1</td>\n",
       "      <td>0</td>\n",
       "      <td>0</td>\n",
       "      <td>0</td>\n",
       "    </tr>\n",
       "    <tr>\n",
       "      <th>728</th>\n",
       "      <td>1</td>\n",
       "      <td>0</td>\n",
       "      <td>0</td>\n",
       "      <td>0</td>\n",
       "    </tr>\n",
       "    <tr>\n",
       "      <th>729</th>\n",
       "      <td>1</td>\n",
       "      <td>0</td>\n",
       "      <td>0</td>\n",
       "      <td>0</td>\n",
       "    </tr>\n",
       "  </tbody>\n",
       "</table>\n",
       "<p>730 rows × 4 columns</p>\n",
       "</div>"
      ],
      "text/plain": [
       "     THI낮음  THI높음  THI매우높음  THI보통\n",
       "0        1      0        0      0\n",
       "1        1      0        0      0\n",
       "2        1      0        0      0\n",
       "3        1      0        0      0\n",
       "4        1      0        0      0\n",
       "..     ...    ...      ...    ...\n",
       "725      1      0        0      0\n",
       "726      1      0        0      0\n",
       "727      1      0        0      0\n",
       "728      1      0        0      0\n",
       "729      1      0        0      0\n",
       "\n",
       "[730 rows x 4 columns]"
      ]
     },
     "execution_count": 17,
     "metadata": {
      "tags": []
     },
     "output_type": "execute_result"
    }
   ],
   "source": [
    "THI_dummies = pd.get_dummies(THI_cat)\n",
    "# season_dummies = pd.DataFrame(season_dummies, columns=['봄', '여름', '가을', '겨울'])\n",
    "THI_dummies"
   ]
  },
  {
   "cell_type": "markdown",
   "metadata": {
    "id": "1OIbwcWaijSf"
   },
   "source": [
    "### 예측하고픈 종속변수"
   ]
  },
  {
   "cell_type": "code",
   "execution_count": 18,
   "metadata": {
    "executionInfo": {
     "elapsed": 872,
     "status": "ok",
     "timestamp": 1624854305218,
     "user": {
      "displayName": "김미섭",
      "photoUrl": "",
      "userId": "10860151424334307550"
     },
     "user_tz": -540
    },
    "id": "nCEX5PEPijSf"
   },
   "outputs": [],
   "source": [
    "# 구매데이터\n",
    "\n",
    "food2018 = buy20189[buy20189['big_cat']=='식품']\n",
    "grouped = food2018.groupby(['date','sm_cat'], as_index=False)\n",
    "date_cate = grouped.sum()\n",
    "food = date_cate[date_cate['sm_cat']=='도라지/더덕']['qty']\n",
    "food = food.reset_index(drop=True)"
   ]
  },
  {
   "cell_type": "code",
   "execution_count": null,
   "metadata": {
    "id": "otUAv7dHijSg"
   },
   "outputs": [],
   "source": [
    "# 소셜데이터\n",
    "\n",
    "food2018 = sns20189[sns20189['big_cat']=='식품']\n",
    "grouped = food2018.groupby(['date','sm_cat'], as_index=False)\n",
    "date_cate = grouped.sum()\n",
    "food = date_cate[date_cate['sm_cat']=='게장류']['cnt']\n",
    "food = food.reset_index(drop=True)"
   ]
  },
  {
   "cell_type": "markdown",
   "metadata": {
    "id": "Dq8ZOzm9ijSh"
   },
   "source": [
    "### 최종으로 합친 데이터"
   ]
  },
  {
   "cell_type": "code",
   "execution_count": 19,
   "metadata": {
    "executionInfo": {
     "elapsed": 7,
     "status": "ok",
     "timestamp": 1624854306185,
     "user": {
      "displayName": "김미섭",
      "photoUrl": "",
      "userId": "10860151424334307550"
     },
     "user_tz": -540
    },
    "id": "B-9Y5vdEijSh"
   },
   "outputs": [],
   "source": [
    "total = pd.concat([season_dummies, temp, temp_L, temp_H, rain, wind_max, wind, humid, dust, sens_temp, THI_dummies, food, alert.iloc[:,1:]], axis=1)\n",
    "total = total.fillna(0)"
   ]
  },
  {
   "cell_type": "code",
   "execution_count": 20,
   "metadata": {
    "colab": {
     "base_uri": "https://localhost:8080/",
     "height": 450
    },
    "executionInfo": {
     "elapsed": 442,
     "status": "ok",
     "timestamp": 1624854306977,
     "user": {
      "displayName": "김미섭",
      "photoUrl": "",
      "userId": "10860151424334307550"
     },
     "user_tz": -540
    },
    "id": "t_9gQZ3nijSh",
    "outputId": "86e5d145-33ea-4cda-e697-b6fb5c733bfb"
   },
   "outputs": [
    {
     "data": {
      "text/html": [
       "<div>\n",
       "<style scoped>\n",
       "    .dataframe tbody tr th:only-of-type {\n",
       "        vertical-align: middle;\n",
       "    }\n",
       "\n",
       "    .dataframe tbody tr th {\n",
       "        vertical-align: top;\n",
       "    }\n",
       "\n",
       "    .dataframe thead th {\n",
       "        text-align: right;\n",
       "    }\n",
       "</style>\n",
       "<table border=\"1\" class=\"dataframe\">\n",
       "  <thead>\n",
       "    <tr style=\"text-align: right;\">\n",
       "      <th></th>\n",
       "      <th>가을</th>\n",
       "      <th>겨울</th>\n",
       "      <th>봄</th>\n",
       "      <th>여름</th>\n",
       "      <th>평균기온(°C)</th>\n",
       "      <th>최저기온(°C)</th>\n",
       "      <th>최고기온(°C)</th>\n",
       "      <th>일강수량(mm)</th>\n",
       "      <th>최대 풍속(m/s)</th>\n",
       "      <th>평균 풍속(m/s)</th>\n",
       "      <th>평균 상대습도(%)</th>\n",
       "      <th>미세먼지</th>\n",
       "      <th>체감온도</th>\n",
       "      <th>THI낮음</th>\n",
       "      <th>THI높음</th>\n",
       "      <th>THI매우높음</th>\n",
       "      <th>THI보통</th>\n",
       "      <th>qty</th>\n",
       "      <th>태풍 주의보</th>\n",
       "      <th>태풍 경보</th>\n",
       "      <th>폭염 주의보</th>\n",
       "      <th>폭염 경보</th>\n",
       "      <th>한파 주의보</th>\n",
       "      <th>한파 경보</th>\n",
       "    </tr>\n",
       "  </thead>\n",
       "  <tbody>\n",
       "    <tr>\n",
       "      <th>0</th>\n",
       "      <td>0</td>\n",
       "      <td>1</td>\n",
       "      <td>0</td>\n",
       "      <td>0</td>\n",
       "      <td>-1.3</td>\n",
       "      <td>-5.1</td>\n",
       "      <td>3.8</td>\n",
       "      <td>0.0</td>\n",
       "      <td>3.8</td>\n",
       "      <td>1.4</td>\n",
       "      <td>0.391</td>\n",
       "      <td>38.0</td>\n",
       "      <td>-2.923119</td>\n",
       "      <td>1</td>\n",
       "      <td>0</td>\n",
       "      <td>0</td>\n",
       "      <td>0</td>\n",
       "      <td>23</td>\n",
       "      <td>0</td>\n",
       "      <td>0</td>\n",
       "      <td>0</td>\n",
       "      <td>0</td>\n",
       "      <td>1</td>\n",
       "      <td>0</td>\n",
       "    </tr>\n",
       "    <tr>\n",
       "      <th>1</th>\n",
       "      <td>0</td>\n",
       "      <td>1</td>\n",
       "      <td>0</td>\n",
       "      <td>0</td>\n",
       "      <td>-1.8</td>\n",
       "      <td>-4.3</td>\n",
       "      <td>1.8</td>\n",
       "      <td>0.0</td>\n",
       "      <td>4.9</td>\n",
       "      <td>1.8</td>\n",
       "      <td>0.420</td>\n",
       "      <td>32.0</td>\n",
       "      <td>-4.132080</td>\n",
       "      <td>1</td>\n",
       "      <td>0</td>\n",
       "      <td>0</td>\n",
       "      <td>0</td>\n",
       "      <td>29</td>\n",
       "      <td>0</td>\n",
       "      <td>0</td>\n",
       "      <td>0</td>\n",
       "      <td>0</td>\n",
       "      <td>1</td>\n",
       "      <td>0</td>\n",
       "    </tr>\n",
       "    <tr>\n",
       "      <th>2</th>\n",
       "      <td>0</td>\n",
       "      <td>1</td>\n",
       "      <td>0</td>\n",
       "      <td>0</td>\n",
       "      <td>-4.7</td>\n",
       "      <td>-7.1</td>\n",
       "      <td>-0.4</td>\n",
       "      <td>0.0</td>\n",
       "      <td>3.5</td>\n",
       "      <td>2.2</td>\n",
       "      <td>0.423</td>\n",
       "      <td>32.0</td>\n",
       "      <td>-8.064631</td>\n",
       "      <td>1</td>\n",
       "      <td>0</td>\n",
       "      <td>0</td>\n",
       "      <td>0</td>\n",
       "      <td>33</td>\n",
       "      <td>0</td>\n",
       "      <td>0</td>\n",
       "      <td>0</td>\n",
       "      <td>0</td>\n",
       "      <td>1</td>\n",
       "      <td>0</td>\n",
       "    </tr>\n",
       "    <tr>\n",
       "      <th>3</th>\n",
       "      <td>0</td>\n",
       "      <td>1</td>\n",
       "      <td>0</td>\n",
       "      <td>0</td>\n",
       "      <td>-4.7</td>\n",
       "      <td>-8.7</td>\n",
       "      <td>-0.7</td>\n",
       "      <td>0.0</td>\n",
       "      <td>3.5</td>\n",
       "      <td>1.4</td>\n",
       "      <td>0.430</td>\n",
       "      <td>40.0</td>\n",
       "      <td>-6.780015</td>\n",
       "      <td>1</td>\n",
       "      <td>0</td>\n",
       "      <td>0</td>\n",
       "      <td>0</td>\n",
       "      <td>24</td>\n",
       "      <td>0</td>\n",
       "      <td>0</td>\n",
       "      <td>0</td>\n",
       "      <td>0</td>\n",
       "      <td>0</td>\n",
       "      <td>0</td>\n",
       "    </tr>\n",
       "    <tr>\n",
       "      <th>4</th>\n",
       "      <td>0</td>\n",
       "      <td>1</td>\n",
       "      <td>0</td>\n",
       "      <td>0</td>\n",
       "      <td>-3.0</td>\n",
       "      <td>-5.6</td>\n",
       "      <td>1.6</td>\n",
       "      <td>0.0</td>\n",
       "      <td>3.6</td>\n",
       "      <td>1.7</td>\n",
       "      <td>0.484</td>\n",
       "      <td>46.0</td>\n",
       "      <td>-5.364518</td>\n",
       "      <td>1</td>\n",
       "      <td>0</td>\n",
       "      <td>0</td>\n",
       "      <td>0</td>\n",
       "      <td>22</td>\n",
       "      <td>0</td>\n",
       "      <td>0</td>\n",
       "      <td>0</td>\n",
       "      <td>0</td>\n",
       "      <td>0</td>\n",
       "      <td>0</td>\n",
       "    </tr>\n",
       "    <tr>\n",
       "      <th>...</th>\n",
       "      <td>...</td>\n",
       "      <td>...</td>\n",
       "      <td>...</td>\n",
       "      <td>...</td>\n",
       "      <td>...</td>\n",
       "      <td>...</td>\n",
       "      <td>...</td>\n",
       "      <td>...</td>\n",
       "      <td>...</td>\n",
       "      <td>...</td>\n",
       "      <td>...</td>\n",
       "      <td>...</td>\n",
       "      <td>...</td>\n",
       "      <td>...</td>\n",
       "      <td>...</td>\n",
       "      <td>...</td>\n",
       "      <td>...</td>\n",
       "      <td>...</td>\n",
       "      <td>...</td>\n",
       "      <td>...</td>\n",
       "      <td>...</td>\n",
       "      <td>...</td>\n",
       "      <td>...</td>\n",
       "      <td>...</td>\n",
       "    </tr>\n",
       "    <tr>\n",
       "      <th>725</th>\n",
       "      <td>0</td>\n",
       "      <td>1</td>\n",
       "      <td>0</td>\n",
       "      <td>0</td>\n",
       "      <td>-1.7</td>\n",
       "      <td>-4.6</td>\n",
       "      <td>2.6</td>\n",
       "      <td>0.0</td>\n",
       "      <td>4.3</td>\n",
       "      <td>2.1</td>\n",
       "      <td>0.454</td>\n",
       "      <td>37.0</td>\n",
       "      <td>-4.421813</td>\n",
       "      <td>1</td>\n",
       "      <td>0</td>\n",
       "      <td>0</td>\n",
       "      <td>0</td>\n",
       "      <td>48</td>\n",
       "      <td>0</td>\n",
       "      <td>0</td>\n",
       "      <td>0</td>\n",
       "      <td>0</td>\n",
       "      <td>0</td>\n",
       "      <td>0</td>\n",
       "    </tr>\n",
       "    <tr>\n",
       "      <th>726</th>\n",
       "      <td>0</td>\n",
       "      <td>1</td>\n",
       "      <td>0</td>\n",
       "      <td>0</td>\n",
       "      <td>1.1</td>\n",
       "      <td>-3.6</td>\n",
       "      <td>6.1</td>\n",
       "      <td>0.0</td>\n",
       "      <td>3.7</td>\n",
       "      <td>2.0</td>\n",
       "      <td>0.476</td>\n",
       "      <td>47.0</td>\n",
       "      <td>-1.031852</td>\n",
       "      <td>1</td>\n",
       "      <td>0</td>\n",
       "      <td>0</td>\n",
       "      <td>0</td>\n",
       "      <td>24</td>\n",
       "      <td>0</td>\n",
       "      <td>0</td>\n",
       "      <td>0</td>\n",
       "      <td>0</td>\n",
       "      <td>0</td>\n",
       "      <td>0</td>\n",
       "    </tr>\n",
       "    <tr>\n",
       "      <th>727</th>\n",
       "      <td>0</td>\n",
       "      <td>1</td>\n",
       "      <td>0</td>\n",
       "      <td>0</td>\n",
       "      <td>3.8</td>\n",
       "      <td>1.1</td>\n",
       "      <td>6.2</td>\n",
       "      <td>1.4</td>\n",
       "      <td>4.4</td>\n",
       "      <td>2.9</td>\n",
       "      <td>0.525</td>\n",
       "      <td>47.0</td>\n",
       "      <td>1.284200</td>\n",
       "      <td>1</td>\n",
       "      <td>0</td>\n",
       "      <td>0</td>\n",
       "      <td>0</td>\n",
       "      <td>36</td>\n",
       "      <td>0</td>\n",
       "      <td>0</td>\n",
       "      <td>0</td>\n",
       "      <td>0</td>\n",
       "      <td>0</td>\n",
       "      <td>0</td>\n",
       "    </tr>\n",
       "    <tr>\n",
       "      <th>728</th>\n",
       "      <td>0</td>\n",
       "      <td>1</td>\n",
       "      <td>0</td>\n",
       "      <td>0</td>\n",
       "      <td>2.7</td>\n",
       "      <td>-5.7</td>\n",
       "      <td>6.8</td>\n",
       "      <td>0.4</td>\n",
       "      <td>7.4</td>\n",
       "      <td>2.9</td>\n",
       "      <td>0.703</td>\n",
       "      <td>43.0</td>\n",
       "      <td>-0.033338</td>\n",
       "      <td>1</td>\n",
       "      <td>0</td>\n",
       "      <td>0</td>\n",
       "      <td>0</td>\n",
       "      <td>84</td>\n",
       "      <td>0</td>\n",
       "      <td>0</td>\n",
       "      <td>0</td>\n",
       "      <td>0</td>\n",
       "      <td>1</td>\n",
       "      <td>1</td>\n",
       "    </tr>\n",
       "    <tr>\n",
       "      <th>729</th>\n",
       "      <td>0</td>\n",
       "      <td>1</td>\n",
       "      <td>0</td>\n",
       "      <td>0</td>\n",
       "      <td>-7.9</td>\n",
       "      <td>-10.9</td>\n",
       "      <td>-4.5</td>\n",
       "      <td>0.0</td>\n",
       "      <td>7.5</td>\n",
       "      <td>3.1</td>\n",
       "      <td>0.393</td>\n",
       "      <td>31.0</td>\n",
       "      <td>-12.955861</td>\n",
       "      <td>1</td>\n",
       "      <td>0</td>\n",
       "      <td>0</td>\n",
       "      <td>0</td>\n",
       "      <td>33</td>\n",
       "      <td>0</td>\n",
       "      <td>0</td>\n",
       "      <td>0</td>\n",
       "      <td>0</td>\n",
       "      <td>1</td>\n",
       "      <td>0</td>\n",
       "    </tr>\n",
       "  </tbody>\n",
       "</table>\n",
       "<p>730 rows × 24 columns</p>\n",
       "</div>"
      ],
      "text/plain": [
       "     가을  겨울  봄  여름  평균기온(°C)  ...  태풍 경보  폭염 주의보  폭염 경보  한파 주의보  한파 경보\n",
       "0     0   1  0   0      -1.3  ...      0       0      0       1      0\n",
       "1     0   1  0   0      -1.8  ...      0       0      0       1      0\n",
       "2     0   1  0   0      -4.7  ...      0       0      0       1      0\n",
       "3     0   1  0   0      -4.7  ...      0       0      0       0      0\n",
       "4     0   1  0   0      -3.0  ...      0       0      0       0      0\n",
       "..   ..  .. ..  ..       ...  ...    ...     ...    ...     ...    ...\n",
       "725   0   1  0   0      -1.7  ...      0       0      0       0      0\n",
       "726   0   1  0   0       1.1  ...      0       0      0       0      0\n",
       "727   0   1  0   0       3.8  ...      0       0      0       0      0\n",
       "728   0   1  0   0       2.7  ...      0       0      0       1      1\n",
       "729   0   1  0   0      -7.9  ...      0       0      0       1      0\n",
       "\n",
       "[730 rows x 24 columns]"
      ]
     },
     "execution_count": 20,
     "metadata": {
      "tags": []
     },
     "output_type": "execute_result"
    }
   ],
   "source": [
    "total"
   ]
  },
  {
   "cell_type": "code",
   "execution_count": 21,
   "metadata": {
    "colab": {
     "base_uri": "https://localhost:8080/",
     "height": 1000
    },
    "executionInfo": {
     "elapsed": 505,
     "status": "ok",
     "timestamp": 1624854309017,
     "user": {
      "displayName": "김미섭",
      "photoUrl": "",
      "userId": "10860151424334307550"
     },
     "user_tz": -540
    },
    "id": "02Rk8V_Fm5gQ",
    "outputId": "865554d2-216a-4607-8417-1f32f0aba91b"
   },
   "outputs": [
    {
     "data": {
      "text/html": [
       "<div>\n",
       "<style scoped>\n",
       "    .dataframe tbody tr th:only-of-type {\n",
       "        vertical-align: middle;\n",
       "    }\n",
       "\n",
       "    .dataframe tbody tr th {\n",
       "        vertical-align: top;\n",
       "    }\n",
       "\n",
       "    .dataframe thead th {\n",
       "        text-align: right;\n",
       "    }\n",
       "</style>\n",
       "<table border=\"1\" class=\"dataframe\">\n",
       "  <thead>\n",
       "    <tr style=\"text-align: right;\">\n",
       "      <th></th>\n",
       "      <th>가을</th>\n",
       "      <th>겨울</th>\n",
       "      <th>봄</th>\n",
       "      <th>여름</th>\n",
       "      <th>평균기온(°C)</th>\n",
       "      <th>최저기온(°C)</th>\n",
       "      <th>최고기온(°C)</th>\n",
       "      <th>일강수량(mm)</th>\n",
       "      <th>최대 풍속(m/s)</th>\n",
       "      <th>평균 풍속(m/s)</th>\n",
       "      <th>평균 상대습도(%)</th>\n",
       "      <th>미세먼지</th>\n",
       "      <th>체감온도</th>\n",
       "      <th>THI낮음</th>\n",
       "      <th>THI높음</th>\n",
       "      <th>THI매우높음</th>\n",
       "      <th>THI보통</th>\n",
       "      <th>qty</th>\n",
       "      <th>태풍 주의보</th>\n",
       "      <th>태풍 경보</th>\n",
       "      <th>폭염 주의보</th>\n",
       "      <th>폭염 경보</th>\n",
       "      <th>한파 주의보</th>\n",
       "      <th>한파 경보</th>\n",
       "    </tr>\n",
       "  </thead>\n",
       "  <tbody>\n",
       "    <tr>\n",
       "      <th>가을</th>\n",
       "      <td>1.000000</td>\n",
       "      <td>-0.329686</td>\n",
       "      <td>-0.334548</td>\n",
       "      <td>-0.334548</td>\n",
       "      <td>0.080814</td>\n",
       "      <td>0.079023</td>\n",
       "      <td>0.086869</td>\n",
       "      <td>-0.000049</td>\n",
       "      <td>-0.066984</td>\n",
       "      <td>-0.012164</td>\n",
       "      <td>0.113549</td>\n",
       "      <td>-0.213189</td>\n",
       "      <td>0.083832</td>\n",
       "      <td>0.096176</td>\n",
       "      <td>-0.142319</td>\n",
       "      <td>-0.123394</td>\n",
       "      <td>0.046896</td>\n",
       "      <td>0.282177</td>\n",
       "      <td>0.097255</td>\n",
       "      <td>0.112553</td>\n",
       "      <td>-0.187586</td>\n",
       "      <td>-0.138756</td>\n",
       "      <td>-0.099056</td>\n",
       "      <td>-0.086269</td>\n",
       "    </tr>\n",
       "    <tr>\n",
       "      <th>겨울</th>\n",
       "      <td>-0.329686</td>\n",
       "      <td>1.000000</td>\n",
       "      <td>-0.332099</td>\n",
       "      <td>-0.332099</td>\n",
       "      <td>-0.743724</td>\n",
       "      <td>-0.726450</td>\n",
       "      <td>-0.753623</td>\n",
       "      <td>-0.134663</td>\n",
       "      <td>0.045130</td>\n",
       "      <td>0.087859</td>\n",
       "      <td>-0.331912</td>\n",
       "      <td>0.313679</td>\n",
       "      <td>-0.740367</td>\n",
       "      <td>0.386771</td>\n",
       "      <td>-0.164899</td>\n",
       "      <td>-0.122490</td>\n",
       "      <td>-0.279903</td>\n",
       "      <td>0.140488</td>\n",
       "      <td>-0.096015</td>\n",
       "      <td>-0.090960</td>\n",
       "      <td>-0.196446</td>\n",
       "      <td>-0.137740</td>\n",
       "      <td>0.419525</td>\n",
       "      <td>0.261671</td>\n",
       "    </tr>\n",
       "    <tr>\n",
       "      <th>봄</th>\n",
       "      <td>-0.334548</td>\n",
       "      <td>-0.332099</td>\n",
       "      <td>1.000000</td>\n",
       "      <td>-0.336996</td>\n",
       "      <td>-0.017021</td>\n",
       "      <td>-0.049425</td>\n",
       "      <td>0.013011</td>\n",
       "      <td>-0.010627</td>\n",
       "      <td>0.164986</td>\n",
       "      <td>0.095072</td>\n",
       "      <td>-0.106222</td>\n",
       "      <td>0.243340</td>\n",
       "      <td>-0.019836</td>\n",
       "      <td>0.317679</td>\n",
       "      <td>-0.167331</td>\n",
       "      <td>-0.124297</td>\n",
       "      <td>-0.196119</td>\n",
       "      <td>-0.143870</td>\n",
       "      <td>-0.097431</td>\n",
       "      <td>-0.092302</td>\n",
       "      <td>-0.158259</td>\n",
       "      <td>-0.139771</td>\n",
       "      <td>-0.147214</td>\n",
       "      <td>-0.086901</td>\n",
       "    </tr>\n",
       "    <tr>\n",
       "      <th>여름</th>\n",
       "      <td>-0.334548</td>\n",
       "      <td>-0.332099</td>\n",
       "      <td>-0.336996</td>\n",
       "      <td>1.000000</td>\n",
       "      <td>0.674784</td>\n",
       "      <td>0.691826</td>\n",
       "      <td>0.648547</td>\n",
       "      <td>0.144354</td>\n",
       "      <td>-0.143045</td>\n",
       "      <td>-0.170168</td>\n",
       "      <td>0.322570</td>\n",
       "      <td>-0.342310</td>\n",
       "      <td>0.671260</td>\n",
       "      <td>-0.797449</td>\n",
       "      <td>0.472827</td>\n",
       "      <td>0.368837</td>\n",
       "      <td>0.427250</td>\n",
       "      <td>-0.276743</td>\n",
       "      <td>0.095843</td>\n",
       "      <td>0.070452</td>\n",
       "      <td>0.540174</td>\n",
       "      <td>0.414756</td>\n",
       "      <td>-0.170546</td>\n",
       "      <td>-0.086901</td>\n",
       "    </tr>\n",
       "    <tr>\n",
       "      <th>평균기온(°C)</th>\n",
       "      <td>0.080814</td>\n",
       "      <td>-0.743724</td>\n",
       "      <td>-0.017021</td>\n",
       "      <td>0.674784</td>\n",
       "      <td>1.000000</td>\n",
       "      <td>0.989876</td>\n",
       "      <td>0.990516</td>\n",
       "      <td>0.155002</td>\n",
       "      <td>-0.163949</td>\n",
       "      <td>-0.211659</td>\n",
       "      <td>0.437886</td>\n",
       "      <td>-0.356228</td>\n",
       "      <td>0.998971</td>\n",
       "      <td>-0.760483</td>\n",
       "      <td>0.374527</td>\n",
       "      <td>0.349329</td>\n",
       "      <td>0.460188</td>\n",
       "      <td>-0.219980</td>\n",
       "      <td>0.168236</td>\n",
       "      <td>0.164223</td>\n",
       "      <td>0.436301</td>\n",
       "      <td>0.350873</td>\n",
       "      <td>-0.421357</td>\n",
       "      <td>-0.268569</td>\n",
       "    </tr>\n",
       "    <tr>\n",
       "      <th>최저기온(°C)</th>\n",
       "      <td>0.079023</td>\n",
       "      <td>-0.726450</td>\n",
       "      <td>-0.049425</td>\n",
       "      <td>0.691826</td>\n",
       "      <td>0.989876</td>\n",
       "      <td>1.000000</td>\n",
       "      <td>0.965369</td>\n",
       "      <td>0.204952</td>\n",
       "      <td>-0.152203</td>\n",
       "      <td>-0.188330</td>\n",
       "      <td>0.505011</td>\n",
       "      <td>-0.375117</td>\n",
       "      <td>0.987893</td>\n",
       "      <td>-0.779746</td>\n",
       "      <td>0.392618</td>\n",
       "      <td>0.353910</td>\n",
       "      <td>0.468256</td>\n",
       "      <td>-0.221440</td>\n",
       "      <td>0.184880</td>\n",
       "      <td>0.172734</td>\n",
       "      <td>0.437481</td>\n",
       "      <td>0.357378</td>\n",
       "      <td>-0.415311</td>\n",
       "      <td>-0.258566</td>\n",
       "    </tr>\n",
       "    <tr>\n",
       "      <th>최고기온(°C)</th>\n",
       "      <td>0.086869</td>\n",
       "      <td>-0.753623</td>\n",
       "      <td>0.013011</td>\n",
       "      <td>0.648547</td>\n",
       "      <td>0.990516</td>\n",
       "      <td>0.965369</td>\n",
       "      <td>1.000000</td>\n",
       "      <td>0.102002</td>\n",
       "      <td>-0.172443</td>\n",
       "      <td>-0.229623</td>\n",
       "      <td>0.363368</td>\n",
       "      <td>-0.330439</td>\n",
       "      <td>0.990350</td>\n",
       "      <td>-0.728421</td>\n",
       "      <td>0.343597</td>\n",
       "      <td>0.345300</td>\n",
       "      <td>0.445443</td>\n",
       "      <td>-0.219414</td>\n",
       "      <td>0.149334</td>\n",
       "      <td>0.148403</td>\n",
       "      <td>0.429251</td>\n",
       "      <td>0.339674</td>\n",
       "      <td>-0.422948</td>\n",
       "      <td>-0.272632</td>\n",
       "    </tr>\n",
       "    <tr>\n",
       "      <th>일강수량(mm)</th>\n",
       "      <td>-0.000049</td>\n",
       "      <td>-0.134663</td>\n",
       "      <td>-0.010627</td>\n",
       "      <td>0.144354</td>\n",
       "      <td>0.155002</td>\n",
       "      <td>0.204952</td>\n",
       "      <td>0.102002</td>\n",
       "      <td>1.000000</td>\n",
       "      <td>0.044620</td>\n",
       "      <td>-0.055404</td>\n",
       "      <td>0.519296</td>\n",
       "      <td>-0.134040</td>\n",
       "      <td>0.154938</td>\n",
       "      <td>-0.178369</td>\n",
       "      <td>0.107629</td>\n",
       "      <td>-0.039684</td>\n",
       "      <td>0.157669</td>\n",
       "      <td>-0.040720</td>\n",
       "      <td>0.129000</td>\n",
       "      <td>0.076453</td>\n",
       "      <td>0.084669</td>\n",
       "      <td>0.041814</td>\n",
       "      <td>-0.064331</td>\n",
       "      <td>-0.038122</td>\n",
       "    </tr>\n",
       "    <tr>\n",
       "      <th>최대 풍속(m/s)</th>\n",
       "      <td>-0.066984</td>\n",
       "      <td>0.045130</td>\n",
       "      <td>0.164986</td>\n",
       "      <td>-0.143045</td>\n",
       "      <td>-0.163949</td>\n",
       "      <td>-0.152203</td>\n",
       "      <td>-0.172443</td>\n",
       "      <td>0.044620</td>\n",
       "      <td>1.000000</td>\n",
       "      <td>0.789998</td>\n",
       "      <td>-0.104570</td>\n",
       "      <td>-0.023710</td>\n",
       "      <td>-0.193448</td>\n",
       "      <td>0.123443</td>\n",
       "      <td>-0.042526</td>\n",
       "      <td>-0.058708</td>\n",
       "      <td>-0.085975</td>\n",
       "      <td>0.077356</td>\n",
       "      <td>0.057247</td>\n",
       "      <td>0.061473</td>\n",
       "      <td>-0.061155</td>\n",
       "      <td>-0.065340</td>\n",
       "      <td>0.268140</td>\n",
       "      <td>0.177629</td>\n",
       "    </tr>\n",
       "    <tr>\n",
       "      <th>평균 풍속(m/s)</th>\n",
       "      <td>-0.012164</td>\n",
       "      <td>0.087859</td>\n",
       "      <td>0.095072</td>\n",
       "      <td>-0.170168</td>\n",
       "      <td>-0.211659</td>\n",
       "      <td>-0.188330</td>\n",
       "      <td>-0.229623</td>\n",
       "      <td>-0.055404</td>\n",
       "      <td>0.789998</td>\n",
       "      <td>1.000000</td>\n",
       "      <td>-0.150982</td>\n",
       "      <td>-0.096303</td>\n",
       "      <td>-0.248626</td>\n",
       "      <td>0.143172</td>\n",
       "      <td>-0.034847</td>\n",
       "      <td>-0.091734</td>\n",
       "      <td>-0.097213</td>\n",
       "      <td>0.103659</td>\n",
       "      <td>0.068852</td>\n",
       "      <td>0.112668</td>\n",
       "      <td>-0.072544</td>\n",
       "      <td>-0.081045</td>\n",
       "      <td>0.314753</td>\n",
       "      <td>0.250492</td>\n",
       "    </tr>\n",
       "    <tr>\n",
       "      <th>평균 상대습도(%)</th>\n",
       "      <td>0.113549</td>\n",
       "      <td>-0.331912</td>\n",
       "      <td>-0.106222</td>\n",
       "      <td>0.322570</td>\n",
       "      <td>0.437886</td>\n",
       "      <td>0.505011</td>\n",
       "      <td>0.363368</td>\n",
       "      <td>0.519296</td>\n",
       "      <td>-0.104570</td>\n",
       "      <td>-0.150982</td>\n",
       "      <td>1.000000</td>\n",
       "      <td>-0.167842</td>\n",
       "      <td>0.440903</td>\n",
       "      <td>-0.380149</td>\n",
       "      <td>0.263658</td>\n",
       "      <td>0.070847</td>\n",
       "      <td>0.232324</td>\n",
       "      <td>-0.056312</td>\n",
       "      <td>0.150998</td>\n",
       "      <td>0.112806</td>\n",
       "      <td>0.161573</td>\n",
       "      <td>0.157624</td>\n",
       "      <td>-0.212010</td>\n",
       "      <td>-0.121368</td>\n",
       "    </tr>\n",
       "    <tr>\n",
       "      <th>미세먼지</th>\n",
       "      <td>-0.213189</td>\n",
       "      <td>0.313679</td>\n",
       "      <td>0.243340</td>\n",
       "      <td>-0.342310</td>\n",
       "      <td>-0.356228</td>\n",
       "      <td>-0.375117</td>\n",
       "      <td>-0.330439</td>\n",
       "      <td>-0.134040</td>\n",
       "      <td>-0.023710</td>\n",
       "      <td>-0.096303</td>\n",
       "      <td>-0.167842</td>\n",
       "      <td>1.000000</td>\n",
       "      <td>-0.346123</td>\n",
       "      <td>0.378931</td>\n",
       "      <td>-0.182813</td>\n",
       "      <td>-0.140340</td>\n",
       "      <td>-0.249355</td>\n",
       "      <td>0.044123</td>\n",
       "      <td>-0.154509</td>\n",
       "      <td>-0.139493</td>\n",
       "      <td>-0.188543</td>\n",
       "      <td>-0.154898</td>\n",
       "      <td>0.044678</td>\n",
       "      <td>-0.037591</td>\n",
       "    </tr>\n",
       "    <tr>\n",
       "      <th>체감온도</th>\n",
       "      <td>0.083832</td>\n",
       "      <td>-0.740367</td>\n",
       "      <td>-0.019836</td>\n",
       "      <td>0.671260</td>\n",
       "      <td>0.998971</td>\n",
       "      <td>0.987893</td>\n",
       "      <td>0.990350</td>\n",
       "      <td>0.154938</td>\n",
       "      <td>-0.193448</td>\n",
       "      <td>-0.248626</td>\n",
       "      <td>0.440903</td>\n",
       "      <td>-0.346123</td>\n",
       "      <td>1.000000</td>\n",
       "      <td>-0.756352</td>\n",
       "      <td>0.371938</td>\n",
       "      <td>0.346302</td>\n",
       "      <td>0.458647</td>\n",
       "      <td>-0.221665</td>\n",
       "      <td>0.166184</td>\n",
       "      <td>0.161617</td>\n",
       "      <td>0.433151</td>\n",
       "      <td>0.348150</td>\n",
       "      <td>-0.434234</td>\n",
       "      <td>-0.282565</td>\n",
       "    </tr>\n",
       "    <tr>\n",
       "      <th>THI낮음</th>\n",
       "      <td>0.096176</td>\n",
       "      <td>0.386771</td>\n",
       "      <td>0.317679</td>\n",
       "      <td>-0.797449</td>\n",
       "      <td>-0.760483</td>\n",
       "      <td>-0.779746</td>\n",
       "      <td>-0.728421</td>\n",
       "      <td>-0.178369</td>\n",
       "      <td>0.123443</td>\n",
       "      <td>0.143172</td>\n",
       "      <td>-0.380149</td>\n",
       "      <td>0.378931</td>\n",
       "      <td>-0.756352</td>\n",
       "      <td>1.000000</td>\n",
       "      <td>-0.426349</td>\n",
       "      <td>-0.316700</td>\n",
       "      <td>-0.723691</td>\n",
       "      <td>0.181352</td>\n",
       "      <td>-0.139733</td>\n",
       "      <td>-0.139991</td>\n",
       "      <td>-0.469468</td>\n",
       "      <td>-0.356128</td>\n",
       "      <td>0.198622</td>\n",
       "      <td>0.101207</td>\n",
       "    </tr>\n",
       "    <tr>\n",
       "      <th>THI높음</th>\n",
       "      <td>-0.142319</td>\n",
       "      <td>-0.164899</td>\n",
       "      <td>-0.167331</td>\n",
       "      <td>0.472827</td>\n",
       "      <td>0.374527</td>\n",
       "      <td>0.392618</td>\n",
       "      <td>0.343597</td>\n",
       "      <td>0.107629</td>\n",
       "      <td>-0.042526</td>\n",
       "      <td>-0.034847</td>\n",
       "      <td>0.263658</td>\n",
       "      <td>-0.182813</td>\n",
       "      <td>0.371938</td>\n",
       "      <td>-0.426349</td>\n",
       "      <td>1.000000</td>\n",
       "      <td>-0.061718</td>\n",
       "      <td>-0.141031</td>\n",
       "      <td>-0.094035</td>\n",
       "      <td>0.203880</td>\n",
       "      <td>0.219698</td>\n",
       "      <td>0.420487</td>\n",
       "      <td>0.405566</td>\n",
       "      <td>-0.084682</td>\n",
       "      <td>-0.043149</td>\n",
       "    </tr>\n",
       "    <tr>\n",
       "      <th>THI매우높음</th>\n",
       "      <td>-0.123394</td>\n",
       "      <td>-0.122490</td>\n",
       "      <td>-0.124297</td>\n",
       "      <td>0.368837</td>\n",
       "      <td>0.349329</td>\n",
       "      <td>0.353910</td>\n",
       "      <td>0.345300</td>\n",
       "      <td>-0.039684</td>\n",
       "      <td>-0.058708</td>\n",
       "      <td>-0.091734</td>\n",
       "      <td>0.070847</td>\n",
       "      <td>-0.140340</td>\n",
       "      <td>0.346302</td>\n",
       "      <td>-0.316700</td>\n",
       "      <td>-0.061718</td>\n",
       "      <td>1.000000</td>\n",
       "      <td>-0.104761</td>\n",
       "      <td>-0.187287</td>\n",
       "      <td>0.046043</td>\n",
       "      <td>0.009102</td>\n",
       "      <td>0.318569</td>\n",
       "      <td>0.418867</td>\n",
       "      <td>-0.062904</td>\n",
       "      <td>-0.032052</td>\n",
       "    </tr>\n",
       "    <tr>\n",
       "      <th>THI보통</th>\n",
       "      <td>0.046896</td>\n",
       "      <td>-0.279903</td>\n",
       "      <td>-0.196119</td>\n",
       "      <td>0.427250</td>\n",
       "      <td>0.460188</td>\n",
       "      <td>0.468256</td>\n",
       "      <td>0.445443</td>\n",
       "      <td>0.157669</td>\n",
       "      <td>-0.085975</td>\n",
       "      <td>-0.097213</td>\n",
       "      <td>0.232324</td>\n",
       "      <td>-0.249355</td>\n",
       "      <td>0.458647</td>\n",
       "      <td>-0.723691</td>\n",
       "      <td>-0.141031</td>\n",
       "      <td>-0.104761</td>\n",
       "      <td>1.000000</td>\n",
       "      <td>-0.052632</td>\n",
       "      <td>0.002912</td>\n",
       "      <td>0.011709</td>\n",
       "      <td>0.103110</td>\n",
       "      <td>-0.072061</td>\n",
       "      <td>-0.143741</td>\n",
       "      <td>-0.073242</td>\n",
       "    </tr>\n",
       "    <tr>\n",
       "      <th>qty</th>\n",
       "      <td>0.282177</td>\n",
       "      <td>0.140488</td>\n",
       "      <td>-0.143870</td>\n",
       "      <td>-0.276743</td>\n",
       "      <td>-0.219980</td>\n",
       "      <td>-0.221440</td>\n",
       "      <td>-0.219414</td>\n",
       "      <td>-0.040720</td>\n",
       "      <td>0.077356</td>\n",
       "      <td>0.103659</td>\n",
       "      <td>-0.056312</td>\n",
       "      <td>0.044123</td>\n",
       "      <td>-0.221665</td>\n",
       "      <td>0.181352</td>\n",
       "      <td>-0.094035</td>\n",
       "      <td>-0.187287</td>\n",
       "      <td>-0.052632</td>\n",
       "      <td>1.000000</td>\n",
       "      <td>-0.056516</td>\n",
       "      <td>-0.065692</td>\n",
       "      <td>-0.214298</td>\n",
       "      <td>-0.187278</td>\n",
       "      <td>0.126618</td>\n",
       "      <td>0.055818</td>\n",
       "    </tr>\n",
       "    <tr>\n",
       "      <th>태풍 주의보</th>\n",
       "      <td>0.097255</td>\n",
       "      <td>-0.096015</td>\n",
       "      <td>-0.097431</td>\n",
       "      <td>0.095843</td>\n",
       "      <td>0.168236</td>\n",
       "      <td>0.184880</td>\n",
       "      <td>0.149334</td>\n",
       "      <td>0.129000</td>\n",
       "      <td>0.057247</td>\n",
       "      <td>0.068852</td>\n",
       "      <td>0.150998</td>\n",
       "      <td>-0.154509</td>\n",
       "      <td>0.166184</td>\n",
       "      <td>-0.139733</td>\n",
       "      <td>0.203880</td>\n",
       "      <td>0.046043</td>\n",
       "      <td>0.002912</td>\n",
       "      <td>-0.056516</td>\n",
       "      <td>1.000000</td>\n",
       "      <td>0.676784</td>\n",
       "      <td>-0.002994</td>\n",
       "      <td>-0.040410</td>\n",
       "      <td>-0.049308</td>\n",
       "      <td>-0.025124</td>\n",
       "    </tr>\n",
       "    <tr>\n",
       "      <th>태풍 경보</th>\n",
       "      <td>0.112553</td>\n",
       "      <td>-0.090960</td>\n",
       "      <td>-0.092302</td>\n",
       "      <td>0.070452</td>\n",
       "      <td>0.164223</td>\n",
       "      <td>0.172734</td>\n",
       "      <td>0.148403</td>\n",
       "      <td>0.076453</td>\n",
       "      <td>0.061473</td>\n",
       "      <td>0.112668</td>\n",
       "      <td>0.112806</td>\n",
       "      <td>-0.139493</td>\n",
       "      <td>0.161617</td>\n",
       "      <td>-0.139991</td>\n",
       "      <td>0.219698</td>\n",
       "      <td>0.009102</td>\n",
       "      <td>0.011709</td>\n",
       "      <td>-0.065692</td>\n",
       "      <td>0.676784</td>\n",
       "      <td>1.000000</td>\n",
       "      <td>0.031672</td>\n",
       "      <td>-0.038283</td>\n",
       "      <td>-0.046712</td>\n",
       "      <td>-0.023802</td>\n",
       "    </tr>\n",
       "    <tr>\n",
       "      <th>폭염 주의보</th>\n",
       "      <td>-0.187586</td>\n",
       "      <td>-0.196446</td>\n",
       "      <td>-0.158259</td>\n",
       "      <td>0.540174</td>\n",
       "      <td>0.436301</td>\n",
       "      <td>0.437481</td>\n",
       "      <td>0.429251</td>\n",
       "      <td>0.084669</td>\n",
       "      <td>-0.061155</td>\n",
       "      <td>-0.072544</td>\n",
       "      <td>0.161573</td>\n",
       "      <td>-0.188543</td>\n",
       "      <td>0.433151</td>\n",
       "      <td>-0.469468</td>\n",
       "      <td>0.420487</td>\n",
       "      <td>0.318569</td>\n",
       "      <td>0.103110</td>\n",
       "      <td>-0.214298</td>\n",
       "      <td>-0.002994</td>\n",
       "      <td>0.031672</td>\n",
       "      <td>1.000000</td>\n",
       "      <td>0.544392</td>\n",
       "      <td>-0.100883</td>\n",
       "      <td>-0.051404</td>\n",
       "    </tr>\n",
       "    <tr>\n",
       "      <th>폭염 경보</th>\n",
       "      <td>-0.138756</td>\n",
       "      <td>-0.137740</td>\n",
       "      <td>-0.139771</td>\n",
       "      <td>0.414756</td>\n",
       "      <td>0.350873</td>\n",
       "      <td>0.357378</td>\n",
       "      <td>0.339674</td>\n",
       "      <td>0.041814</td>\n",
       "      <td>-0.065340</td>\n",
       "      <td>-0.081045</td>\n",
       "      <td>0.157624</td>\n",
       "      <td>-0.154898</td>\n",
       "      <td>0.348150</td>\n",
       "      <td>-0.356128</td>\n",
       "      <td>0.405566</td>\n",
       "      <td>0.418867</td>\n",
       "      <td>-0.072061</td>\n",
       "      <td>-0.187278</td>\n",
       "      <td>-0.040410</td>\n",
       "      <td>-0.038283</td>\n",
       "      <td>0.544392</td>\n",
       "      <td>1.000000</td>\n",
       "      <td>-0.070735</td>\n",
       "      <td>-0.036043</td>\n",
       "    </tr>\n",
       "    <tr>\n",
       "      <th>한파 주의보</th>\n",
       "      <td>-0.099056</td>\n",
       "      <td>0.419525</td>\n",
       "      <td>-0.147214</td>\n",
       "      <td>-0.170546</td>\n",
       "      <td>-0.421357</td>\n",
       "      <td>-0.415311</td>\n",
       "      <td>-0.422948</td>\n",
       "      <td>-0.064331</td>\n",
       "      <td>0.268140</td>\n",
       "      <td>0.314753</td>\n",
       "      <td>-0.212010</td>\n",
       "      <td>0.044678</td>\n",
       "      <td>-0.434234</td>\n",
       "      <td>0.198622</td>\n",
       "      <td>-0.084682</td>\n",
       "      <td>-0.062904</td>\n",
       "      <td>-0.143741</td>\n",
       "      <td>0.126618</td>\n",
       "      <td>-0.049308</td>\n",
       "      <td>-0.046712</td>\n",
       "      <td>-0.100883</td>\n",
       "      <td>-0.070735</td>\n",
       "      <td>1.000000</td>\n",
       "      <td>0.474949</td>\n",
       "    </tr>\n",
       "    <tr>\n",
       "      <th>한파 경보</th>\n",
       "      <td>-0.086269</td>\n",
       "      <td>0.261671</td>\n",
       "      <td>-0.086901</td>\n",
       "      <td>-0.086901</td>\n",
       "      <td>-0.268569</td>\n",
       "      <td>-0.258566</td>\n",
       "      <td>-0.272632</td>\n",
       "      <td>-0.038122</td>\n",
       "      <td>0.177629</td>\n",
       "      <td>0.250492</td>\n",
       "      <td>-0.121368</td>\n",
       "      <td>-0.037591</td>\n",
       "      <td>-0.282565</td>\n",
       "      <td>0.101207</td>\n",
       "      <td>-0.043149</td>\n",
       "      <td>-0.032052</td>\n",
       "      <td>-0.073242</td>\n",
       "      <td>0.055818</td>\n",
       "      <td>-0.025124</td>\n",
       "      <td>-0.023802</td>\n",
       "      <td>-0.051404</td>\n",
       "      <td>-0.036043</td>\n",
       "      <td>0.474949</td>\n",
       "      <td>1.000000</td>\n",
       "    </tr>\n",
       "  </tbody>\n",
       "</table>\n",
       "</div>"
      ],
      "text/plain": [
       "                  가을        겨울         봄  ...     폭염 경보    한파 주의보     한파 경보\n",
       "가을          1.000000 -0.329686 -0.334548  ... -0.138756 -0.099056 -0.086269\n",
       "겨울         -0.329686  1.000000 -0.332099  ... -0.137740  0.419525  0.261671\n",
       "봄          -0.334548 -0.332099  1.000000  ... -0.139771 -0.147214 -0.086901\n",
       "여름         -0.334548 -0.332099 -0.336996  ...  0.414756 -0.170546 -0.086901\n",
       "평균기온(°C)    0.080814 -0.743724 -0.017021  ...  0.350873 -0.421357 -0.268569\n",
       "최저기온(°C)    0.079023 -0.726450 -0.049425  ...  0.357378 -0.415311 -0.258566\n",
       "최고기온(°C)    0.086869 -0.753623  0.013011  ...  0.339674 -0.422948 -0.272632\n",
       "일강수량(mm)   -0.000049 -0.134663 -0.010627  ...  0.041814 -0.064331 -0.038122\n",
       "최대 풍속(m/s) -0.066984  0.045130  0.164986  ... -0.065340  0.268140  0.177629\n",
       "평균 풍속(m/s) -0.012164  0.087859  0.095072  ... -0.081045  0.314753  0.250492\n",
       "평균 상대습도(%)  0.113549 -0.331912 -0.106222  ...  0.157624 -0.212010 -0.121368\n",
       "미세먼지       -0.213189  0.313679  0.243340  ... -0.154898  0.044678 -0.037591\n",
       "체감온도        0.083832 -0.740367 -0.019836  ...  0.348150 -0.434234 -0.282565\n",
       "THI낮음       0.096176  0.386771  0.317679  ... -0.356128  0.198622  0.101207\n",
       "THI높음      -0.142319 -0.164899 -0.167331  ...  0.405566 -0.084682 -0.043149\n",
       "THI매우높음    -0.123394 -0.122490 -0.124297  ...  0.418867 -0.062904 -0.032052\n",
       "THI보통       0.046896 -0.279903 -0.196119  ... -0.072061 -0.143741 -0.073242\n",
       "qty         0.282177  0.140488 -0.143870  ... -0.187278  0.126618  0.055818\n",
       "태풍 주의보      0.097255 -0.096015 -0.097431  ... -0.040410 -0.049308 -0.025124\n",
       "태풍 경보       0.112553 -0.090960 -0.092302  ... -0.038283 -0.046712 -0.023802\n",
       "폭염 주의보     -0.187586 -0.196446 -0.158259  ...  0.544392 -0.100883 -0.051404\n",
       "폭염 경보      -0.138756 -0.137740 -0.139771  ...  1.000000 -0.070735 -0.036043\n",
       "한파 주의보     -0.099056  0.419525 -0.147214  ... -0.070735  1.000000  0.474949\n",
       "한파 경보      -0.086269  0.261671 -0.086901  ... -0.036043  0.474949  1.000000\n",
       "\n",
       "[24 rows x 24 columns]"
      ]
     },
     "execution_count": 21,
     "metadata": {
      "tags": []
     },
     "output_type": "execute_result"
    }
   ],
   "source": [
    "total.corr()"
   ]
  },
  {
   "cell_type": "markdown",
   "metadata": {
    "id": "-ttBIqvqijSi"
   },
   "source": [
    "### 설명변수 & 종속변수 나누기 + 표준화"
   ]
  },
  {
   "cell_type": "code",
   "execution_count": 22,
   "metadata": {
    "executionInfo": {
     "elapsed": 8,
     "status": "ok",
     "timestamp": 1624854311634,
     "user": {
      "displayName": "김미섭",
      "photoUrl": "",
      "userId": "10860151424334307550"
     },
     "user_tz": -540
    },
    "id": "CKc2U0RnijSi"
   },
   "outputs": [],
   "source": [
    "# 구매 데이터\n",
    "y_target = total['qty']\n",
    "y_target = y_target/sum(y_target)*100 # 종속 변수는 전체 합에서 차지하는 비율\n",
    "X_data = total.drop(['qty'], axis=1, inplace=False)\n",
    "X_data = StandardScaler().fit_transform(X_data)"
   ]
  },
  {
   "cell_type": "code",
   "execution_count": null,
   "metadata": {
    "id": "oJhOuKcfijSi"
   },
   "outputs": [],
   "source": [
    "# 소셜 데이터\n",
    "y_target = total['cnt']\n",
    "y_target = y_target/sum(y_target)*100 # 종속 변수는 전체 합에서 차지하는 비율\n",
    "X_data = total.drop(['cnt'], axis=1, inplace=False)\n",
    "X_data = StandardScaler().fit_transform(X_data)"
   ]
  },
  {
   "cell_type": "markdown",
   "metadata": {
    "id": "WY06ddBpy9G7"
   },
   "source": [
    "## outlier 제거"
   ]
  },
  {
   "cell_type": "code",
   "execution_count": 23,
   "metadata": {
    "colab": {
     "base_uri": "https://localhost:8080/",
     "height": 352
    },
    "executionInfo": {
     "elapsed": 316,
     "status": "ok",
     "timestamp": 1624854337125,
     "user": {
      "displayName": "김미섭",
      "photoUrl": "",
      "userId": "10860151424334307550"
     },
     "user_tz": -540
    },
    "id": "55CNaL5Hy57n",
    "outputId": "d1b14dfd-e3f4-4f28-aa9a-bf98aa0330b0"
   },
   "outputs": [
    {
     "name": "stderr",
     "output_type": "stream",
     "text": [
      "/usr/local/lib/python3.7/dist-packages/seaborn/_decorators.py:43: FutureWarning: Pass the following variable as a keyword arg: x. From version 0.12, the only valid positional argument will be `data`, and passing other arguments without an explicit keyword will result in an error or misinterpretation.\n",
      "  FutureWarning\n"
     ]
    },
    {
     "data": {
      "text/plain": [
       "<matplotlib.axes._subplots.AxesSubplot at 0x7f14e1d68f10>"
      ]
     },
     "execution_count": 23,
     "metadata": {
      "tags": []
     },
     "output_type": "execute_result"
    },
    {
     "data": {
      "image/png": "[encoded data removed]",
      "text/plain": [
       "<Figure size 432x288 with 1 Axes>"
      ]
     },
     "metadata": {
      "needs_background": "light",
      "tags": []
     },
     "output_type": "display_data"
    }
   ],
   "source": [
    "sns.boxplot(y_target,color='red')"
   ]
  },
  {
   "cell_type": "code",
   "execution_count": null,
   "metadata": {
    "id": "izIdzBQxzADZ"
   },
   "outputs": [],
   "source": [
    "# outlier가 아닌 index를 도출하는 함수\n",
    "def outliers_iqr(data):\n",
    "  q1, q3 = np.percentile(data, [25,75])\n",
    "  iqr = q3 - q1\n",
    "  lower_bound = q1 - (iqr*1.5)\n",
    "  upper_bound = q3 + (iqr*1.5)\n",
    "\n",
    "  return np.where((data <= upper_bound) & (data >= lower_bound))"
   ]
  },
  {
   "cell_type": "code",
   "execution_count": null,
   "metadata": {
    "id": "yHPO0wBr0afn"
   },
   "outputs": [],
   "source": [
    "y_target_not_outlier_index = outliers_iqr(y_target)\n",
    "y_target_not_outlier_index = np.array(y_target_not_outlier_index)"
   ]
  },
  {
   "cell_type": "code",
   "execution_count": null,
   "metadata": {
    "id": "2f3BbUyp2CUC"
   },
   "outputs": [],
   "source": [
    "Y_target = []\n",
    "X_data = pd.DataFrame(X_data)\n",
    "new_X = pd.DataFrame(columns=range(X_data.shape[1]))\n",
    "for i in y_target.index :\n",
    "  if y_target.index[i] in y_target_not_outlier_index :\n",
    "    Y_target.append(y_target[i])\n",
    "    new_X = pd.concat([new_X,pd.DataFrame(X_data.iloc[i,:]).transpose()],axis=0)\n",
    "y_target = Y_target\n",
    "y_target = np.array(y_target)\n",
    "X_data = new_X.reset_index(drop=True)"
   ]
  },
  {
   "cell_type": "markdown",
   "metadata": {
    "id": "mHiQFy6zoU6d"
   },
   "source": [
    "## 설명변수 간 상관관계 분석"
   ]
  },
  {
   "cell_type": "code",
   "execution_count": null,
   "metadata": {
    "id": "x-LYjGiSoXRe"
   },
   "outputs": [],
   "source": [
    "X_data = pd.DataFrame(X_data)\n",
    "df = X_data.corr()"
   ]
  },
  {
   "cell_type": "code",
   "execution_count": null,
   "metadata": {
    "id": "XpgB1QpuoZIw"
   },
   "outputs": [],
   "source": [
    "sns.clustermap(df, \n",
    "               annot = True,      # 실제 값 화면에 나타내기\n",
    "               cmap = 'RdYlBu_r',  # Red, Yellow, Blue 색상으로 표시\n",
    "               vmin = -1, vmax = 1, #컬러차트 -1 ~ 1 범위로 표시\n",
    "              )"
   ]
  },
  {
   "cell_type": "code",
   "execution_count": null,
   "metadata": {
    "id": "fIow6u1Wq3w8"
   },
   "outputs": [],
   "source": [
    "vif = pd.DataFrame()\n",
    "vif[\"VIF Factor\"] = [variance_inflation_factor(X_data.values, i) for i in range(X_data.shape[1])]\n",
    "vif[\"features\"] = X_data.columns\n",
    "vif"
   ]
  },
  {
   "cell_type": "markdown",
   "metadata": {
    "id": "cv9fKE8wijSi"
   },
   "source": [
    "### 한글 폰트"
   ]
  },
  {
   "cell_type": "code",
   "execution_count": null,
   "metadata": {
    "id": "F0Zpi3EVijSj"
   },
   "outputs": [],
   "source": [
    "import platform\n",
    "platform.system()\n",
    "\n",
    "if platform.system() == 'Darwin': # Mac 환경 폰트 설정\n",
    "    plt.rc('font', family='AppleGothic')\n",
    "elif platform.system() == 'Windows': # Windows 환경 폰트 설정\n",
    "    plt.rc('font', family='Malgun Gothic')\n",
    "\n",
    "plt.rc('axes', unicode_minus=False) # 마이너스 폰트 설정\n",
    "\n",
    "\n",
    "# 글씨 선명하게 출력하는 설정\n",
    "%config InlineBackend.figure_format = 'retina'"
   ]
  },
  {
   "cell_type": "markdown",
   "metadata": {
    "id": "b1NEUq7k9X9b"
   },
   "source": [
    "시간에 따른 구매량 추세"
   ]
  },
  {
   "cell_type": "code",
   "execution_count": null,
   "metadata": {
    "id": "Wh0nV4x37Gs2"
   },
   "outputs": [],
   "source": [
    "plt.style.use('ggplot')\n",
    "fig = plt.figure()\n",
    "ax = fig.add_subplot(111)\n",
    "\n",
    "ax.plot(time_step, food1, label='참외/메론/수박')\n",
    "ax.plot(time_step, food2, label='감귤/한라봉/오렌지')\n",
    "ax.plot(time_step, food3, label='계란')\n",
    "\n",
    "ax.set_title('판매량 추세')\n",
    "ax.set_ylabel('판매량')\n",
    "ax.set_xlabel('시간')\n",
    "ax.legend()\n",
    "plt.show()"
   ]
  },
  {
   "cell_type": "markdown",
   "metadata": {
    "id": "0rgRr8iWijSj"
   },
   "source": [
    "# Train Test Split"
   ]
  },
  {
   "cell_type": "code",
   "execution_count": null,
   "metadata": {
    "id": "_d_ziimsijSj"
   },
   "outputs": [],
   "source": [
    "from sklearn.model_selection import train_test_split\n",
    "import xgboost as xgb\n",
    "from sklearn.ensemble import RandomForestRegressor\n",
    "import pandas as pd\n",
    "import numpy as np\n",
    "from sklearn.metrics import mean_squared_error, r2_score\n",
    "from sklearn.linear_model import Ridge"
   ]
  },
  {
   "cell_type": "code",
   "execution_count": null,
   "metadata": {
    "id": "p77sJya3ijSk"
   },
   "outputs": [],
   "source": [
    "x_train, x_test, y_train, y_test = train_test_split(X_data, y_target, test_size=0.2,random_state=0)"
   ]
  },
  {
   "cell_type": "code",
   "execution_count": null,
   "metadata": {
    "id": "Ue0R55KkoWzb"
   },
   "outputs": [],
   "source": [
    "def MAPE(y_test, y_pred):\n",
    "\treturn np.mean(np.abs((y_test - y_pred) / y_test)) * 100 "
   ]
  },
  {
   "cell_type": "markdown",
   "metadata": {
    "id": "KF-Wnb0dijSl"
   },
   "source": [
    "### XGBOOST"
   ]
  },
  {
   "cell_type": "code",
   "execution_count": null,
   "metadata": {
    "id": "0NT_9hIuijSl"
   },
   "outputs": [],
   "source": [
    "import xgboost as xgb\n",
    "\n",
    "xgb = xgb.XGBRegressor()"
   ]
  },
  {
   "cell_type": "markdown",
   "metadata": {
    "id": "gcQNJB749rmS"
   },
   "source": [
    "#### KFold 5번"
   ]
  },
  {
   "cell_type": "code",
   "execution_count": null,
   "metadata": {
    "id": "SkXyqTpB9vW8"
   },
   "outputs": [],
   "source": [
    "from sklearn.model_selection import KFold\n",
    "from sklearn.metrics import mean_squared_error, r2_score\n",
    "kfold = KFold(n_splits=5,shuffle=True,random_state=0)\n",
    "cv_mse = []\n",
    "cv_r2 = []\n",
    "cv_mape = []"
   ]
  },
  {
   "cell_type": "code",
   "execution_count": null,
   "metadata": {
    "colab": {
     "base_uri": "https://localhost:8080/"
    },
    "executionInfo": {
     "elapsed": 404,
     "status": "ok",
     "timestamp": 1624625667922,
     "user": {
      "displayName": "김미섭",
      "photoUrl": "",
      "userId": "10860151424334307550"
     },
     "user_tz": -540
    },
    "id": "Yy3dE-qS9ymk",
    "outputId": "14b3557a-bdf8-42a3-d8b8-80c577bb56b6"
   },
   "outputs": [
    {
     "name": "stdout",
     "output_type": "stream",
     "text": [
      "[12:54:14] WARNING: /workspace/src/objective/regression_obj.cu:152: reg:linear is now deprecated in favor of reg:squarederror.\n",
      "\n",
      "1 mse : 0.0003, r2 : 0.2316, mape : 11.624, 학습 데이터 크기 : 536, 검증 데이터 크기 : 135\n",
      "[12:54:14] WARNING: /workspace/src/objective/regression_obj.cu:152: reg:linear is now deprecated in favor of reg:squarederror.\n",
      "\n",
      "2 mse : 0.0004, r2 : 0.1529, mape : 12.2054, 학습 데이터 크기 : 537, 검증 데이터 크기 : 134\n",
      "[12:54:14] WARNING: /workspace/src/objective/regression_obj.cu:152: reg:linear is now deprecated in favor of reg:squarederror.\n",
      "\n",
      "3 mse : 0.0003, r2 : 0.2137, mape : 12.4879, 학습 데이터 크기 : 537, 검증 데이터 크기 : 134\n",
      "[12:54:14] WARNING: /workspace/src/objective/regression_obj.cu:152: reg:linear is now deprecated in favor of reg:squarederror.\n",
      "\n",
      "4 mse : 0.0004, r2 : 0.2804, mape : 12.2485, 학습 데이터 크기 : 537, 검증 데이터 크기 : 134\n",
      "[12:54:14] WARNING: /workspace/src/objective/regression_obj.cu:152: reg:linear is now deprecated in favor of reg:squarederror.\n",
      "\n",
      "5 mse : 0.0005, r2 : 0.0976, mape : 14.6318, 학습 데이터 크기 : 537, 검증 데이터 크기 : 134\n",
      "\n",
      "\n",
      "\n",
      " 평균검증 mse:  0.00038\n",
      "\n",
      " 평균검증 r2:  0.19524000000000002\n",
      "\n",
      " 평균검증 mape:  12.639520000000001\n"
     ]
    }
   ],
   "source": [
    "n_iter = 0\n",
    "for train_idx, test_idx in kfold.split(X_data):\n",
    "    X_train, X_test = X_data.iloc[train_idx,:], X_data.iloc[test_idx, :] \n",
    "    \n",
    "    y_train, y_test = y_target[train_idx], y_target[test_idx]\n",
    "    \n",
    "    # 학습할 모델\n",
    "    xgb.fit(X_train, y_train)\n",
    "    # 예측\n",
    "    pred = xgb.predict(X_test)\n",
    "    \n",
    "    # 정확도 측정\n",
    "    n_iter += 1\n",
    "    mse = np.round(mean_squared_error(y_test, pred), 4)\n",
    "    r2 = np.round(r2_score(y_test, pred), 4)\n",
    "    mape = np.round(MAPE(y_test, pred), 4)\n",
    "    print('\\n{} mse : {}, r2 : {}, mape : {}, 학습 데이터 크기 : {}, 검증 데이터 크기 : {}'.format(n_iter, mse, r2, mape, X_train.shape[0], X_test.shape[0]))\n",
    "    \n",
    "    cv_mse.append(mse)\n",
    "    cv_r2.append(r2)\n",
    "    cv_mape.append(mape)\n",
    "print('\\n')\n",
    "\n",
    "print('\\n 평균검증 r2: ', np.mean(cv_r2))\n",
    "print('\\n 평균검증 mse: ', np.mean(cv_mse))\n",
    "print('\\n 평균검증 mape: ', np.mean(cv_mape))"
   ]
  },
  {
   "cell_type": "code",
   "execution_count": null,
   "metadata": {
    "colab": {
     "base_uri": "https://localhost:8080/",
     "height": 318
    },
    "executionInfo": {
     "elapsed": 409,
     "status": "ok",
     "timestamp": 1624609544024,
     "user": {
      "displayName": "김미섭",
      "photoUrl": "",
      "userId": "10860151424334307550"
     },
     "user_tz": -540
    },
    "id": "pVjXsToKpmVT",
    "outputId": "66fb8417-1329-4b4b-8f31-66a894d878a6"
   },
   "outputs": [
    {
     "data": {
      "text/plain": [
       "Text(0.5, 1.0, 'Real value vs Predicted value: $Y_i$ vs $\\\\hat{Y}_i$')"
      ]
     },
     "execution_count": 558,
     "metadata": {
      "tags": []
     },
     "output_type": "execute_result"
    },
    {
     "data": {
      "image/png": "[encoded data removed]",
      "text/plain": [
       "<Figure size 432x288 with 1 Axes>"
      ]
     },
     "metadata": {
      "image/png": {
       "height": 283,
       "width": 396
      },
      "needs_background": "light",
      "tags": []
     },
     "output_type": "display_data"
    }
   ],
   "source": [
    "plt.scatter(y_test, pred)\n",
    "plt.xlabel(\"Real value: $Y_i$\")\n",
    "plt.ylabel(\"Predicted value: $\\hat{Y}_i$\")\n",
    "plt.title(\"Real value vs Predicted value: $Y_i$ vs $\\hat{Y}_i$\")"
   ]
  },
  {
   "cell_type": "code",
   "execution_count": null,
   "metadata": {
    "colab": {
     "base_uri": "https://localhost:8080/"
    },
    "executionInfo": {
     "elapsed": 268,
     "status": "ok",
     "timestamp": 1624616524956,
     "user": {
      "displayName": "김미섭",
      "photoUrl": "",
      "userId": "10860151424334307550"
     },
     "user_tz": -540
    },
    "id": "V5bidgQzrvP4",
    "outputId": "61fade21-47d9-47c9-af60-ed4ed052bfec"
   },
   "outputs": [
    {
     "name": "stdout",
     "output_type": "stream",
     "text": [
      "[10:21:51] WARNING: /workspace/src/objective/regression_obj.cu:152: reg:linear is now deprecated in favor of reg:squarederror.\n"
     ]
    },
    {
     "data": {
      "text/plain": [
       "array([0.07947478, 0.20737332, 0.32363755, 0.13440636], dtype=float32)"
      ]
     },
     "execution_count": 1193,
     "metadata": {
      "tags": []
     },
     "output_type": "execute_result"
    }
   ],
   "source": [
    "xgb.fit(x_train,y_train)\n",
    "test.columns = range(0,23)\n",
    "pred = xgb.predict(test)\n",
    "pred"
   ]
  },
  {
   "cell_type": "markdown",
   "metadata": {
    "id": "CoyoGWC0ijSm"
   },
   "source": [
    "### RandomForest"
   ]
  },
  {
   "cell_type": "code",
   "execution_count": null,
   "metadata": {
    "id": "QB8ewgLzijSm"
   },
   "outputs": [],
   "source": [
    "from sklearn.ensemble import RandomForestRegressor\n",
    "import pandas as pd\n",
    "import numpy as np\n",
    "\n",
    "rf = RandomForestRegressor(n_estimators=1000)"
   ]
  },
  {
   "cell_type": "markdown",
   "metadata": {
    "id": "NE9t9hevAZp-"
   },
   "source": [
    "#### KFold 5번"
   ]
  },
  {
   "cell_type": "code",
   "execution_count": null,
   "metadata": {
    "id": "yOAxSDANAZp-"
   },
   "outputs": [],
   "source": [
    "from sklearn.model_selection import KFold\n",
    "from sklearn.metrics import mean_squared_error, r2_score\n",
    "kfold = KFold(n_splits=5,shuffle=True,random_state=0)\n",
    "cv_mse = []\n",
    "cv_r2 = []\n",
    "cv_mape = []"
   ]
  },
  {
   "cell_type": "code",
   "execution_count": null,
   "metadata": {
    "colab": {
     "base_uri": "https://localhost:8080/"
    },
    "executionInfo": {
     "elapsed": 16621,
     "status": "ok",
     "timestamp": 1624625708399,
     "user": {
      "displayName": "김미섭",
      "photoUrl": "",
      "userId": "10860151424334307550"
     },
     "user_tz": -540
    },
    "id": "3Oazx-q4AZp_",
    "outputId": "1f27ef0f-ec0d-4171-dd92-6faa2a964bbb"
   },
   "outputs": [
    {
     "name": "stdout",
     "output_type": "stream",
     "text": [
      "\n",
      "1 mse : 0.0004, r2 : 0.1992, mape : 12.0678, 학습 데이터 크기 : 536, 검증 데이터 크기 : 135\n",
      "\n",
      "2 mse : 0.0004, r2 : 0.189, mape : 11.8425, 학습 데이터 크기 : 537, 검증 데이터 크기 : 134\n",
      "\n",
      "3 mse : 0.0003, r2 : 0.2065, mape : 12.3812, 학습 데이터 크기 : 537, 검증 데이터 크기 : 134\n",
      "\n",
      "4 mse : 0.0004, r2 : 0.3173, mape : 11.9297, 학습 데이터 크기 : 537, 검증 데이터 크기 : 134\n",
      "\n",
      "5 mse : 0.0005, r2 : 0.0301, mape : 15.1615, 학습 데이터 크기 : 537, 검증 데이터 크기 : 134\n",
      "\n",
      "\n",
      "\n",
      " 평균검증 mse:  0.0004\n",
      "\n",
      " 평균검증 r2:  0.18842\n",
      "\n",
      " 평균검증 mape:  12.67654\n"
     ]
    }
   ],
   "source": [
    "n_iter = 0\n",
    "for train_idx, test_idx in kfold.split(X_data):\n",
    "    X_train, X_test = X_data.iloc[train_idx,:], X_data.iloc[test_idx, :] \n",
    "    \n",
    "    y_train, y_test = y_target[train_idx], y_target[test_idx]\n",
    "    \n",
    "    # 학습할 모델\n",
    "    rf.fit(X_train, y_train)\n",
    "    # 예측\n",
    "    pred = rf.predict(X_test)\n",
    "    \n",
    "    # 정확도 측정\n",
    "    n_iter += 1\n",
    "    mse = np.round(mean_squared_error(y_test, pred), 4)\n",
    "    r2 = np.round(r2_score(y_test, pred), 4)\n",
    "    mape = np.round(MAPE(y_test, pred), 4)\n",
    "    print('\\n{} mse : {}, r2 : {}, mape : {}, 학습 데이터 크기 : {}, 검증 데이터 크기 : {}'.format(n_iter, mse, r2, mape, X_train.shape[0], X_test.shape[0]))\n",
    "    \n",
    "    cv_mse.append(mse)\n",
    "    cv_r2.append(r2)\n",
    "    cv_mape.append(mape)\n",
    "print('\\n')\n",
    "\n",
    "print('\\n 평균검증 r2: ', np.mean(cv_r2))\n",
    "print('\\n 평균검증 mse: ', np.mean(cv_mse))\n",
    "print('\\n 평균검증 mape: ', np.mean(cv_mape))"
   ]
  },
  {
   "cell_type": "code",
   "execution_count": null,
   "metadata": {
    "colab": {
     "base_uri": "https://localhost:8080/",
     "height": 318
    },
    "executionInfo": {
     "elapsed": 437,
     "status": "ok",
     "timestamp": 1624608999010,
     "user": {
      "displayName": "김미섭",
      "photoUrl": "",
      "userId": "10860151424334307550"
     },
     "user_tz": -540
    },
    "id": "-lzt-NPZs_wL",
    "outputId": "fffb1efe-0a6f-4c88-83b7-d8707b00432a"
   },
   "outputs": [
    {
     "data": {
      "text/plain": [
       "Text(0.5, 1.0, 'Real value vs Predicted value: $Y_i$ vs $\\\\hat{Y}_i$')"
      ]
     },
     "execution_count": 454,
     "metadata": {
      "tags": []
     },
     "output_type": "execute_result"
    },
    {
     "data": {
      "image/png": "[encoded data removed]",
      "text/plain": [
       "<Figure size 432x288 with 1 Axes>"
      ]
     },
     "metadata": {
      "image/png": {
       "height": 283,
       "width": 396
      },
      "needs_background": "light",
      "tags": []
     },
     "output_type": "display_data"
    }
   ],
   "source": [
    "plt.scatter(y_test, pred)\n",
    "plt.xlabel(\"Real value: $Y_i$\")\n",
    "plt.ylabel(\"Predicted value: $\\hat{Y}_i$\")\n",
    "plt.title(\"Real value vs Predicted value: $Y_i$ vs $\\hat{Y}_i$\")"
   ]
  },
  {
   "cell_type": "code",
   "execution_count": null,
   "metadata": {
    "colab": {
     "base_uri": "https://localhost:8080/"
    },
    "executionInfo": {
     "elapsed": 3469,
     "status": "ok",
     "timestamp": 1624617560181,
     "user": {
      "displayName": "김미섭",
      "photoUrl": "",
      "userId": "10860151424334307550"
     },
     "user_tz": -540
    },
    "id": "ccsSSVhqp_kw",
    "outputId": "8e083361-cb27-414e-f01f-667e93238ca1"
   },
   "outputs": [
    {
     "data": {
      "text/plain": [
       "array([0.15054657, 0.07798506, 0.07389946, 0.08494914])"
      ]
     },
     "execution_count": 1265,
     "metadata": {
      "tags": []
     },
     "output_type": "execute_result"
    }
   ],
   "source": [
    "rf.fit(x_train, y_train)\n",
    "pred = rf.predict(test)\n",
    "pred"
   ]
  },
  {
   "cell_type": "markdown",
   "metadata": {
    "id": "PTqBRFdQ4p6R"
   },
   "source": [
    "### LGBM Regressor"
   ]
  },
  {
   "cell_type": "code",
   "execution_count": null,
   "metadata": {
    "id": "97lM9RoL4z6m"
   },
   "outputs": [],
   "source": [
    "import lightgbm as lgb\n",
    "\n",
    "lgbm = lgb.LGBMRegressor()"
   ]
  },
  {
   "cell_type": "markdown",
   "metadata": {
    "id": "Emm3bMPAAuoL"
   },
   "source": [
    "#### KFold 5번"
   ]
  },
  {
   "cell_type": "code",
   "execution_count": null,
   "metadata": {
    "id": "qu6KM7wfAuoL"
   },
   "outputs": [],
   "source": [
    "from sklearn.model_selection import KFold\n",
    "from sklearn.metrics import mean_squared_error, r2_score\n",
    "kfold = KFold(n_splits=5,shuffle=True,random_state=0)\n",
    "cv_mse = []\n",
    "cv_r2 = []\n",
    "cv_mape = []"
   ]
  },
  {
   "cell_type": "code",
   "execution_count": null,
   "metadata": {
    "colab": {
     "base_uri": "https://localhost:8080/"
    },
    "executionInfo": {
     "elapsed": 406,
     "status": "ok",
     "timestamp": 1624625732423,
     "user": {
      "displayName": "김미섭",
      "photoUrl": "",
      "userId": "10860151424334307550"
     },
     "user_tz": -540
    },
    "id": "GY_BSKxAAuoM",
    "outputId": "42a5a1dd-0536-46a8-9b88-4f1897399523"
   },
   "outputs": [
    {
     "name": "stdout",
     "output_type": "stream",
     "text": [
      "\n",
      "1 mse : 0.0004, r2 : 0.1107, mape : 12.6244, 학습 데이터 크기 : 536, 검증 데이터 크기 : 135\n",
      "\n",
      "2 mse : 0.0004, r2 : 0.136, mape : 12.3483, 학습 데이터 크기 : 537, 검증 데이터 크기 : 134\n",
      "\n",
      "3 mse : 0.0004, r2 : 0.1488, mape : 12.9494, 학습 데이터 크기 : 537, 검증 데이터 크기 : 134\n",
      "\n",
      "4 mse : 0.0004, r2 : 0.2783, mape : 12.1796, 학습 데이터 크기 : 537, 검증 데이터 크기 : 134\n",
      "\n",
      "5 mse : 0.0005, r2 : 0.0821, mape : 14.7459, 학습 데이터 크기 : 537, 검증 데이터 크기 : 134\n",
      "\n",
      "\n",
      "\n",
      " 평균검증 mse:  0.00042000000000000007\n",
      "\n",
      " 평균검증 r2:  0.15118\n",
      "\n",
      " 평균검증 mape:  12.96952\n"
     ]
    }
   ],
   "source": [
    "n_iter = 0\n",
    "for train_idx, test_idx in kfold.split(X_data):\n",
    "    X_train, X_test = X_data.iloc[train_idx,:], X_data.iloc[test_idx, :] \n",
    "    \n",
    "    y_train, y_test = y_target[train_idx], y_target[test_idx]\n",
    "    \n",
    "    # 학습할 모델\n",
    "    lgbm.fit(X_train, y_train)\n",
    "    # 예측\n",
    "    pred = lgbm.predict(X_test)\n",
    "    \n",
    "    # 정확도 측정\n",
    "    n_iter += 1\n",
    "    mse = np.round(mean_squared_error(y_test, pred), 4)\n",
    "    r2 = np.round(r2_score(y_test, pred), 4)\n",
    "    mape = np.round(MAPE(y_test, pred), 4)\n",
    "    print('\\n{} mse : {}, r2 : {}, mape : {}, 학습 데이터 크기 : {}, 검증 데이터 크기 : {}'.format(n_iter, mse, r2, mape, X_train.shape[0], X_test.shape[0]))\n",
    "    \n",
    "    cv_mse.append(mse)\n",
    "    cv_r2.append(r2)\n",
    "    cv_mape.append(mape)\n",
    "print('\\n')\n",
    "\n",
    "print('\\n 평균검증 r2: ', np.mean(cv_r2))\n",
    "print('\\n 평균검증 mse: ', np.mean(cv_mse))\n",
    "print('\\n 평균검증 mape: ', np.mean(cv_mape))"
   ]
  },
  {
   "cell_type": "code",
   "execution_count": null,
   "metadata": {
    "id": "yPOMSAp6EqqZ"
   },
   "outputs": [],
   "source": []
  },
  {
   "cell_type": "markdown",
   "metadata": {
    "id": "zJv5GujtijSn"
   },
   "source": [
    "### 릿지 회귀"
   ]
  },
  {
   "cell_type": "code",
   "execution_count": null,
   "metadata": {
    "id": "w1EYcQHVijSn"
   },
   "outputs": [],
   "source": [
    "from sklearn.linear_model import Ridge\n",
    "ridge = Ridge(alpha=10)"
   ]
  },
  {
   "cell_type": "markdown",
   "metadata": {
    "id": "7OZhWGeEAxUC"
   },
   "source": [
    "#### KFold 5번"
   ]
  },
  {
   "cell_type": "code",
   "execution_count": null,
   "metadata": {
    "id": "d37W-5dsAxUD"
   },
   "outputs": [],
   "source": [
    "from sklearn.model_selection import KFold\n",
    "from sklearn.metrics import mean_squared_error, r2_score\n",
    "kfold = KFold(n_splits=5,shuffle=True,random_state=0)\n",
    "cv_mse = []\n",
    "cv_r2 = []\n",
    "cv_mape = []"
   ]
  },
  {
   "cell_type": "code",
   "execution_count": null,
   "metadata": {
    "colab": {
     "base_uri": "https://localhost:8080/"
    },
    "executionInfo": {
     "elapsed": 5,
     "status": "ok",
     "timestamp": 1624625754813,
     "user": {
      "displayName": "김미섭",
      "photoUrl": "",
      "userId": "10860151424334307550"
     },
     "user_tz": -540
    },
    "id": "W7b9f092AxUE",
    "outputId": "ae30f55d-dfa3-48ba-b856-bd70340f02c0"
   },
   "outputs": [
    {
     "name": "stdout",
     "output_type": "stream",
     "text": [
      "\n",
      "1 mse : 0.0004, r2 : 0.1889, mape : 12.0236, 학습 데이터 크기 : 536, 검증 데이터 크기 : 135\n",
      "\n",
      "2 mse : 0.0004, r2 : 0.1158, mape : 12.2408, 학습 데이터 크기 : 537, 검증 데이터 크기 : 134\n",
      "\n",
      "3 mse : 0.0004, r2 : 0.1337, mape : 13.3983, 학습 데이터 크기 : 537, 검증 데이터 크기 : 134\n",
      "\n",
      "4 mse : 0.0004, r2 : 0.201, mape : 12.8931, 학습 데이터 크기 : 537, 검증 데이터 크기 : 134\n",
      "\n",
      "5 mse : 0.0004, r2 : 0.1653, mape : 14.2538, 학습 데이터 크기 : 537, 검증 데이터 크기 : 134\n",
      "\n",
      "\n",
      "\n",
      " 평균검증 mse:  0.0004\n",
      "\n",
      " 평균검증 r2:  0.16094\n",
      "\n",
      " 평균검증 mape:  12.961920000000001\n"
     ]
    }
   ],
   "source": [
    "n_iter = 0\n",
    "for train_idx, test_idx in kfold.split(X_data):\n",
    "    X_train, X_test = X_data.iloc[train_idx,:], X_data.iloc[test_idx, :] \n",
    "    \n",
    "    y_train, y_test = y_target[train_idx], y_target[test_idx]\n",
    "    \n",
    "    # 학습할 모델\n",
    "    ridge.fit(X_train, y_train)\n",
    "    # 예측\n",
    "    pred = ridge.predict(X_test)\n",
    "    \n",
    "    # 정확도 측정\n",
    "    n_iter += 1\n",
    "    mse = np.round(mean_squared_error(y_test, pred), 4)\n",
    "    r2 = np.round(r2_score(y_test, pred), 4)\n",
    "    mape = np.round(MAPE(y_test, pred), 4)\n",
    "    print('\\n{} mse : {}, r2 : {}, mape : {}, 학습 데이터 크기 : {}, 검증 데이터 크기 : {}'.format(n_iter, mse, r2, mape, X_train.shape[0], X_test.shape[0]))\n",
    "    \n",
    "    cv_mse.append(mse)\n",
    "    cv_r2.append(r2)\n",
    "    cv_mape.append(mape)\n",
    "print('\\n')\n",
    "\n",
    "print('\\n 평균검증 r2: ', np.mean(cv_r2))\n",
    "print('\\n 평균검증 mse: ', np.mean(cv_mse))\n",
    "print('\\n 평균검증 mape: ', np.mean(cv_mape))"
   ]
  },
  {
   "cell_type": "code",
   "execution_count": null,
   "metadata": {
    "colab": {
     "base_uri": "https://localhost:8080/"
    },
    "executionInfo": {
     "elapsed": 365,
     "status": "ok",
     "timestamp": 1624615818103,
     "user": {
      "displayName": "김미섭",
      "photoUrl": "",
      "userId": "10860151424334307550"
     },
     "user_tz": -540
    },
    "id": "4_l3JfYwpPOZ",
    "outputId": "d3d11330-a6d7-4c8b-b1ef-a78e50093462"
   },
   "outputs": [
    {
     "data": {
      "text/plain": [
       "(530,)"
      ]
     },
     "execution_count": 1114,
     "metadata": {
      "tags": []
     },
     "output_type": "execute_result"
    }
   ],
   "source": [
    "y_train.shape"
   ]
  },
  {
   "cell_type": "code",
   "execution_count": null,
   "metadata": {
    "colab": {
     "base_uri": "https://localhost:8080/"
    },
    "executionInfo": {
     "elapsed": 273,
     "status": "ok",
     "timestamp": 1624617223584,
     "user": {
      "displayName": "김미섭",
      "photoUrl": "",
      "userId": "10860151424334307550"
     },
     "user_tz": -540
    },
    "id": "qo_KhuKFpIJD",
    "outputId": "c10b5403-c395-4f61-a279-baa0a178b430"
   },
   "outputs": [
    {
     "data": {
      "text/plain": [
       "array([ 0.37042885,  0.32795458, -0.53895385, -0.10191737])"
      ]
     },
     "execution_count": 1226,
     "metadata": {
      "tags": []
     },
     "output_type": "execute_result"
    }
   ],
   "source": [
    "ridge.fit(x_train, y_train)\n",
    "pred = ridge.predict(test)\n",
    "pred"
   ]
  },
  {
   "cell_type": "markdown",
   "metadata": {
    "id": "NVuK4zUeijSs"
   },
   "source": [
    "### 중요 변수 산출"
   ]
  },
  {
   "cell_type": "code",
   "execution_count": null,
   "metadata": {
    "colab": {
     "base_uri": "https://localhost:8080/",
     "height": 687
    },
    "id": "uNukeQ2oijSt",
    "outputId": "6f46a4bc-3f4b-427c-a206-c6f5f1bded76",
    "scrolled": true
   },
   "outputs": [
    {
     "name": "stdout",
     "output_type": "stream",
     "text": [
      "5     0.174083\n",
      "6     0.166296\n",
      "0     0.154829\n",
      "12    0.077647\n",
      "10    0.076097\n",
      "2     0.074622\n",
      "4     0.070017\n",
      "11    0.063019\n",
      "8     0.053929\n",
      "9     0.038298\n",
      "1     0.027948\n",
      "7     0.015454\n",
      "21    0.002709\n",
      "19    0.001062\n",
      "20    0.000665\n",
      "3     0.000621\n",
      "22    0.000619\n",
      "16    0.000536\n",
      "17    0.000459\n",
      "13    0.000337\n",
      "18    0.000288\n",
      "14    0.000272\n",
      "15    0.000193\n",
      "dtype: float64\n"
     ]
    },
    {
     "data": {
      "image/png": "[encoded data removed]",
      "text/plain": [
       "<Figure size 432x288 with 1 Axes>"
      ]
     },
     "metadata": {
      "image/png": {
       "height": 248,
       "width": 459
      },
      "needs_background": "light",
      "tags": []
     },
     "output_type": "display_data"
    }
   ],
   "source": [
    "import seaborn as sns\n",
    "feature_series = pd.Series(data=rf.feature_importances_, index=X_data.columns)\n",
    "feature_series = feature_series.sort_values(ascending=False)\n",
    "fig = plt.figure(figsize = (20,10))\n",
    "sns.barplot(x = feature_series.index, y = feature_series)\n",
    "print(feature_series)"
   ]
  },
  {
   "cell_type": "markdown",
   "metadata": {
    "id": "tfS1LyrVzLNI"
   },
   "source": [
    "## selecting 구매데이터\n",
    "\n"
   ]
  },
  {
   "cell_type": "code",
   "execution_count": null,
   "metadata": {
    "id": "bzXrAgChzNiK"
   },
   "outputs": [],
   "source": [
    "result_rice = pd.read_csv('/gdrive/My Drive/weather_bigdata_contest/result/result_rice.csv')\n",
    "result_livestock = pd.read_csv('/gdrive/My Drive/weather_bigdata_contest/result/result_livestock.csv')\n",
    "result_fish = pd.read_csv('/gdrive/My Drive/weather_bigdata_contest/result/result_fish.csv')\n",
    "result_veg1 = pd.read_csv('/gdrive/My Drive/weather_bigdata_contest/result/result_veg1.csv')\n",
    "result_veg2 = pd.read_csv('/gdrive/My Drive/weather_bigdata_contest/result/result_veg2.csv')\n",
    "result_kimchi = pd.read_csv('/gdrive/My Drive/weather_bigdata_contest/result/result_kimchi.csv')\n",
    "result_fruit = pd.read_csv('/gdrive/My Drive/weather_bigdata_contest/result/result_fruit.csv')"
   ]
  },
  {
   "cell_type": "code",
   "execution_count": null,
   "metadata": {
    "colab": {
     "base_uri": "https://localhost:8080/",
     "height": 80
    },
    "executionInfo": {
     "elapsed": 25,
     "status": "ok",
     "timestamp": 1624668419528,
     "user": {
      "displayName": "김미섭",
      "photoUrl": "",
      "userId": "10860151424334307550"
     },
     "user_tz": -540
    },
    "id": "8DPwnVvfecXb",
    "outputId": "a7d798cf-efc7-434b-cab5-055594dd0aaa"
   },
   "outputs": [
    {
     "data": {
      "text/html": [
       "<div>\n",
       "<style scoped>\n",
       "    .dataframe tbody tr th:only-of-type {\n",
       "        vertical-align: middle;\n",
       "    }\n",
       "\n",
       "    .dataframe tbody tr th {\n",
       "        vertical-align: top;\n",
       "    }\n",
       "\n",
       "    .dataframe thead th {\n",
       "        text-align: right;\n",
       "    }\n",
       "</style>\n",
       "<table border=\"1\" class=\"dataframe\">\n",
       "  <thead>\n",
       "    <tr style=\"text-align: right;\">\n",
       "      <th></th>\n",
       "      <th>item</th>\n",
       "      <th>g</th>\n",
       "      <th>calorie</th>\n",
       "      <th>carbo</th>\n",
       "      <th>protein</th>\n",
       "      <th>fat</th>\n",
       "      <th>price</th>\n",
       "      <th>pred1</th>\n",
       "      <th>pred2</th>\n",
       "      <th>pred3</th>\n",
       "      <th>pred4</th>\n",
       "    </tr>\n",
       "  </thead>\n",
       "  <tbody>\n",
       "    <tr>\n",
       "      <th>0</th>\n",
       "      <td>쌀</td>\n",
       "      <td>200</td>\n",
       "      <td>1.52</td>\n",
       "      <td>0.332</td>\n",
       "      <td>0.03</td>\n",
       "      <td>0.001</td>\n",
       "      <td>3.18</td>\n",
       "      <td>0.1</td>\n",
       "      <td>0.1</td>\n",
       "      <td>0.1</td>\n",
       "      <td>0.1</td>\n",
       "    </tr>\n",
       "  </tbody>\n",
       "</table>\n",
       "</div>"
      ],
      "text/plain": [
       "  item    g  calorie  carbo  protein    fat  price  pred1  pred2  pred3  pred4\n",
       "0    쌀  200     1.52  0.332     0.03  0.001   3.18    0.1    0.1    0.1    0.1"
      ]
     },
     "execution_count": 69,
     "metadata": {
      "tags": []
     },
     "output_type": "execute_result"
    }
   ],
   "source": [
    "result_rice"
   ]
  },
  {
   "cell_type": "code",
   "execution_count": null,
   "metadata": {
    "colab": {
     "base_uri": "https://localhost:8080/",
     "height": 142
    },
    "executionInfo": {
     "elapsed": 18,
     "status": "ok",
     "timestamp": 1624668420335,
     "user": {
      "displayName": "김미섭",
      "photoUrl": "",
      "userId": "10860151424334307550"
     },
     "user_tz": -540
    },
    "id": "kD36o08Lecce",
    "outputId": "0e809311-9e65-45b8-a981-d81918596fcc"
   },
   "outputs": [
    {
     "data": {
      "text/html": [
       "<div>\n",
       "<style scoped>\n",
       "    .dataframe tbody tr th:only-of-type {\n",
       "        vertical-align: middle;\n",
       "    }\n",
       "\n",
       "    .dataframe tbody tr th {\n",
       "        vertical-align: top;\n",
       "    }\n",
       "\n",
       "    .dataframe thead th {\n",
       "        text-align: right;\n",
       "    }\n",
       "</style>\n",
       "<table border=\"1\" class=\"dataframe\">\n",
       "  <thead>\n",
       "    <tr style=\"text-align: right;\">\n",
       "      <th></th>\n",
       "      <th>item</th>\n",
       "      <th>g</th>\n",
       "      <th>calorie</th>\n",
       "      <th>carbo</th>\n",
       "      <th>protein</th>\n",
       "      <th>fat</th>\n",
       "      <th>price</th>\n",
       "      <th>pred1</th>\n",
       "      <th>pred2</th>\n",
       "      <th>pred3</th>\n",
       "      <th>pred4</th>\n",
       "    </tr>\n",
       "  </thead>\n",
       "  <tbody>\n",
       "    <tr>\n",
       "      <th>0</th>\n",
       "      <td>계란</td>\n",
       "      <td>50</td>\n",
       "      <td>1.36</td>\n",
       "      <td>0.0341</td>\n",
       "      <td>0.1244</td>\n",
       "      <td>0.0737</td>\n",
       "      <td>5.54</td>\n",
       "      <td>0.128179</td>\n",
       "      <td>0.192897</td>\n",
       "      <td>0.189035</td>\n",
       "      <td>0.187736</td>\n",
       "    </tr>\n",
       "    <tr>\n",
       "      <th>1</th>\n",
       "      <td>돼지 곱창</td>\n",
       "      <td>100</td>\n",
       "      <td>2.50</td>\n",
       "      <td>0.0000</td>\n",
       "      <td>0.2652</td>\n",
       "      <td>0.1596</td>\n",
       "      <td>16.60</td>\n",
       "      <td>0.173928</td>\n",
       "      <td>0.098199</td>\n",
       "      <td>0.180658</td>\n",
       "      <td>0.178726</td>\n",
       "    </tr>\n",
       "    <tr>\n",
       "      <th>2</th>\n",
       "      <td>소고기 육회</td>\n",
       "      <td>100</td>\n",
       "      <td>1.12</td>\n",
       "      <td>0.0237</td>\n",
       "      <td>0.1395</td>\n",
       "      <td>0.0487</td>\n",
       "      <td>35.67</td>\n",
       "      <td>0.121110</td>\n",
       "      <td>0.147114</td>\n",
       "      <td>0.143016</td>\n",
       "      <td>0.149909</td>\n",
       "    </tr>\n",
       "  </tbody>\n",
       "</table>\n",
       "</div>"
      ],
      "text/plain": [
       "     item    g  calorie   carbo  ...     pred1     pred2     pred3     pred4\n",
       "0      계란   50     1.36  0.0341  ...  0.128179  0.192897  0.189035  0.187736\n",
       "1   돼지 곱창  100     2.50  0.0000  ...  0.173928  0.098199  0.180658  0.178726\n",
       "2  소고기 육회  100     1.12  0.0237  ...  0.121110  0.147114  0.143016  0.149909\n",
       "\n",
       "[3 rows x 11 columns]"
      ]
     },
     "execution_count": 70,
     "metadata": {
      "tags": []
     },
     "output_type": "execute_result"
    }
   ],
   "source": [
    "result_livestock"
   ]
  },
  {
   "cell_type": "code",
   "execution_count": null,
   "metadata": {
    "colab": {
     "base_uri": "https://localhost:8080/",
     "height": 203
    },
    "executionInfo": {
     "elapsed": 622,
     "status": "ok",
     "timestamp": 1624668423145,
     "user": {
      "displayName": "김미섭",
      "photoUrl": "",
      "userId": "10860151424334307550"
     },
     "user_tz": -540
    },
    "id": "UwpFC218ecfy",
    "outputId": "f93474c2-1fe9-41c4-8982-dcf28b568beb"
   },
   "outputs": [
    {
     "data": {
      "text/html": [
       "<div>\n",
       "<style scoped>\n",
       "    .dataframe tbody tr th:only-of-type {\n",
       "        vertical-align: middle;\n",
       "    }\n",
       "\n",
       "    .dataframe tbody tr th {\n",
       "        vertical-align: top;\n",
       "    }\n",
       "\n",
       "    .dataframe thead th {\n",
       "        text-align: right;\n",
       "    }\n",
       "</style>\n",
       "<table border=\"1\" class=\"dataframe\">\n",
       "  <thead>\n",
       "    <tr style=\"text-align: right;\">\n",
       "      <th></th>\n",
       "      <th>item</th>\n",
       "      <th>g</th>\n",
       "      <th>calorie</th>\n",
       "      <th>carbo</th>\n",
       "      <th>protein</th>\n",
       "      <th>fat</th>\n",
       "      <th>price</th>\n",
       "      <th>pred1</th>\n",
       "      <th>pred2</th>\n",
       "      <th>pred3</th>\n",
       "      <th>pred4</th>\n",
       "    </tr>\n",
       "  </thead>\n",
       "  <tbody>\n",
       "    <tr>\n",
       "      <th>0</th>\n",
       "      <td>조개</td>\n",
       "      <td>85</td>\n",
       "      <td>0.76</td>\n",
       "      <td>0.0280</td>\n",
       "      <td>0.1410</td>\n",
       "      <td>0.0060</td>\n",
       "      <td>7.25</td>\n",
       "      <td>0.185258</td>\n",
       "      <td>0.108124</td>\n",
       "      <td>0.099891</td>\n",
       "      <td>0.150877</td>\n",
       "    </tr>\n",
       "    <tr>\n",
       "      <th>1</th>\n",
       "      <td>굴 생물</td>\n",
       "      <td>90</td>\n",
       "      <td>0.68</td>\n",
       "      <td>0.0391</td>\n",
       "      <td>0.0705</td>\n",
       "      <td>0.0246</td>\n",
       "      <td>18.00</td>\n",
       "      <td>0.169817</td>\n",
       "      <td>0.028839</td>\n",
       "      <td>0.028893</td>\n",
       "      <td>0.029940</td>\n",
       "    </tr>\n",
       "    <tr>\n",
       "      <th>2</th>\n",
       "      <td>장어</td>\n",
       "      <td>85</td>\n",
       "      <td>1.07</td>\n",
       "      <td>0.0000</td>\n",
       "      <td>0.1924</td>\n",
       "      <td>0.0293</td>\n",
       "      <td>53.72</td>\n",
       "      <td>-0.084061</td>\n",
       "      <td>0.154670</td>\n",
       "      <td>0.206394</td>\n",
       "      <td>0.107537</td>\n",
       "    </tr>\n",
       "    <tr>\n",
       "      <th>3</th>\n",
       "      <td>꽃게</td>\n",
       "      <td>100</td>\n",
       "      <td>1.01</td>\n",
       "      <td>0.0000</td>\n",
       "      <td>0.2003</td>\n",
       "      <td>0.0176</td>\n",
       "      <td>40.33</td>\n",
       "      <td>-0.260122</td>\n",
       "      <td>0.175550</td>\n",
       "      <td>0.568531</td>\n",
       "      <td>0.277177</td>\n",
       "    </tr>\n",
       "    <tr>\n",
       "      <th>4</th>\n",
       "      <td>대게/킹크랩</td>\n",
       "      <td>120</td>\n",
       "      <td>0.70</td>\n",
       "      <td>0.0003</td>\n",
       "      <td>0.1445</td>\n",
       "      <td>0.0086</td>\n",
       "      <td>69.92</td>\n",
       "      <td>0.888818</td>\n",
       "      <td>0.964793</td>\n",
       "      <td>0.283199</td>\n",
       "      <td>0.518814</td>\n",
       "    </tr>\n",
       "  </tbody>\n",
       "</table>\n",
       "</div>"
      ],
      "text/plain": [
       "     item    g  calorie   carbo  ...     pred1     pred2     pred3     pred4\n",
       "0      조개   85     0.76  0.0280  ...  0.185258  0.108124  0.099891  0.150877\n",
       "1    굴 생물   90     0.68  0.0391  ...  0.169817  0.028839  0.028893  0.029940\n",
       "2      장어   85     1.07  0.0000  ... -0.084061  0.154670  0.206394  0.107537\n",
       "3      꽃게  100     1.01  0.0000  ... -0.260122  0.175550  0.568531  0.277177\n",
       "4  대게/킹크랩  120     0.70  0.0003  ...  0.888818  0.964793  0.283199  0.518814\n",
       "\n",
       "[5 rows x 11 columns]"
      ]
     },
     "execution_count": 71,
     "metadata": {
      "tags": []
     },
     "output_type": "execute_result"
    }
   ],
   "source": [
    "result_fish"
   ]
  },
  {
   "cell_type": "code",
   "execution_count": null,
   "metadata": {
    "colab": {
     "base_uri": "https://localhost:8080/",
     "height": 142
    },
    "executionInfo": {
     "elapsed": 10,
     "status": "ok",
     "timestamp": 1624668423607,
     "user": {
      "displayName": "김미섭",
      "photoUrl": "",
      "userId": "10860151424334307550"
     },
     "user_tz": -540
    },
    "id": "sKZ7a8DKeci6",
    "outputId": "93f5e7bd-7969-4d79-b23b-8dc4732d2533"
   },
   "outputs": [
    {
     "data": {
      "text/html": [
       "<div>\n",
       "<style scoped>\n",
       "    .dataframe tbody tr th:only-of-type {\n",
       "        vertical-align: middle;\n",
       "    }\n",
       "\n",
       "    .dataframe tbody tr th {\n",
       "        vertical-align: top;\n",
       "    }\n",
       "\n",
       "    .dataframe thead th {\n",
       "        text-align: right;\n",
       "    }\n",
       "</style>\n",
       "<table border=\"1\" class=\"dataframe\">\n",
       "  <thead>\n",
       "    <tr style=\"text-align: right;\">\n",
       "      <th></th>\n",
       "      <th>item</th>\n",
       "      <th>g</th>\n",
       "      <th>calorie</th>\n",
       "      <th>carbo</th>\n",
       "      <th>protein</th>\n",
       "      <th>fat</th>\n",
       "      <th>price</th>\n",
       "      <th>pred1</th>\n",
       "      <th>pred2</th>\n",
       "      <th>pred3</th>\n",
       "      <th>pred4</th>\n",
       "    </tr>\n",
       "  </thead>\n",
       "  <tbody>\n",
       "    <tr>\n",
       "      <th>0</th>\n",
       "      <td>미나리</td>\n",
       "      <td>70</td>\n",
       "      <td>0.27</td>\n",
       "      <td>0.0670</td>\n",
       "      <td>0.0100</td>\n",
       "      <td>0.0020</td>\n",
       "      <td>17.500</td>\n",
       "      <td>0.370429</td>\n",
       "      <td>0.327955</td>\n",
       "      <td>-0.538954</td>\n",
       "      <td>-0.101917</td>\n",
       "    </tr>\n",
       "    <tr>\n",
       "      <th>1</th>\n",
       "      <td>오이/가지</td>\n",
       "      <td>100</td>\n",
       "      <td>0.14</td>\n",
       "      <td>0.0305</td>\n",
       "      <td>0.0122</td>\n",
       "      <td>0.0002</td>\n",
       "      <td>0.938</td>\n",
       "      <td>0.141809</td>\n",
       "      <td>0.203831</td>\n",
       "      <td>0.189559</td>\n",
       "      <td>0.128785</td>\n",
       "    </tr>\n",
       "    <tr>\n",
       "      <th>2</th>\n",
       "      <td>시금치</td>\n",
       "      <td>100</td>\n",
       "      <td>0.33</td>\n",
       "      <td>0.0600</td>\n",
       "      <td>0.0310</td>\n",
       "      <td>0.0050</td>\n",
       "      <td>8.500</td>\n",
       "      <td>0.179198</td>\n",
       "      <td>0.090312</td>\n",
       "      <td>0.086020</td>\n",
       "      <td>0.099325</td>\n",
       "    </tr>\n",
       "  </tbody>\n",
       "</table>\n",
       "</div>"
      ],
      "text/plain": [
       "    item    g  calorie   carbo  ...     pred1     pred2     pred3     pred4\n",
       "0    미나리   70     0.27  0.0670  ...  0.370429  0.327955 -0.538954 -0.101917\n",
       "1  오이/가지  100     0.14  0.0305  ...  0.141809  0.203831  0.189559  0.128785\n",
       "2    시금치  100     0.33  0.0600  ...  0.179198  0.090312  0.086020  0.099325\n",
       "\n",
       "[3 rows x 11 columns]"
      ]
     },
     "execution_count": 72,
     "metadata": {
      "tags": []
     },
     "output_type": "execute_result"
    }
   ],
   "source": [
    "result_veg1"
   ]
  },
  {
   "cell_type": "code",
   "execution_count": null,
   "metadata": {
    "colab": {
     "base_uri": "https://localhost:8080/",
     "height": 234
    },
    "executionInfo": {
     "elapsed": 471,
     "status": "ok",
     "timestamp": 1624668427021,
     "user": {
      "displayName": "김미섭",
      "photoUrl": "",
      "userId": "10860151424334307550"
     },
     "user_tz": -540
    },
    "id": "V0VD65peecmf",
    "outputId": "cba59e1a-c7ac-475e-f91c-e0800e68eb66"
   },
   "outputs": [
    {
     "data": {
      "text/html": [
       "<div>\n",
       "<style scoped>\n",
       "    .dataframe tbody tr th:only-of-type {\n",
       "        vertical-align: middle;\n",
       "    }\n",
       "\n",
       "    .dataframe tbody tr th {\n",
       "        vertical-align: top;\n",
       "    }\n",
       "\n",
       "    .dataframe thead th {\n",
       "        text-align: right;\n",
       "    }\n",
       "</style>\n",
       "<table border=\"1\" class=\"dataframe\">\n",
       "  <thead>\n",
       "    <tr style=\"text-align: right;\">\n",
       "      <th></th>\n",
       "      <th>item</th>\n",
       "      <th>g</th>\n",
       "      <th>calorie</th>\n",
       "      <th>carbo</th>\n",
       "      <th>protein</th>\n",
       "      <th>fat</th>\n",
       "      <th>price</th>\n",
       "      <th>pred1</th>\n",
       "      <th>pred2</th>\n",
       "      <th>pred3</th>\n",
       "      <th>pred4</th>\n",
       "    </tr>\n",
       "  </thead>\n",
       "  <tbody>\n",
       "    <tr>\n",
       "      <th>0</th>\n",
       "      <td>표고버섯</td>\n",
       "      <td>50</td>\n",
       "      <td>0.31</td>\n",
       "      <td>0.108</td>\n",
       "      <td>0.039</td>\n",
       "      <td>0.0040</td>\n",
       "      <td>18.57</td>\n",
       "      <td>0.167064</td>\n",
       "      <td>0.152314</td>\n",
       "      <td>0.108261</td>\n",
       "      <td>0.156593</td>\n",
       "    </tr>\n",
       "    <tr>\n",
       "      <th>1</th>\n",
       "      <td>도라지/더덕</td>\n",
       "      <td>50</td>\n",
       "      <td>0.56</td>\n",
       "      <td>0.130</td>\n",
       "      <td>0.017</td>\n",
       "      <td>0.0011</td>\n",
       "      <td>28.00</td>\n",
       "      <td>0.150547</td>\n",
       "      <td>0.077985</td>\n",
       "      <td>0.073899</td>\n",
       "      <td>0.084949</td>\n",
       "    </tr>\n",
       "    <tr>\n",
       "      <th>2</th>\n",
       "      <td>토마토</td>\n",
       "      <td>100</td>\n",
       "      <td>0.19</td>\n",
       "      <td>0.043</td>\n",
       "      <td>0.010</td>\n",
       "      <td>0.0020</td>\n",
       "      <td>3.15</td>\n",
       "      <td>0.127578</td>\n",
       "      <td>0.139547</td>\n",
       "      <td>0.086501</td>\n",
       "      <td>0.105609</td>\n",
       "    </tr>\n",
       "    <tr>\n",
       "      <th>3</th>\n",
       "      <td>감자</td>\n",
       "      <td>100</td>\n",
       "      <td>0.70</td>\n",
       "      <td>0.160</td>\n",
       "      <td>0.020</td>\n",
       "      <td>0.0003</td>\n",
       "      <td>3.00</td>\n",
       "      <td>0.124915</td>\n",
       "      <td>0.117374</td>\n",
       "      <td>0.098164</td>\n",
       "      <td>0.122577</td>\n",
       "    </tr>\n",
       "    <tr>\n",
       "      <th>4</th>\n",
       "      <td>옥수수</td>\n",
       "      <td>100</td>\n",
       "      <td>1.64</td>\n",
       "      <td>0.340</td>\n",
       "      <td>0.048</td>\n",
       "      <td>0.0160</td>\n",
       "      <td>16.60</td>\n",
       "      <td>0.092979</td>\n",
       "      <td>0.089213</td>\n",
       "      <td>0.184535</td>\n",
       "      <td>0.090236</td>\n",
       "    </tr>\n",
       "    <tr>\n",
       "      <th>5</th>\n",
       "      <td>고추/피망/파프리카</td>\n",
       "      <td>45</td>\n",
       "      <td>0.27</td>\n",
       "      <td>0.046</td>\n",
       "      <td>0.014</td>\n",
       "      <td>0.0080</td>\n",
       "      <td>15.80</td>\n",
       "      <td>0.161333</td>\n",
       "      <td>0.193483</td>\n",
       "      <td>0.115327</td>\n",
       "      <td>0.140143</td>\n",
       "    </tr>\n",
       "  </tbody>\n",
       "</table>\n",
       "</div>"
      ],
      "text/plain": [
       "         item    g  calorie  carbo  ...     pred1     pred2     pred3     pred4\n",
       "0        표고버섯   50     0.31  0.108  ...  0.167064  0.152314  0.108261  0.156593\n",
       "1      도라지/더덕   50     0.56  0.130  ...  0.150547  0.077985  0.073899  0.084949\n",
       "2         토마토  100     0.19  0.043  ...  0.127578  0.139547  0.086501  0.105609\n",
       "3          감자  100     0.70  0.160  ...  0.124915  0.117374  0.098164  0.122577\n",
       "4         옥수수  100     1.64  0.340  ...  0.092979  0.089213  0.184535  0.090236\n",
       "5  고추/피망/파프리카   45     0.27  0.046  ...  0.161333  0.193483  0.115327  0.140143\n",
       "\n",
       "[6 rows x 11 columns]"
      ]
     },
     "execution_count": 73,
     "metadata": {
      "tags": []
     },
     "output_type": "execute_result"
    }
   ],
   "source": [
    "result_veg2"
   ]
  },
  {
   "cell_type": "code",
   "execution_count": null,
   "metadata": {
    "colab": {
     "base_uri": "https://localhost:8080/",
     "height": 142
    },
    "executionInfo": {
     "elapsed": 9,
     "status": "ok",
     "timestamp": 1624668427651,
     "user": {
      "displayName": "김미섭",
      "photoUrl": "",
      "userId": "10860151424334307550"
     },
     "user_tz": -540
    },
    "id": "xCAk0gs5ecq0",
    "outputId": "af28b907-4973-47f1-9e3e-497c3634557b"
   },
   "outputs": [
    {
     "data": {
      "text/html": [
       "<div>\n",
       "<style scoped>\n",
       "    .dataframe tbody tr th:only-of-type {\n",
       "        vertical-align: middle;\n",
       "    }\n",
       "\n",
       "    .dataframe tbody tr th {\n",
       "        vertical-align: top;\n",
       "    }\n",
       "\n",
       "    .dataframe thead th {\n",
       "        text-align: right;\n",
       "    }\n",
       "</style>\n",
       "<table border=\"1\" class=\"dataframe\">\n",
       "  <thead>\n",
       "    <tr style=\"text-align: right;\">\n",
       "      <th></th>\n",
       "      <th>item</th>\n",
       "      <th>g</th>\n",
       "      <th>calorie</th>\n",
       "      <th>carbo</th>\n",
       "      <th>protein</th>\n",
       "      <th>fat</th>\n",
       "      <th>price</th>\n",
       "      <th>pred1</th>\n",
       "      <th>pred2</th>\n",
       "      <th>pred3</th>\n",
       "      <th>pred4</th>\n",
       "    </tr>\n",
       "  </thead>\n",
       "  <tbody>\n",
       "    <tr>\n",
       "      <th>0</th>\n",
       "      <td>배추김치</td>\n",
       "      <td>30</td>\n",
       "      <td>0.22</td>\n",
       "      <td>0.0416</td>\n",
       "      <td>0.0173</td>\n",
       "      <td>0.0032</td>\n",
       "      <td>6.61</td>\n",
       "      <td>0.028968</td>\n",
       "      <td>0.184568</td>\n",
       "      <td>0.609825</td>\n",
       "      <td>0.362655</td>\n",
       "    </tr>\n",
       "    <tr>\n",
       "      <th>1</th>\n",
       "      <td>무김치</td>\n",
       "      <td>30</td>\n",
       "      <td>0.30</td>\n",
       "      <td>0.0635</td>\n",
       "      <td>0.0129</td>\n",
       "      <td>0.0027</td>\n",
       "      <td>8.32</td>\n",
       "      <td>-0.090899</td>\n",
       "      <td>0.402270</td>\n",
       "      <td>0.871200</td>\n",
       "      <td>0.480393</td>\n",
       "    </tr>\n",
       "    <tr>\n",
       "      <th>2</th>\n",
       "      <td>물김치</td>\n",
       "      <td>30</td>\n",
       "      <td>0.20</td>\n",
       "      <td>0.0445</td>\n",
       "      <td>0.0112</td>\n",
       "      <td>0.0017</td>\n",
       "      <td>7.58</td>\n",
       "      <td>0.119477</td>\n",
       "      <td>0.392456</td>\n",
       "      <td>0.818874</td>\n",
       "      <td>0.459586</td>\n",
       "    </tr>\n",
       "  </tbody>\n",
       "</table>\n",
       "</div>"
      ],
      "text/plain": [
       "   item   g  calorie   carbo  ...     pred1     pred2     pred3     pred4\n",
       "0  배추김치  30     0.22  0.0416  ...  0.028968  0.184568  0.609825  0.362655\n",
       "1   무김치  30     0.30  0.0635  ... -0.090899  0.402270  0.871200  0.480393\n",
       "2   물김치  30     0.20  0.0445  ...  0.119477  0.392456  0.818874  0.459586\n",
       "\n",
       "[3 rows x 11 columns]"
      ]
     },
     "execution_count": 74,
     "metadata": {
      "tags": []
     },
     "output_type": "execute_result"
    }
   ],
   "source": [
    "result_kimchi"
   ]
  },
  {
   "cell_type": "code",
   "execution_count": null,
   "metadata": {
    "colab": {
     "base_uri": "https://localhost:8080/",
     "height": 357
    },
    "executionInfo": {
     "elapsed": 340,
     "status": "ok",
     "timestamp": 1624669049886,
     "user": {
      "displayName": "김미섭",
      "photoUrl": "",
      "userId": "10860151424334307550"
     },
     "user_tz": -540
    },
    "id": "E6xzy6X5ecuQ",
    "outputId": "39bd12ea-7ef1-405e-e122-4d3a46e4603d"
   },
   "outputs": [
    {
     "data": {
      "text/html": [
       "<div>\n",
       "<style scoped>\n",
       "    .dataframe tbody tr th:only-of-type {\n",
       "        vertical-align: middle;\n",
       "    }\n",
       "\n",
       "    .dataframe tbody tr th {\n",
       "        vertical-align: top;\n",
       "    }\n",
       "\n",
       "    .dataframe thead th {\n",
       "        text-align: right;\n",
       "    }\n",
       "</style>\n",
       "<table border=\"1\" class=\"dataframe\">\n",
       "  <thead>\n",
       "    <tr style=\"text-align: right;\">\n",
       "      <th></th>\n",
       "      <th>item</th>\n",
       "      <th>g</th>\n",
       "      <th>calorie</th>\n",
       "      <th>carbo</th>\n",
       "      <th>protein</th>\n",
       "      <th>fat</th>\n",
       "      <th>price</th>\n",
       "      <th>pred1</th>\n",
       "      <th>pred2</th>\n",
       "      <th>pred3</th>\n",
       "      <th>pred4</th>\n",
       "    </tr>\n",
       "  </thead>\n",
       "  <tbody>\n",
       "    <tr>\n",
       "      <th>0</th>\n",
       "      <td>포도/거봉/체리</td>\n",
       "      <td>100</td>\n",
       "      <td>0.67</td>\n",
       "      <td>0.1761</td>\n",
       "      <td>0.0083</td>\n",
       "      <td>0.0019</td>\n",
       "      <td>16.80</td>\n",
       "      <td>0.426712</td>\n",
       "      <td>0.813871</td>\n",
       "      <td>0.454498</td>\n",
       "      <td>0.482078</td>\n",
       "    </tr>\n",
       "    <tr>\n",
       "      <th>1</th>\n",
       "      <td>미숫가루/곡물가루</td>\n",
       "      <td>50</td>\n",
       "      <td>4.15</td>\n",
       "      <td>0.8000</td>\n",
       "      <td>0.1000</td>\n",
       "      <td>0.0600</td>\n",
       "      <td>10.00</td>\n",
       "      <td>0.127101</td>\n",
       "      <td>0.208000</td>\n",
       "      <td>0.226498</td>\n",
       "      <td>0.193195</td>\n",
       "    </tr>\n",
       "    <tr>\n",
       "      <th>2</th>\n",
       "      <td>딸기/복분자/블루베리</td>\n",
       "      <td>100</td>\n",
       "      <td>0.55</td>\n",
       "      <td>0.1257</td>\n",
       "      <td>0.0100</td>\n",
       "      <td>0.0080</td>\n",
       "      <td>42.00</td>\n",
       "      <td>0.241218</td>\n",
       "      <td>0.117907</td>\n",
       "      <td>0.116887</td>\n",
       "      <td>0.086758</td>\n",
       "    </tr>\n",
       "    <tr>\n",
       "      <th>3</th>\n",
       "      <td>감귤/한라봉/오렌지</td>\n",
       "      <td>100</td>\n",
       "      <td>0.50</td>\n",
       "      <td>0.1280</td>\n",
       "      <td>0.0100</td>\n",
       "      <td>0.0010</td>\n",
       "      <td>11.80</td>\n",
       "      <td>1.416313</td>\n",
       "      <td>0.973386</td>\n",
       "      <td>-0.263388</td>\n",
       "      <td>0.447830</td>\n",
       "    </tr>\n",
       "    <tr>\n",
       "      <th>4</th>\n",
       "      <td>바나나/파인애플/망고</td>\n",
       "      <td>100</td>\n",
       "      <td>0.84</td>\n",
       "      <td>0.2190</td>\n",
       "      <td>0.0110</td>\n",
       "      <td>0.0010</td>\n",
       "      <td>3.83</td>\n",
       "      <td>0.137823</td>\n",
       "      <td>0.157678</td>\n",
       "      <td>0.151188</td>\n",
       "      <td>0.143918</td>\n",
       "    </tr>\n",
       "    <tr>\n",
       "      <th>5</th>\n",
       "      <td>견과류 밤</td>\n",
       "      <td>50</td>\n",
       "      <td>1.51</td>\n",
       "      <td>0.3340</td>\n",
       "      <td>0.0330</td>\n",
       "      <td>0.0050</td>\n",
       "      <td>20.70</td>\n",
       "      <td>0.618773</td>\n",
       "      <td>0.486843</td>\n",
       "      <td>0.260381</td>\n",
       "      <td>0.397196</td>\n",
       "    </tr>\n",
       "    <tr>\n",
       "      <th>6</th>\n",
       "      <td>레몬/자몽</td>\n",
       "      <td>100</td>\n",
       "      <td>0.28</td>\n",
       "      <td>0.0930</td>\n",
       "      <td>0.0071</td>\n",
       "      <td>0.0008</td>\n",
       "      <td>6.95</td>\n",
       "      <td>0.047517</td>\n",
       "      <td>0.326221</td>\n",
       "      <td>0.388889</td>\n",
       "      <td>0.260059</td>\n",
       "    </tr>\n",
       "    <tr>\n",
       "      <th>7</th>\n",
       "      <td>참외/메론/수박</td>\n",
       "      <td>100</td>\n",
       "      <td>0.39</td>\n",
       "      <td>0.0940</td>\n",
       "      <td>0.0120</td>\n",
       "      <td>0.0018</td>\n",
       "      <td>7.90</td>\n",
       "      <td>0.079475</td>\n",
       "      <td>0.207373</td>\n",
       "      <td>0.323638</td>\n",
       "      <td>0.134406</td>\n",
       "    </tr>\n",
       "    <tr>\n",
       "      <th>8</th>\n",
       "      <td>키위/참다래</td>\n",
       "      <td>100</td>\n",
       "      <td>0.64</td>\n",
       "      <td>0.1480</td>\n",
       "      <td>0.0080</td>\n",
       "      <td>0.0100</td>\n",
       "      <td>11.27</td>\n",
       "      <td>0.104552</td>\n",
       "      <td>0.124291</td>\n",
       "      <td>0.119538</td>\n",
       "      <td>0.122077</td>\n",
       "    </tr>\n",
       "    <tr>\n",
       "      <th>9</th>\n",
       "      <td>감/홍시</td>\n",
       "      <td>100</td>\n",
       "      <td>0.58</td>\n",
       "      <td>0.1575</td>\n",
       "      <td>0.0040</td>\n",
       "      <td>0.0004</td>\n",
       "      <td>11.94</td>\n",
       "      <td>0.125146</td>\n",
       "      <td>0.131956</td>\n",
       "      <td>0.139542</td>\n",
       "      <td>0.100104</td>\n",
       "    </tr>\n",
       "  </tbody>\n",
       "</table>\n",
       "</div>"
      ],
      "text/plain": [
       "          item    g  calorie   carbo  ...     pred1     pred2     pred3     pred4\n",
       "0     포도/거봉/체리  100     0.67  0.1761  ...  0.426712  0.813871  0.454498  0.482078\n",
       "1    미숫가루/곡물가루   50     4.15  0.8000  ...  0.127101  0.208000  0.226498  0.193195\n",
       "2  딸기/복분자/블루베리  100     0.55  0.1257  ...  0.241218  0.117907  0.116887  0.086758\n",
       "3   감귤/한라봉/오렌지  100     0.50  0.1280  ...  1.416313  0.973386 -0.263388  0.447830\n",
       "4  바나나/파인애플/망고  100     0.84  0.2190  ...  0.137823  0.157678  0.151188  0.143918\n",
       "5        견과류 밤   50     1.51  0.3340  ...  0.618773  0.486843  0.260381  0.397196\n",
       "6        레몬/자몽  100     0.28  0.0930  ...  0.047517  0.326221  0.388889  0.260059\n",
       "7     참외/메론/수박  100     0.39  0.0940  ...  0.079475  0.207373  0.323638  0.134406\n",
       "8       키위/참다래  100     0.64  0.1480  ...  0.104552  0.124291  0.119538  0.122077\n",
       "9         감/홍시  100     0.58  0.1575  ...  0.125146  0.131956  0.139542  0.100104\n",
       "\n",
       "[10 rows x 11 columns]"
      ]
     },
     "execution_count": 84,
     "metadata": {
      "tags": []
     },
     "output_type": "execute_result"
    }
   ],
   "source": [
    "result_fruit"
   ]
  },
  {
   "cell_type": "markdown",
   "metadata": {
    "id": "tYR9wCc8e0qF"
   },
   "source": [
    "2020년 1월 15일"
   ]
  },
  {
   "cell_type": "code",
   "execution_count": null,
   "metadata": {
    "id": "K2i4soVQzNlR"
   },
   "outputs": [],
   "source": [
    "result_rice = result_rice.iloc[:,0:8]\n",
    "result_rice.columns = ['item','g','calorie','carbo','protein','fat','price','pred']\n",
    "result_livestock = result_livestock.iloc[:,0:8]\n",
    "result_livestock.columns = ['item','g','calorie','carbo','protein','fat','price','pred']\n",
    "result_fish = result_fish.iloc[:,0:8]\n",
    "result_fish.columns = ['item','g','calorie','carbo','protein','fat','price','pred']\n",
    "result_veg1 = result_veg1.iloc[:,0:8]\n",
    "result_veg1.columns = ['item','g','calorie','carbo','protein','fat','price','pred']\n",
    "result_veg2 = result_veg2.iloc[:,0:8]\n",
    "result_veg2.columns = ['item','g','calorie','carbo','protein','fat','price','pred']\n",
    "result_kimchi = result_kimchi.iloc[:,0:8]\n",
    "result_kimchi.columns = ['item','g','calorie','carbo','protein','fat','price','pred']\n",
    "result_fruit = result_fruit.iloc[:,0:8]\n",
    "result_fruit.columns = ['item','g','calorie','carbo','protein','fat','price','pred']"
   ]
  },
  {
   "cell_type": "code",
   "execution_count": null,
   "metadata": {
    "id": "KIGy0TCz0jZV"
   },
   "outputs": [],
   "source": [
    "def calculate(result):\n",
    "  result.columns = ['item','g','calorie','carbo','protein','fat','price','pred']\n",
    "  result = result.astype({'g': 'float','calorie':'float','carbo':'float','protein':'float','fat':'float','price':'float','pred':'float'})\n",
    "  result['calorie'] = result['calorie'].mul(result['g'])\n",
    "  result['carbo'] = result['carbo'].mul(result['g'])\n",
    "  result['protein'] = result['protein'].mul(result['g'])\n",
    "  result['fat'] = result['fat'].mul(result['g'])\n",
    "  result['price'] = result['price'].mul(result['g'])\n",
    "  return result"
   ]
  },
  {
   "cell_type": "code",
   "execution_count": null,
   "metadata": {
    "id": "nvcl7Xcn0jc0"
   },
   "outputs": [],
   "source": [
    "result_rice = calculate(result_rice)\n",
    "result_livestock = calculate(result_livestock)\n",
    "result_fish = calculate(result_fish)\n",
    "result_veg1 = calculate(result_veg1)\n",
    "result_veg2 = calculate(result_veg2)\n",
    "result_kimchi = calculate(result_kimchi)\n",
    "result_fruit = calculate(result_fruit)"
   ]
  },
  {
   "cell_type": "code",
   "execution_count": null,
   "metadata": {
    "colab": {
     "base_uri": "https://localhost:8080/",
     "height": 357
    },
    "executionInfo": {
     "elapsed": 446,
     "status": "ok",
     "timestamp": 1624669055854,
     "user": {
      "displayName": "김미섭",
      "photoUrl": "",
      "userId": "10860151424334307550"
     },
     "user_tz": -540
    },
    "id": "8r2An72EzwR-",
    "outputId": "63f3c027-c0d2-4555-a754-9c2f5257d1f6"
   },
   "outputs": [
    {
     "data": {
      "text/html": [
       "<div>\n",
       "<style scoped>\n",
       "    .dataframe tbody tr th:only-of-type {\n",
       "        vertical-align: middle;\n",
       "    }\n",
       "\n",
       "    .dataframe tbody tr th {\n",
       "        vertical-align: top;\n",
       "    }\n",
       "\n",
       "    .dataframe thead th {\n",
       "        text-align: right;\n",
       "    }\n",
       "</style>\n",
       "<table border=\"1\" class=\"dataframe\">\n",
       "  <thead>\n",
       "    <tr style=\"text-align: right;\">\n",
       "      <th></th>\n",
       "      <th>item</th>\n",
       "      <th>g</th>\n",
       "      <th>calorie</th>\n",
       "      <th>carbo</th>\n",
       "      <th>protein</th>\n",
       "      <th>fat</th>\n",
       "      <th>price</th>\n",
       "      <th>pred</th>\n",
       "    </tr>\n",
       "  </thead>\n",
       "  <tbody>\n",
       "    <tr>\n",
       "      <th>0</th>\n",
       "      <td>포도/거봉/체리</td>\n",
       "      <td>100.0</td>\n",
       "      <td>67.0</td>\n",
       "      <td>17.61</td>\n",
       "      <td>0.83</td>\n",
       "      <td>0.19</td>\n",
       "      <td>1680.0</td>\n",
       "      <td>0.426712</td>\n",
       "    </tr>\n",
       "    <tr>\n",
       "      <th>1</th>\n",
       "      <td>미숫가루/곡물가루</td>\n",
       "      <td>50.0</td>\n",
       "      <td>207.5</td>\n",
       "      <td>40.00</td>\n",
       "      <td>5.00</td>\n",
       "      <td>3.00</td>\n",
       "      <td>500.0</td>\n",
       "      <td>0.127101</td>\n",
       "    </tr>\n",
       "    <tr>\n",
       "      <th>2</th>\n",
       "      <td>딸기/복분자/블루베리</td>\n",
       "      <td>100.0</td>\n",
       "      <td>55.0</td>\n",
       "      <td>12.57</td>\n",
       "      <td>1.00</td>\n",
       "      <td>0.80</td>\n",
       "      <td>4200.0</td>\n",
       "      <td>0.241218</td>\n",
       "    </tr>\n",
       "    <tr>\n",
       "      <th>3</th>\n",
       "      <td>감귤/한라봉/오렌지</td>\n",
       "      <td>100.0</td>\n",
       "      <td>50.0</td>\n",
       "      <td>12.80</td>\n",
       "      <td>1.00</td>\n",
       "      <td>0.10</td>\n",
       "      <td>1180.0</td>\n",
       "      <td>1.416313</td>\n",
       "    </tr>\n",
       "    <tr>\n",
       "      <th>4</th>\n",
       "      <td>바나나/파인애플/망고</td>\n",
       "      <td>100.0</td>\n",
       "      <td>84.0</td>\n",
       "      <td>21.90</td>\n",
       "      <td>1.10</td>\n",
       "      <td>0.10</td>\n",
       "      <td>383.0</td>\n",
       "      <td>0.137823</td>\n",
       "    </tr>\n",
       "    <tr>\n",
       "      <th>5</th>\n",
       "      <td>견과류 밤</td>\n",
       "      <td>50.0</td>\n",
       "      <td>75.5</td>\n",
       "      <td>16.70</td>\n",
       "      <td>1.65</td>\n",
       "      <td>0.25</td>\n",
       "      <td>1035.0</td>\n",
       "      <td>0.618773</td>\n",
       "    </tr>\n",
       "    <tr>\n",
       "      <th>6</th>\n",
       "      <td>레몬/자몽</td>\n",
       "      <td>100.0</td>\n",
       "      <td>28.0</td>\n",
       "      <td>9.30</td>\n",
       "      <td>0.71</td>\n",
       "      <td>0.08</td>\n",
       "      <td>695.0</td>\n",
       "      <td>0.047517</td>\n",
       "    </tr>\n",
       "    <tr>\n",
       "      <th>7</th>\n",
       "      <td>참외/메론/수박</td>\n",
       "      <td>100.0</td>\n",
       "      <td>39.0</td>\n",
       "      <td>9.40</td>\n",
       "      <td>1.20</td>\n",
       "      <td>0.18</td>\n",
       "      <td>790.0</td>\n",
       "      <td>0.079475</td>\n",
       "    </tr>\n",
       "    <tr>\n",
       "      <th>8</th>\n",
       "      <td>키위/참다래</td>\n",
       "      <td>100.0</td>\n",
       "      <td>64.0</td>\n",
       "      <td>14.80</td>\n",
       "      <td>0.80</td>\n",
       "      <td>1.00</td>\n",
       "      <td>1127.0</td>\n",
       "      <td>0.104552</td>\n",
       "    </tr>\n",
       "    <tr>\n",
       "      <th>9</th>\n",
       "      <td>감/홍시</td>\n",
       "      <td>100.0</td>\n",
       "      <td>58.0</td>\n",
       "      <td>15.75</td>\n",
       "      <td>0.40</td>\n",
       "      <td>0.04</td>\n",
       "      <td>1194.0</td>\n",
       "      <td>0.125146</td>\n",
       "    </tr>\n",
       "  </tbody>\n",
       "</table>\n",
       "</div>"
      ],
      "text/plain": [
       "          item      g  calorie  carbo  protein   fat   price      pred\n",
       "0     포도/거봉/체리  100.0     67.0  17.61     0.83  0.19  1680.0  0.426712\n",
       "1    미숫가루/곡물가루   50.0    207.5  40.00     5.00  3.00   500.0  0.127101\n",
       "2  딸기/복분자/블루베리  100.0     55.0  12.57     1.00  0.80  4200.0  0.241218\n",
       "3   감귤/한라봉/오렌지  100.0     50.0  12.80     1.00  0.10  1180.0  1.416313\n",
       "4  바나나/파인애플/망고  100.0     84.0  21.90     1.10  0.10   383.0  0.137823\n",
       "5        견과류 밤   50.0     75.5  16.70     1.65  0.25  1035.0  0.618773\n",
       "6        레몬/자몽  100.0     28.0   9.30     0.71  0.08   695.0  0.047517\n",
       "7     참외/메론/수박  100.0     39.0   9.40     1.20  0.18   790.0  0.079475\n",
       "8       키위/참다래  100.0     64.0  14.80     0.80  1.00  1127.0  0.104552\n",
       "9         감/홍시  100.0     58.0  15.75     0.40  0.04  1194.0  0.125146"
      ]
     },
     "execution_count": 88,
     "metadata": {
      "tags": []
     },
     "output_type": "execute_result"
    }
   ],
   "source": [
    "result_fruit"
   ]
  },
  {
   "cell_type": "code",
   "execution_count": null,
   "metadata": {
    "id": "gn1SRM8hzNnr"
   },
   "outputs": [],
   "source": [
    "calorie_lo = 530\n",
    "calorie_up = 800\n",
    "carbo_lo = 50\n",
    "carbo_up = 120\n",
    "protein_lo = 20\n",
    "protein_up = 50\n",
    "fat_lo = 5\n",
    "fat_up = 20\n",
    "price_lo = 0\n",
    "price_up = 7000"
   ]
  },
  {
   "cell_type": "code",
   "execution_count": null,
   "metadata": {
    "id": "CALNG4utzNqi"
   },
   "outputs": [],
   "source": [
    "def selecting(rice,livestock,fish,veg1,veg2,kimchi,fruit):\n",
    "  rice_num = rice.shape[0]\n",
    "  livestock_num = livestock.shape[0]\n",
    "  fish_num = fish.shape[0]\n",
    "  veg1_num = veg1.shape[0]\n",
    "  veg2_num = veg2.shape[0]\n",
    "  kimchi_num = kimchi.shape[0]\n",
    "  fruit_num = fruit.shape[0]\n",
    "  result = np.zeros((100000,8))\n",
    "  result = pd.DataFrame(result)\n",
    "  result.columns = ['rice','livestock','fish','veg1','veg2','kimchi','fruit','pred']\n",
    "  cnt = 0\n",
    "  for a in range(rice_num):\n",
    "    for b in range(livestock_num):\n",
    "      for c in range(fish_num):\n",
    "        for d in range(veg1_num):\n",
    "          for e in range (veg2_num):\n",
    "            for f in range (kimchi_num):\n",
    "              for g in range (fruit_num):\n",
    "                if ((float(rice.iloc[a,2]) + float(livestock.iloc[b,2]) + float(fish.iloc[c,2]) + float(veg1.iloc[d,2]) + float(veg2.iloc[e,2]) + float(kimchi.iloc[f,2]) + float(fruit.iloc[g,2]) >= calorie_lo) &\n",
    "                (float(rice.iloc[a,2]) + float(livestock.iloc[b,2]) + float(fish.iloc[c,2]) + float(veg1.iloc[d,2]) + float(veg2.iloc[e,2]) + float(kimchi.iloc[f,2]) + float(fruit.iloc[g,2])  <= calorie_up) &\n",
    "                (float(rice.iloc[a,3]) + float(livestock.iloc[b,3]) + float(fish.iloc[c,3]) + float(veg1.iloc[d,3]) + float(veg2.iloc[e,3]) + float(kimchi.iloc[f,3]) + float(fruit.iloc[g,3]) >= carbo_lo) &\n",
    "                (float(rice.iloc[a,3]) + float(livestock.iloc[b,3]) + float(fish.iloc[c,3]) + float(veg1.iloc[d,3]) + float(veg2.iloc[e,3]) + float(kimchi.iloc[f,3]) + float(fruit.iloc[g,3]) <= carbo_up) &\n",
    "                (float(rice.iloc[a,4]) + float(livestock.iloc[b,4]) + float(fish.iloc[c,4]) + float(veg1.iloc[d,4]) + float(veg2.iloc[e,4]) + float(kimchi.iloc[f,4]) + float(fruit.iloc[g,4]) >= protein_lo) &\n",
    "                (float(rice.iloc[a,4]) + float(livestock.iloc[b,4]) + float(fish.iloc[c,4]) + float(veg1.iloc[d,4]) + float(veg2.iloc[e,4]) + float(kimchi.iloc[f,4]) + float(fruit.iloc[g,4]) <= protein_up) &\n",
    "                (float(rice.iloc[a,5]) + float(livestock.iloc[b,5]) + float(fish.iloc[c,5]) + float(veg1.iloc[d,5]) + float(veg2.iloc[e,5]) + float(kimchi.iloc[f,5]) + float(fruit.iloc[g,5]) >= fat_lo) &\n",
    "                (float(rice.iloc[a,5]) + float(livestock.iloc[b,5]) + float(fish.iloc[c,5]) + float(veg1.iloc[d,5]) + float(veg2.iloc[e,5]) + float(kimchi.iloc[f,5]) + float(fruit.iloc[g,5]) <= fat_up) &\n",
    "                (float(rice.iloc[a,6]) + float(livestock.iloc[b,6]) + float(fish.iloc[c,6]) + float(veg1.iloc[d,6]) + float(veg2.iloc[e,6]) + float(kimchi.iloc[f,6]) + float(fruit.iloc[g,6]) >= price_lo) &\n",
    "                (float(rice.iloc[a,6]) + float(livestock.iloc[b,6]) + float(fish.iloc[c,6]) + float(veg1.iloc[d,6]) + float(veg2.iloc[e,6]) + float(kimchi.iloc[f,6]) + float(fruit.iloc[g,6]) <= price_up)) :\n",
    "                  result.iloc[cnt,0] = rice.iloc[a,0]\n",
    "                  result.iloc[cnt,1] = livestock.iloc[b,0]\n",
    "                  result.iloc[cnt,2] = fish.iloc[c,0]\n",
    "                  result.iloc[cnt,3] = veg1.iloc[d,0]\n",
    "                  result.iloc[cnt,4] = veg2.iloc[e,0]\n",
    "                  result.iloc[cnt,5] = kimchi.iloc[f,0]\n",
    "                  result.iloc[cnt,6] = fruit.iloc[g,0]\n",
    "                  result.iloc[cnt,7] = float(rice.iloc[a,7]) + float(livestock.iloc[b,7]) + float(fish.iloc[c,7]) + float(veg1.iloc[d,7]) + float(veg2.iloc[e,7]) + float(kimchi.iloc[f,7]) + float(fruit.iloc[g,7])\n",
    "                  result = result.astype({'pred':'float'})\n",
    "                  cnt += 1\n",
    "  result = result.sort_values(by='pred',ascending=False)\n",
    "  final = result.iloc[0:5,:]\n",
    "  return final"
   ]
  },
  {
   "cell_type": "code",
   "execution_count": null,
   "metadata": {
    "colab": {
     "base_uri": "https://localhost:8080/",
     "height": 203
    },
    "executionInfo": {
     "elapsed": 40971,
     "status": "ok",
     "timestamp": 1624669107308,
     "user": {
      "displayName": "김미섭",
      "photoUrl": "",
      "userId": "10860151424334307550"
     },
     "user_tz": -540
    },
    "id": "xIHU7fBL1BaD",
    "outputId": "3fa46e70-3990-4db6-e1ca-b549ae9efc63"
   },
   "outputs": [
    {
     "data": {
      "text/html": [
       "<div>\n",
       "<style scoped>\n",
       "    .dataframe tbody tr th:only-of-type {\n",
       "        vertical-align: middle;\n",
       "    }\n",
       "\n",
       "    .dataframe tbody tr th {\n",
       "        vertical-align: top;\n",
       "    }\n",
       "\n",
       "    .dataframe thead th {\n",
       "        text-align: right;\n",
       "    }\n",
       "</style>\n",
       "<table border=\"1\" class=\"dataframe\">\n",
       "  <thead>\n",
       "    <tr style=\"text-align: right;\">\n",
       "      <th></th>\n",
       "      <th>rice</th>\n",
       "      <th>livestock</th>\n",
       "      <th>fish</th>\n",
       "      <th>veg1</th>\n",
       "      <th>veg2</th>\n",
       "      <th>kimchi</th>\n",
       "      <th>fruit</th>\n",
       "      <th>pred</th>\n",
       "    </tr>\n",
       "  </thead>\n",
       "  <tbody>\n",
       "    <tr>\n",
       "      <th>587</th>\n",
       "      <td>쌀</td>\n",
       "      <td>돼지 곱창</td>\n",
       "      <td>조개</td>\n",
       "      <td>미나리</td>\n",
       "      <td>표고버섯</td>\n",
       "      <td>물김치</td>\n",
       "      <td>감귤/한라봉/오렌지</td>\n",
       "      <td>2.532469</td>\n",
       "    </tr>\n",
       "    <tr>\n",
       "      <th>679</th>\n",
       "      <td>쌀</td>\n",
       "      <td>돼지 곱창</td>\n",
       "      <td>조개</td>\n",
       "      <td>미나리</td>\n",
       "      <td>고추/피망/파프리카</td>\n",
       "      <td>물김치</td>\n",
       "      <td>감귤/한라봉/오렌지</td>\n",
       "      <td>2.526738</td>\n",
       "    </tr>\n",
       "    <tr>\n",
       "      <th>608</th>\n",
       "      <td>쌀</td>\n",
       "      <td>돼지 곱창</td>\n",
       "      <td>조개</td>\n",
       "      <td>미나리</td>\n",
       "      <td>도라지/더덕</td>\n",
       "      <td>물김치</td>\n",
       "      <td>감귤/한라봉/오렌지</td>\n",
       "      <td>2.515951</td>\n",
       "    </tr>\n",
       "    <tr>\n",
       "      <th>632</th>\n",
       "      <td>쌀</td>\n",
       "      <td>돼지 곱창</td>\n",
       "      <td>조개</td>\n",
       "      <td>미나리</td>\n",
       "      <td>토마토</td>\n",
       "      <td>물김치</td>\n",
       "      <td>감귤/한라봉/오렌지</td>\n",
       "      <td>2.492982</td>\n",
       "    </tr>\n",
       "    <tr>\n",
       "      <th>655</th>\n",
       "      <td>쌀</td>\n",
       "      <td>돼지 곱창</td>\n",
       "      <td>조개</td>\n",
       "      <td>미나리</td>\n",
       "      <td>감자</td>\n",
       "      <td>물김치</td>\n",
       "      <td>감귤/한라봉/오렌지</td>\n",
       "      <td>2.490320</td>\n",
       "    </tr>\n",
       "  </tbody>\n",
       "</table>\n",
       "</div>"
      ],
      "text/plain": [
       "    rice livestock fish veg1        veg2 kimchi       fruit      pred\n",
       "587    쌀     돼지 곱창   조개  미나리        표고버섯    물김치  감귤/한라봉/오렌지  2.532469\n",
       "679    쌀     돼지 곱창   조개  미나리  고추/피망/파프리카    물김치  감귤/한라봉/오렌지  2.526738\n",
       "608    쌀     돼지 곱창   조개  미나리      도라지/더덕    물김치  감귤/한라봉/오렌지  2.515951\n",
       "632    쌀     돼지 곱창   조개  미나리         토마토    물김치  감귤/한라봉/오렌지  2.492982\n",
       "655    쌀     돼지 곱창   조개  미나리          감자    물김치  감귤/한라봉/오렌지  2.490320"
      ]
     },
     "execution_count": 91,
     "metadata": {
      "tags": []
     },
     "output_type": "execute_result"
    }
   ],
   "source": [
    "selecting(result_rice,result_livestock,result_fish,result_veg1,result_veg2,result_kimchi,result_fruit)"
   ]
  },
  {
   "cell_type": "markdown",
   "metadata": {
    "id": "q0j39WAte6KK"
   },
   "source": [
    "2020년 4월 15일"
   ]
  },
  {
   "cell_type": "code",
   "execution_count": null,
   "metadata": {
    "id": "z_R29tXK5KxO"
   },
   "outputs": [],
   "source": [
    "result_rice = pd.read_csv('/gdrive/My Drive/weather_bigdata_contest/result/result_rice.csv')\n",
    "result_livestock = pd.read_csv('/gdrive/My Drive/weather_bigdata_contest/result/result_livestock.csv')\n",
    "result_fish = pd.read_csv('/gdrive/My Drive/weather_bigdata_contest/result/result_fish.csv')\n",
    "result_veg1 = pd.read_csv('/gdrive/My Drive/weather_bigdata_contest/result/result_veg1.csv')\n",
    "result_veg2 = pd.read_csv('/gdrive/My Drive/weather_bigdata_contest/result/result_veg2.csv')\n",
    "result_kimchi = pd.read_csv('/gdrive/My Drive/weather_bigdata_contest/result/result_kimchi.csv')\n",
    "result_fruit = pd.read_csv('/gdrive/My Drive/weather_bigdata_contest/result/result_fruit.csv')"
   ]
  },
  {
   "cell_type": "code",
   "execution_count": null,
   "metadata": {
    "id": "89OzqlTw1Bg6"
   },
   "outputs": [],
   "source": [
    "result_rice = pd.concat([result_rice.iloc[:,0:7],result_rice.iloc[:,8]],axis=1)\n",
    "result_rice.columns = ['item','g','calorie','carbo','protein','fat','price','pred']\n",
    "result_livestock = pd.concat([result_livestock.iloc[:,0:7],result_livestock.iloc[:,8]],axis=1)\n",
    "result_livestock.columns = ['item','g','calorie','carbo','protein','fat','price','pred']\n",
    "result_fish = pd.concat([result_fish.iloc[:,0:7],result_fish.iloc[:,8]],axis=1)\n",
    "result_fish.columns = ['item','g','calorie','carbo','protein','fat','price','pred']\n",
    "result_veg1 = pd.concat([result_veg1.iloc[:,0:7],result_veg1.iloc[:,8]],axis=1)\n",
    "result_veg1.columns = ['item','g','calorie','carbo','protein','fat','price','pred']\n",
    "result_veg2 = pd.concat([result_veg2.iloc[:,0:7],result_veg2.iloc[:,8]],axis=1)\n",
    "result_veg2.columns = ['item','g','calorie','carbo','protein','fat','price','pred']\n",
    "result_kimchi = pd.concat([result_kimchi.iloc[:,0:7],result_kimchi.iloc[:,8]],axis=1)\n",
    "result_kimchi.columns = ['item','g','calorie','carbo','protein','fat','price','pred']\n",
    "result_fruit = pd.concat([result_fruit.iloc[:,0:7],result_fruit.iloc[:,8]],axis=1)\n",
    "result_fruit.columns = ['item','g','calorie','carbo','protein','fat','price','pred']"
   ]
  },
  {
   "cell_type": "code",
   "execution_count": null,
   "metadata": {
    "id": "-8mbP5xSBkY_"
   },
   "outputs": [],
   "source": [
    "result_rice = calculate(result_rice)\n",
    "result_livestock = calculate(result_livestock)\n",
    "result_fish = calculate(result_fish)\n",
    "result_veg1 = calculate(result_veg1)\n",
    "result_veg2 = calculate(result_veg2)\n",
    "result_kimchi = calculate(result_kimchi)\n",
    "result_fruit = calculate(result_fruit)"
   ]
  },
  {
   "cell_type": "code",
   "execution_count": null,
   "metadata": {
    "colab": {
     "base_uri": "https://localhost:8080/",
     "height": 203
    },
    "executionInfo": {
     "elapsed": 40794,
     "status": "ok",
     "timestamp": 1624669188333,
     "user": {
      "displayName": "김미섭",
      "photoUrl": "",
      "userId": "10860151424334307550"
     },
     "user_tz": -540
    },
    "id": "wD2TH4_b1BjS",
    "outputId": "7c36457e-201f-40c5-977f-83fb8f1b26e2"
   },
   "outputs": [
    {
     "data": {
      "text/html": [
       "<div>\n",
       "<style scoped>\n",
       "    .dataframe tbody tr th:only-of-type {\n",
       "        vertical-align: middle;\n",
       "    }\n",
       "\n",
       "    .dataframe tbody tr th {\n",
       "        vertical-align: top;\n",
       "    }\n",
       "\n",
       "    .dataframe thead th {\n",
       "        text-align: right;\n",
       "    }\n",
       "</style>\n",
       "<table border=\"1\" class=\"dataframe\">\n",
       "  <thead>\n",
       "    <tr style=\"text-align: right;\">\n",
       "      <th></th>\n",
       "      <th>rice</th>\n",
       "      <th>livestock</th>\n",
       "      <th>fish</th>\n",
       "      <th>veg1</th>\n",
       "      <th>veg2</th>\n",
       "      <th>kimchi</th>\n",
       "      <th>fruit</th>\n",
       "      <th>pred</th>\n",
       "    </tr>\n",
       "  </thead>\n",
       "  <tbody>\n",
       "    <tr>\n",
       "      <th>671</th>\n",
       "      <td>쌀</td>\n",
       "      <td>돼지 곱창</td>\n",
       "      <td>조개</td>\n",
       "      <td>미나리</td>\n",
       "      <td>고추/피망/파프리카</td>\n",
       "      <td>무김치</td>\n",
       "      <td>감귤/한라봉/오렌지</td>\n",
       "      <td>2.203417</td>\n",
       "    </tr>\n",
       "    <tr>\n",
       "      <th>679</th>\n",
       "      <td>쌀</td>\n",
       "      <td>돼지 곱창</td>\n",
       "      <td>조개</td>\n",
       "      <td>미나리</td>\n",
       "      <td>고추/피망/파프리카</td>\n",
       "      <td>물김치</td>\n",
       "      <td>감귤/한라봉/오렌지</td>\n",
       "      <td>2.193603</td>\n",
       "    </tr>\n",
       "    <tr>\n",
       "      <th>512</th>\n",
       "      <td>쌀</td>\n",
       "      <td>계란</td>\n",
       "      <td>꽃게</td>\n",
       "      <td>오이/가지</td>\n",
       "      <td>토마토</td>\n",
       "      <td>무김치</td>\n",
       "      <td>감귤/한라봉/오렌지</td>\n",
       "      <td>2.187481</td>\n",
       "    </tr>\n",
       "    <tr>\n",
       "      <th>520</th>\n",
       "      <td>쌀</td>\n",
       "      <td>계란</td>\n",
       "      <td>꽃게</td>\n",
       "      <td>오이/가지</td>\n",
       "      <td>토마토</td>\n",
       "      <td>물김치</td>\n",
       "      <td>감귤/한라봉/오렌지</td>\n",
       "      <td>2.177667</td>\n",
       "    </tr>\n",
       "    <tr>\n",
       "      <th>534</th>\n",
       "      <td>쌀</td>\n",
       "      <td>계란</td>\n",
       "      <td>꽃게</td>\n",
       "      <td>오이/가지</td>\n",
       "      <td>감자</td>\n",
       "      <td>무김치</td>\n",
       "      <td>감귤/한라봉/오렌지</td>\n",
       "      <td>2.165308</td>\n",
       "    </tr>\n",
       "  </tbody>\n",
       "</table>\n",
       "</div>"
      ],
      "text/plain": [
       "    rice livestock fish   veg1        veg2 kimchi       fruit      pred\n",
       "671    쌀     돼지 곱창   조개    미나리  고추/피망/파프리카    무김치  감귤/한라봉/오렌지  2.203417\n",
       "679    쌀     돼지 곱창   조개    미나리  고추/피망/파프리카    물김치  감귤/한라봉/오렌지  2.193603\n",
       "512    쌀        계란   꽃게  오이/가지         토마토    무김치  감귤/한라봉/오렌지  2.187481\n",
       "520    쌀        계란   꽃게  오이/가지         토마토    물김치  감귤/한라봉/오렌지  2.177667\n",
       "534    쌀        계란   꽃게  오이/가지          감자    무김치  감귤/한라봉/오렌지  2.165308"
      ]
     },
     "execution_count": 95,
     "metadata": {
      "tags": []
     },
     "output_type": "execute_result"
    }
   ],
   "source": [
    "selecting(result_rice,result_livestock,result_fish,result_veg1,result_veg2,result_kimchi,result_fruit)"
   ]
  },
  {
   "cell_type": "markdown",
   "metadata": {
    "id": "P4JB_ZXGe89q"
   },
   "source": [
    "2020년 7월 15일"
   ]
  },
  {
   "cell_type": "code",
   "execution_count": null,
   "metadata": {
    "id": "qx8gIuXm59HX"
   },
   "outputs": [],
   "source": [
    "result_rice = pd.read_csv('/gdrive/My Drive/weather_bigdata_contest/result/result_rice.csv')\n",
    "result_livestock = pd.read_csv('/gdrive/My Drive/weather_bigdata_contest/result/result_livestock.csv')\n",
    "result_fish = pd.read_csv('/gdrive/My Drive/weather_bigdata_contest/result/result_fish.csv')\n",
    "result_veg1 = pd.read_csv('/gdrive/My Drive/weather_bigdata_contest/result/result_veg1.csv')\n",
    "result_veg2 = pd.read_csv('/gdrive/My Drive/weather_bigdata_contest/result/result_veg2.csv')\n",
    "result_kimchi = pd.read_csv('/gdrive/My Drive/weather_bigdata_contest/result/result_kimchi.csv')\n",
    "result_fruit = pd.read_csv('/gdrive/My Drive/weather_bigdata_contest/result/result_fruit.csv')"
   ]
  },
  {
   "cell_type": "code",
   "execution_count": null,
   "metadata": {
    "id": "Zo2jLrev59LU"
   },
   "outputs": [],
   "source": [
    "result_rice = pd.concat([result_rice.iloc[:,0:7],result_rice.iloc[:,9]],axis=1)\n",
    "result_rice.columns = ['item','g','calorie','carbo','protein','fat','price','pred']\n",
    "result_livestock = pd.concat([result_livestock.iloc[:,0:7],result_livestock.iloc[:,9]],axis=1)\n",
    "result_livestock.columns = ['item','g','calorie','carbo','protein','fat','price','pred']\n",
    "result_fish = pd.concat([result_fish.iloc[:,0:7],result_fish.iloc[:,9]],axis=1)\n",
    "result_fish.columns = ['item','g','calorie','carbo','protein','fat','price','pred']\n",
    "result_veg1 = pd.concat([result_veg1.iloc[:,0:7],result_veg1.iloc[:,9]],axis=1)\n",
    "result_veg1.columns = ['item','g','calorie','carbo','protein','fat','price','pred']\n",
    "result_veg2 = pd.concat([result_veg2.iloc[:,0:7],result_veg2.iloc[:,9]],axis=1)\n",
    "result_veg2.columns = ['item','g','calorie','carbo','protein','fat','price','pred']\n",
    "result_kimchi = pd.concat([result_kimchi.iloc[:,0:7],result_kimchi.iloc[:,9]],axis=1)\n",
    "result_kimchi.columns = ['item','g','calorie','carbo','protein','fat','price','pred']\n",
    "result_fruit = pd.concat([result_fruit.iloc[:,0:7],result_fruit.iloc[:,9]],axis=1)\n",
    "result_fruit.columns = ['item','g','calorie','carbo','protein','fat','price','pred']"
   ]
  },
  {
   "cell_type": "code",
   "execution_count": null,
   "metadata": {
    "id": "1Xap0CboDaB0"
   },
   "outputs": [],
   "source": [
    "result_rice = calculate(result_rice)\n",
    "result_livestock = calculate(result_livestock)\n",
    "result_fish = calculate(result_fish)\n",
    "result_veg1 = calculate(result_veg1)\n",
    "result_veg2 = calculate(result_veg2)\n",
    "result_kimchi = calculate(result_kimchi)\n",
    "result_fruit = calculate(result_fruit)"
   ]
  },
  {
   "cell_type": "code",
   "execution_count": null,
   "metadata": {
    "colab": {
     "base_uri": "https://localhost:8080/",
     "height": 203
    },
    "executionInfo": {
     "elapsed": 40226,
     "status": "ok",
     "timestamp": 1624669258803,
     "user": {
      "displayName": "김미섭",
      "photoUrl": "",
      "userId": "10860151424334307550"
     },
     "user_tz": -540
    },
    "id": "3qFH68Bd59Om",
    "outputId": "51004348-7a4a-4b2b-c56b-4b86f8c0ed2d"
   },
   "outputs": [
    {
     "data": {
      "text/html": [
       "<div>\n",
       "<style scoped>\n",
       "    .dataframe tbody tr th:only-of-type {\n",
       "        vertical-align: middle;\n",
       "    }\n",
       "\n",
       "    .dataframe tbody tr th {\n",
       "        vertical-align: top;\n",
       "    }\n",
       "\n",
       "    .dataframe thead th {\n",
       "        text-align: right;\n",
       "    }\n",
       "</style>\n",
       "<table border=\"1\" class=\"dataframe\">\n",
       "  <thead>\n",
       "    <tr style=\"text-align: right;\">\n",
       "      <th></th>\n",
       "      <th>rice</th>\n",
       "      <th>livestock</th>\n",
       "      <th>fish</th>\n",
       "      <th>veg1</th>\n",
       "      <th>veg2</th>\n",
       "      <th>kimchi</th>\n",
       "      <th>fruit</th>\n",
       "      <th>pred</th>\n",
       "    </tr>\n",
       "  </thead>\n",
       "  <tbody>\n",
       "    <tr>\n",
       "      <th>555</th>\n",
       "      <td>쌀</td>\n",
       "      <td>계란</td>\n",
       "      <td>꽃게</td>\n",
       "      <td>오이/가지</td>\n",
       "      <td>고추/피망/파프리카</td>\n",
       "      <td>무김치</td>\n",
       "      <td>레몬/자몽</td>\n",
       "      <td>2.422541</td>\n",
       "    </tr>\n",
       "    <tr>\n",
       "      <th>498</th>\n",
       "      <td>쌀</td>\n",
       "      <td>계란</td>\n",
       "      <td>꽃게</td>\n",
       "      <td>오이/가지</td>\n",
       "      <td>표고버섯</td>\n",
       "      <td>무김치</td>\n",
       "      <td>레몬/자몽</td>\n",
       "      <td>2.415475</td>\n",
       "    </tr>\n",
       "    <tr>\n",
       "      <th>537</th>\n",
       "      <td>쌀</td>\n",
       "      <td>계란</td>\n",
       "      <td>꽃게</td>\n",
       "      <td>오이/가지</td>\n",
       "      <td>감자</td>\n",
       "      <td>무김치</td>\n",
       "      <td>레몬/자몽</td>\n",
       "      <td>2.405378</td>\n",
       "    </tr>\n",
       "    <tr>\n",
       "      <th>515</th>\n",
       "      <td>쌀</td>\n",
       "      <td>계란</td>\n",
       "      <td>꽃게</td>\n",
       "      <td>오이/가지</td>\n",
       "      <td>토마토</td>\n",
       "      <td>무김치</td>\n",
       "      <td>레몬/자몽</td>\n",
       "      <td>2.393716</td>\n",
       "    </tr>\n",
       "    <tr>\n",
       "      <th>559</th>\n",
       "      <td>쌀</td>\n",
       "      <td>계란</td>\n",
       "      <td>꽃게</td>\n",
       "      <td>오이/가지</td>\n",
       "      <td>고추/피망/파프리카</td>\n",
       "      <td>물김치</td>\n",
       "      <td>레몬/자몽</td>\n",
       "      <td>2.370215</td>\n",
       "    </tr>\n",
       "  </tbody>\n",
       "</table>\n",
       "</div>"
      ],
      "text/plain": [
       "    rice livestock fish   veg1        veg2 kimchi  fruit      pred\n",
       "555    쌀        계란   꽃게  오이/가지  고추/피망/파프리카    무김치  레몬/자몽  2.422541\n",
       "498    쌀        계란   꽃게  오이/가지        표고버섯    무김치  레몬/자몽  2.415475\n",
       "537    쌀        계란   꽃게  오이/가지          감자    무김치  레몬/자몽  2.405378\n",
       "515    쌀        계란   꽃게  오이/가지         토마토    무김치  레몬/자몽  2.393716\n",
       "559    쌀        계란   꽃게  오이/가지  고추/피망/파프리카    물김치  레몬/자몽  2.370215"
      ]
     },
     "execution_count": 99,
     "metadata": {
      "tags": []
     },
     "output_type": "execute_result"
    }
   ],
   "source": [
    "selecting(result_rice,result_livestock,result_fish,result_veg1,result_veg2,result_kimchi,result_fruit)"
   ]
  },
  {
   "cell_type": "markdown",
   "metadata": {
    "id": "yng7TF2VfCTn"
   },
   "source": [
    "2020년 10월 15일"
   ]
  },
  {
   "cell_type": "code",
   "execution_count": null,
   "metadata": {
    "id": "Lqz4Txmu59Su"
   },
   "outputs": [],
   "source": [
    "result_rice = pd.read_csv('/gdrive/My Drive/weather_bigdata_contest/result/result_rice.csv')\n",
    "result_livestock = pd.read_csv('/gdrive/My Drive/weather_bigdata_contest/result/result_livestock.csv')\n",
    "result_fish = pd.read_csv('/gdrive/My Drive/weather_bigdata_contest/result/result_fish.csv')\n",
    "result_veg1 = pd.read_csv('/gdrive/My Drive/weather_bigdata_contest/result/result_veg1.csv')\n",
    "result_veg2 = pd.read_csv('/gdrive/My Drive/weather_bigdata_contest/result/result_veg2.csv')\n",
    "result_kimchi = pd.read_csv('/gdrive/My Drive/weather_bigdata_contest/result/result_kimchi.csv')\n",
    "result_fruit = pd.read_csv('/gdrive/My Drive/weather_bigdata_contest/result/result_fruit.csv')"
   ]
  },
  {
   "cell_type": "code",
   "execution_count": null,
   "metadata": {
    "id": "qA7Mvm9Q6QaW"
   },
   "outputs": [],
   "source": [
    "result_rice = pd.concat([result_rice.iloc[:,0:7],result_rice.iloc[:,10]],axis=1)\n",
    "result_rice.columns = ['item','g','calorie','carbo','protein','fat','price','pred']\n",
    "result_livestock = pd.concat([result_livestock.iloc[:,0:7],result_livestock.iloc[:,10]],axis=1)\n",
    "result_livestock.columns = ['item','g','calorie','carbo','protein','fat','price','pred']\n",
    "result_fish = pd.concat([result_fish.iloc[:,0:7],result_fish.iloc[:,10]],axis=1)\n",
    "result_fish.columns = ['item','g','calorie','carbo','protein','fat','price','pred']\n",
    "result_veg1 = pd.concat([result_veg1.iloc[:,0:7],result_veg1.iloc[:,10]],axis=1)\n",
    "result_veg1.columns = ['item','g','calorie','carbo','protein','fat','price','pred']\n",
    "result_veg2 = pd.concat([result_veg2.iloc[:,0:7],result_veg2.iloc[:,10]],axis=1)\n",
    "result_veg2.columns = ['item','g','calorie','carbo','protein','fat','price','pred']\n",
    "result_kimchi = pd.concat([result_kimchi.iloc[:,0:7],result_kimchi.iloc[:,10]],axis=1)\n",
    "result_kimchi.columns = ['item','g','calorie','carbo','protein','fat','price','pred']\n",
    "result_fruit = pd.concat([result_fruit.iloc[:,0:7],result_fruit.iloc[:,10]],axis=1)\n",
    "result_fruit.columns = ['item','g','calorie','carbo','protein','fat','price','pred']"
   ]
  },
  {
   "cell_type": "code",
   "execution_count": null,
   "metadata": {
    "id": "6sQjARLIBmfD"
   },
   "outputs": [],
   "source": [
    "result_rice = calculate(result_rice)\n",
    "result_livestock = calculate(result_livestock)\n",
    "result_fish = calculate(result_fish)\n",
    "result_veg1 = calculate(result_veg1)\n",
    "result_veg2 = calculate(result_veg2)\n",
    "result_kimchi = calculate(result_kimchi)\n",
    "result_fruit = calculate(result_fruit)"
   ]
  },
  {
   "cell_type": "code",
   "execution_count": null,
   "metadata": {
    "colab": {
     "base_uri": "https://localhost:8080/",
     "height": 203
    },
    "executionInfo": {
     "elapsed": 40940,
     "status": "ok",
     "timestamp": 1624669330816,
     "user": {
      "displayName": "김미섭",
      "photoUrl": "",
      "userId": "10860151424334307550"
     },
     "user_tz": -540
    },
    "id": "OvJPBOEd6QdI",
    "outputId": "96c5ec73-8175-48e2-9d74-e59fef5938c6"
   },
   "outputs": [
    {
     "data": {
      "text/html": [
       "<div>\n",
       "<style scoped>\n",
       "    .dataframe tbody tr th:only-of-type {\n",
       "        vertical-align: middle;\n",
       "    }\n",
       "\n",
       "    .dataframe tbody tr th {\n",
       "        vertical-align: top;\n",
       "    }\n",
       "\n",
       "    .dataframe thead th {\n",
       "        text-align: right;\n",
       "    }\n",
       "</style>\n",
       "<table border=\"1\" class=\"dataframe\">\n",
       "  <thead>\n",
       "    <tr style=\"text-align: right;\">\n",
       "      <th></th>\n",
       "      <th>rice</th>\n",
       "      <th>livestock</th>\n",
       "      <th>fish</th>\n",
       "      <th>veg1</th>\n",
       "      <th>veg2</th>\n",
       "      <th>kimchi</th>\n",
       "      <th>fruit</th>\n",
       "      <th>pred</th>\n",
       "    </tr>\n",
       "  </thead>\n",
       "  <tbody>\n",
       "    <tr>\n",
       "      <th>534</th>\n",
       "      <td>쌀</td>\n",
       "      <td>계란</td>\n",
       "      <td>꽃게</td>\n",
       "      <td>오이/가지</td>\n",
       "      <td>감자</td>\n",
       "      <td>무김치</td>\n",
       "      <td>감귤/한라봉/오렌지</td>\n",
       "      <td>1.744499</td>\n",
       "    </tr>\n",
       "    <tr>\n",
       "      <th>512</th>\n",
       "      <td>쌀</td>\n",
       "      <td>계란</td>\n",
       "      <td>꽃게</td>\n",
       "      <td>오이/가지</td>\n",
       "      <td>토마토</td>\n",
       "      <td>무김치</td>\n",
       "      <td>감귤/한라봉/오렌지</td>\n",
       "      <td>1.727530</td>\n",
       "    </tr>\n",
       "    <tr>\n",
       "      <th>541</th>\n",
       "      <td>쌀</td>\n",
       "      <td>계란</td>\n",
       "      <td>꽃게</td>\n",
       "      <td>오이/가지</td>\n",
       "      <td>감자</td>\n",
       "      <td>물김치</td>\n",
       "      <td>감귤/한라봉/오렌지</td>\n",
       "      <td>1.723692</td>\n",
       "    </tr>\n",
       "    <tr>\n",
       "      <th>520</th>\n",
       "      <td>쌀</td>\n",
       "      <td>계란</td>\n",
       "      <td>꽃게</td>\n",
       "      <td>오이/가지</td>\n",
       "      <td>토마토</td>\n",
       "      <td>물김치</td>\n",
       "      <td>감귤/한라봉/오렌지</td>\n",
       "      <td>1.706723</td>\n",
       "    </tr>\n",
       "    <tr>\n",
       "      <th>536</th>\n",
       "      <td>쌀</td>\n",
       "      <td>계란</td>\n",
       "      <td>꽃게</td>\n",
       "      <td>오이/가지</td>\n",
       "      <td>감자</td>\n",
       "      <td>무김치</td>\n",
       "      <td>견과류 밤</td>\n",
       "      <td>1.693865</td>\n",
       "    </tr>\n",
       "  </tbody>\n",
       "</table>\n",
       "</div>"
      ],
      "text/plain": [
       "    rice livestock fish   veg1 veg2 kimchi       fruit      pred\n",
       "534    쌀        계란   꽃게  오이/가지   감자    무김치  감귤/한라봉/오렌지  1.744499\n",
       "512    쌀        계란   꽃게  오이/가지  토마토    무김치  감귤/한라봉/오렌지  1.727530\n",
       "541    쌀        계란   꽃게  오이/가지   감자    물김치  감귤/한라봉/오렌지  1.723692\n",
       "520    쌀        계란   꽃게  오이/가지  토마토    물김치  감귤/한라봉/오렌지  1.706723\n",
       "536    쌀        계란   꽃게  오이/가지   감자    무김치       견과류 밤  1.693865"
      ]
     },
     "execution_count": 103,
     "metadata": {
      "tags": []
     },
     "output_type": "execute_result"
    }
   ],
   "source": [
    "selecting(result_rice,result_livestock,result_fish,result_veg1,result_veg2,result_kimchi,result_fruit)"
   ]
  },
  {
   "cell_type": "markdown",
   "metadata": {
    "id": "Su1iSJradj4q"
   },
   "source": [
    "##selecting 소셜 데이터\n"
   ]
  },
  {
   "cell_type": "code",
   "execution_count": null,
   "metadata": {
    "id": "bfQDusqSdeB2"
   },
   "outputs": [],
   "source": [
    "result_rice = pd.read_csv('/gdrive/My Drive/weather_bigdata_contest/result/result2_rice.csv')\n",
    "result_livestock = pd.read_csv('/gdrive/My Drive/weather_bigdata_contest/result/result2_livestock.csv',encoding='cp949')\n",
    "result_fish = pd.read_csv('/gdrive/My Drive/weather_bigdata_contest/result/result2_fish.csv',encoding='cp949')\n",
    "result_veg1 = pd.read_csv('/gdrive/My Drive/weather_bigdata_contest/result/result2_veg1.csv',encoding='cp949')\n",
    "result_veg2 = pd.read_csv('/gdrive/My Drive/weather_bigdata_contest/result/result2_veg2.csv',encoding='cp949')\n",
    "result_kimchi = pd.read_csv('/gdrive/My Drive/weather_bigdata_contest/result/result2_kimchi.csv',encoding='cp949')\n",
    "result_fruit = pd.read_csv('/gdrive/My Drive/weather_bigdata_contest/result/result2_fruit.csv',encoding='cp949')"
   ]
  },
  {
   "cell_type": "code",
   "execution_count": null,
   "metadata": {
    "colab": {
     "base_uri": "https://localhost:8080/",
     "height": 80
    },
    "executionInfo": {
     "elapsed": 307,
     "status": "ok",
     "timestamp": 1624663113010,
     "user": {
      "displayName": "김미섭",
      "photoUrl": "",
      "userId": "10860151424334307550"
     },
     "user_tz": -540
    },
    "id": "1_0jexbUdeGt",
    "outputId": "a01f0236-3fd1-4735-ad8d-df9aa22cd07f"
   },
   "outputs": [
    {
     "data": {
      "text/html": [
       "<div>\n",
       "<style scoped>\n",
       "    .dataframe tbody tr th:only-of-type {\n",
       "        vertical-align: middle;\n",
       "    }\n",
       "\n",
       "    .dataframe tbody tr th {\n",
       "        vertical-align: top;\n",
       "    }\n",
       "\n",
       "    .dataframe thead th {\n",
       "        text-align: right;\n",
       "    }\n",
       "</style>\n",
       "<table border=\"1\" class=\"dataframe\">\n",
       "  <thead>\n",
       "    <tr style=\"text-align: right;\">\n",
       "      <th></th>\n",
       "      <th>item</th>\n",
       "      <th>g</th>\n",
       "      <th>calorie</th>\n",
       "      <th>carbo</th>\n",
       "      <th>protein</th>\n",
       "      <th>fat</th>\n",
       "      <th>price</th>\n",
       "      <th>pred1</th>\n",
       "      <th>pred2</th>\n",
       "      <th>pred3</th>\n",
       "      <th>pred4</th>\n",
       "    </tr>\n",
       "  </thead>\n",
       "  <tbody>\n",
       "    <tr>\n",
       "      <th>0</th>\n",
       "      <td>쌀</td>\n",
       "      <td>200</td>\n",
       "      <td>1.52</td>\n",
       "      <td>0.332</td>\n",
       "      <td>0.03</td>\n",
       "      <td>0.001</td>\n",
       "      <td>3.18</td>\n",
       "      <td>0.1</td>\n",
       "      <td>0.1</td>\n",
       "      <td>0.1</td>\n",
       "      <td>0.1</td>\n",
       "    </tr>\n",
       "  </tbody>\n",
       "</table>\n",
       "</div>"
      ],
      "text/plain": [
       "  item    g  calorie  carbo  protein    fat  price  pred1  pred2  pred3  pred4\n",
       "0    쌀  200     1.52  0.332     0.03  0.001   3.18    0.1    0.1    0.1    0.1"
      ]
     },
     "execution_count": 32,
     "metadata": {
      "tags": []
     },
     "output_type": "execute_result"
    }
   ],
   "source": [
    "result_rice"
   ]
  },
  {
   "cell_type": "code",
   "execution_count": null,
   "metadata": {
    "colab": {
     "base_uri": "https://localhost:8080/",
     "height": 203
    },
    "executionInfo": {
     "elapsed": 318,
     "status": "ok",
     "timestamp": 1624663119446,
     "user": {
      "displayName": "김미섭",
      "photoUrl": "",
      "userId": "10860151424334307550"
     },
     "user_tz": -540
    },
    "id": "TXZhNMlAd6sY",
    "outputId": "69d0aec8-83d0-482f-ab7a-1626c26051f7"
   },
   "outputs": [
    {
     "data": {
      "text/html": [
       "<div>\n",
       "<style scoped>\n",
       "    .dataframe tbody tr th:only-of-type {\n",
       "        vertical-align: middle;\n",
       "    }\n",
       "\n",
       "    .dataframe tbody tr th {\n",
       "        vertical-align: top;\n",
       "    }\n",
       "\n",
       "    .dataframe thead th {\n",
       "        text-align: right;\n",
       "    }\n",
       "</style>\n",
       "<table border=\"1\" class=\"dataframe\">\n",
       "  <thead>\n",
       "    <tr style=\"text-align: right;\">\n",
       "      <th></th>\n",
       "      <th>item</th>\n",
       "      <th>g</th>\n",
       "      <th>calorie</th>\n",
       "      <th>carbo</th>\n",
       "      <th>protein</th>\n",
       "      <th>fat</th>\n",
       "      <th>price</th>\n",
       "      <th>pred1</th>\n",
       "      <th>pred2</th>\n",
       "      <th>pred3</th>\n",
       "      <th>pred4</th>\n",
       "    </tr>\n",
       "  </thead>\n",
       "  <tbody>\n",
       "    <tr>\n",
       "      <th>0</th>\n",
       "      <td>닭가슴살</td>\n",
       "      <td>100</td>\n",
       "      <td>1.07</td>\n",
       "      <td>0.0000</td>\n",
       "      <td>0.2300</td>\n",
       "      <td>0.0010</td>\n",
       "      <td>13.29</td>\n",
       "      <td>0.132047</td>\n",
       "      <td>0.182037</td>\n",
       "      <td>0.186008</td>\n",
       "      <td>0.158173</td>\n",
       "    </tr>\n",
       "    <tr>\n",
       "      <th>1</th>\n",
       "      <td>한우육</td>\n",
       "      <td>100</td>\n",
       "      <td>2.98</td>\n",
       "      <td>0.0190</td>\n",
       "      <td>0.1650</td>\n",
       "      <td>0.2440</td>\n",
       "      <td>204.50</td>\n",
       "      <td>0.164720</td>\n",
       "      <td>0.138830</td>\n",
       "      <td>0.148510</td>\n",
       "      <td>0.163508</td>\n",
       "    </tr>\n",
       "    <tr>\n",
       "      <th>2</th>\n",
       "      <td>오리고기/훈제오리</td>\n",
       "      <td>100</td>\n",
       "      <td>1.17</td>\n",
       "      <td>0.0000</td>\n",
       "      <td>0.2100</td>\n",
       "      <td>0.0300</td>\n",
       "      <td>17.97</td>\n",
       "      <td>0.036108</td>\n",
       "      <td>0.206135</td>\n",
       "      <td>0.124916</td>\n",
       "      <td>0.106319</td>\n",
       "    </tr>\n",
       "    <tr>\n",
       "      <th>3</th>\n",
       "      <td>갈비/찜/바비큐용 돈육</td>\n",
       "      <td>100</td>\n",
       "      <td>3.95</td>\n",
       "      <td>0.0000</td>\n",
       "      <td>0.2894</td>\n",
       "      <td>0.3017</td>\n",
       "      <td>36.50</td>\n",
       "      <td>-0.319085</td>\n",
       "      <td>-0.112979</td>\n",
       "      <td>0.170822</td>\n",
       "      <td>0.004977</td>\n",
       "    </tr>\n",
       "    <tr>\n",
       "      <th>4</th>\n",
       "      <td>윙봉/닭다리/날개</td>\n",
       "      <td>100</td>\n",
       "      <td>2.21</td>\n",
       "      <td>0.0041</td>\n",
       "      <td>0.2679</td>\n",
       "      <td>0.1169</td>\n",
       "      <td>16.05</td>\n",
       "      <td>0.121871</td>\n",
       "      <td>0.138327</td>\n",
       "      <td>0.142415</td>\n",
       "      <td>0.132722</td>\n",
       "    </tr>\n",
       "  </tbody>\n",
       "</table>\n",
       "</div>"
      ],
      "text/plain": [
       "           item    g  calorie   carbo  ...     pred1     pred2     pred3     pred4\n",
       "0          닭가슴살  100     1.07  0.0000  ...  0.132047  0.182037  0.186008  0.158173\n",
       "1           한우육  100     2.98  0.0190  ...  0.164720  0.138830  0.148510  0.163508\n",
       "2     오리고기/훈제오리  100     1.17  0.0000  ...  0.036108  0.206135  0.124916  0.106319\n",
       "3  갈비/찜/바비큐용 돈육  100     3.95  0.0000  ... -0.319085 -0.112979  0.170822  0.004977\n",
       "4     윙봉/닭다리/날개  100     2.21  0.0041  ...  0.121871  0.138327  0.142415  0.132722\n",
       "\n",
       "[5 rows x 11 columns]"
      ]
     },
     "execution_count": 33,
     "metadata": {
      "tags": []
     },
     "output_type": "execute_result"
    }
   ],
   "source": [
    "result_livestock"
   ]
  },
  {
   "cell_type": "code",
   "execution_count": null,
   "metadata": {
    "colab": {
     "base_uri": "https://localhost:8080/",
     "height": 480
    },
    "executionInfo": {
     "elapsed": 300,
     "status": "ok",
     "timestamp": 1624663126209,
     "user": {
      "displayName": "김미섭",
      "photoUrl": "",
      "userId": "10860151424334307550"
     },
     "user_tz": -540
    },
    "id": "YqL5on-9d6wU",
    "outputId": "04bd5532-caf9-4e20-943a-00b3efc09270"
   },
   "outputs": [
    {
     "data": {
      "text/html": [
       "<div>\n",
       "<style scoped>\n",
       "    .dataframe tbody tr th:only-of-type {\n",
       "        vertical-align: middle;\n",
       "    }\n",
       "\n",
       "    .dataframe tbody tr th {\n",
       "        vertical-align: top;\n",
       "    }\n",
       "\n",
       "    .dataframe thead th {\n",
       "        text-align: right;\n",
       "    }\n",
       "</style>\n",
       "<table border=\"1\" class=\"dataframe\">\n",
       "  <thead>\n",
       "    <tr style=\"text-align: right;\">\n",
       "      <th></th>\n",
       "      <th>item</th>\n",
       "      <th>g</th>\n",
       "      <th>calorie</th>\n",
       "      <th>carbo</th>\n",
       "      <th>protein</th>\n",
       "      <th>fat</th>\n",
       "      <th>price</th>\n",
       "      <th>pred1</th>\n",
       "      <th>pred2</th>\n",
       "      <th>pred3</th>\n",
       "      <th>pred4</th>\n",
       "    </tr>\n",
       "  </thead>\n",
       "  <tbody>\n",
       "    <tr>\n",
       "      <th>0</th>\n",
       "      <td>전복 생물</td>\n",
       "      <td>70</td>\n",
       "      <td>0.90</td>\n",
       "      <td>0.0510</td>\n",
       "      <td>0.1500</td>\n",
       "      <td>0.0070</td>\n",
       "      <td>48.78</td>\n",
       "      <td>0.129188</td>\n",
       "      <td>0.158283</td>\n",
       "      <td>0.161498</td>\n",
       "      <td>0.161129</td>\n",
       "    </tr>\n",
       "    <tr>\n",
       "      <th>1</th>\n",
       "      <td>오징어</td>\n",
       "      <td>57</td>\n",
       "      <td>0.92</td>\n",
       "      <td>0.0308</td>\n",
       "      <td>0.1558</td>\n",
       "      <td>0.0138</td>\n",
       "      <td>16.99</td>\n",
       "      <td>0.132591</td>\n",
       "      <td>0.155089</td>\n",
       "      <td>0.154925</td>\n",
       "      <td>0.155164</td>\n",
       "    </tr>\n",
       "    <tr>\n",
       "      <th>2</th>\n",
       "      <td>고등어</td>\n",
       "      <td>85</td>\n",
       "      <td>1.67</td>\n",
       "      <td>0.0000</td>\n",
       "      <td>0.1932</td>\n",
       "      <td>0.0936</td>\n",
       "      <td>12.49</td>\n",
       "      <td>0.148885</td>\n",
       "      <td>0.150110</td>\n",
       "      <td>0.155482</td>\n",
       "      <td>0.163926</td>\n",
       "    </tr>\n",
       "    <tr>\n",
       "      <th>3</th>\n",
       "      <td>주꾸미</td>\n",
       "      <td>120</td>\n",
       "      <td>0.47</td>\n",
       "      <td>0.0126</td>\n",
       "      <td>0.0852</td>\n",
       "      <td>0.0059</td>\n",
       "      <td>23.30</td>\n",
       "      <td>0.095894</td>\n",
       "      <td>0.108480</td>\n",
       "      <td>0.070642</td>\n",
       "      <td>0.165341</td>\n",
       "    </tr>\n",
       "    <tr>\n",
       "      <th>4</th>\n",
       "      <td>조개</td>\n",
       "      <td>85</td>\n",
       "      <td>0.76</td>\n",
       "      <td>0.0280</td>\n",
       "      <td>0.1410</td>\n",
       "      <td>0.0060</td>\n",
       "      <td>7.25</td>\n",
       "      <td>0.130905</td>\n",
       "      <td>0.153812</td>\n",
       "      <td>0.164036</td>\n",
       "      <td>0.151927</td>\n",
       "    </tr>\n",
       "    <tr>\n",
       "      <th>5</th>\n",
       "      <td>새우/대하</td>\n",
       "      <td>85</td>\n",
       "      <td>1.06</td>\n",
       "      <td>0.0091</td>\n",
       "      <td>0.2031</td>\n",
       "      <td>0.0173</td>\n",
       "      <td>27.97</td>\n",
       "      <td>0.132696</td>\n",
       "      <td>0.142787</td>\n",
       "      <td>0.143803</td>\n",
       "      <td>0.160257</td>\n",
       "    </tr>\n",
       "    <tr>\n",
       "      <th>6</th>\n",
       "      <td>명태/동태</td>\n",
       "      <td>90</td>\n",
       "      <td>0.76</td>\n",
       "      <td>0.0000</td>\n",
       "      <td>0.1659</td>\n",
       "      <td>0.0063</td>\n",
       "      <td>7.93</td>\n",
       "      <td>0.154223</td>\n",
       "      <td>0.120317</td>\n",
       "      <td>0.116145</td>\n",
       "      <td>0.134779</td>\n",
       "    </tr>\n",
       "    <tr>\n",
       "      <th>7</th>\n",
       "      <td>문어</td>\n",
       "      <td>80</td>\n",
       "      <td>0.82</td>\n",
       "      <td>0.0220</td>\n",
       "      <td>0.1491</td>\n",
       "      <td>0.0104</td>\n",
       "      <td>34.50</td>\n",
       "      <td>0.128252</td>\n",
       "      <td>0.163821</td>\n",
       "      <td>0.166747</td>\n",
       "      <td>0.164138</td>\n",
       "    </tr>\n",
       "    <tr>\n",
       "      <th>8</th>\n",
       "      <td>갈치</td>\n",
       "      <td>80</td>\n",
       "      <td>1.43</td>\n",
       "      <td>0.0000</td>\n",
       "      <td>0.1873</td>\n",
       "      <td>0.0701</td>\n",
       "      <td>22.56</td>\n",
       "      <td>0.127772</td>\n",
       "      <td>0.164179</td>\n",
       "      <td>0.166989</td>\n",
       "      <td>0.164274</td>\n",
       "    </tr>\n",
       "    <tr>\n",
       "      <th>9</th>\n",
       "      <td>굴 생물</td>\n",
       "      <td>90</td>\n",
       "      <td>0.68</td>\n",
       "      <td>0.0391</td>\n",
       "      <td>0.0705</td>\n",
       "      <td>0.0246</td>\n",
       "      <td>18.00</td>\n",
       "      <td>0.194883</td>\n",
       "      <td>0.079863</td>\n",
       "      <td>0.079854</td>\n",
       "      <td>0.080170</td>\n",
       "    </tr>\n",
       "    <tr>\n",
       "      <th>10</th>\n",
       "      <td>장어</td>\n",
       "      <td>85</td>\n",
       "      <td>1.07</td>\n",
       "      <td>0.0000</td>\n",
       "      <td>0.1924</td>\n",
       "      <td>0.0293</td>\n",
       "      <td>53.72</td>\n",
       "      <td>0.126102</td>\n",
       "      <td>0.173241</td>\n",
       "      <td>0.190618</td>\n",
       "      <td>0.173313</td>\n",
       "    </tr>\n",
       "    <tr>\n",
       "      <th>11</th>\n",
       "      <td>삼치</td>\n",
       "      <td>100</td>\n",
       "      <td>1.77</td>\n",
       "      <td>0.0000</td>\n",
       "      <td>0.2025</td>\n",
       "      <td>0.1002</td>\n",
       "      <td>20.00</td>\n",
       "      <td>0.127985</td>\n",
       "      <td>0.129119</td>\n",
       "      <td>0.128833</td>\n",
       "      <td>0.150566</td>\n",
       "    </tr>\n",
       "    <tr>\n",
       "      <th>12</th>\n",
       "      <td>꽃게</td>\n",
       "      <td>100</td>\n",
       "      <td>1.01</td>\n",
       "      <td>0.0000</td>\n",
       "      <td>0.2003</td>\n",
       "      <td>0.0176</td>\n",
       "      <td>40.33</td>\n",
       "      <td>0.100020</td>\n",
       "      <td>0.149191</td>\n",
       "      <td>0.148934</td>\n",
       "      <td>0.181959</td>\n",
       "    </tr>\n",
       "    <tr>\n",
       "      <th>13</th>\n",
       "      <td>대게/킹크랩</td>\n",
       "      <td>120</td>\n",
       "      <td>0.70</td>\n",
       "      <td>0.0003</td>\n",
       "      <td>0.1445</td>\n",
       "      <td>0.0086</td>\n",
       "      <td>69.92</td>\n",
       "      <td>0.182997</td>\n",
       "      <td>0.145827</td>\n",
       "      <td>0.145957</td>\n",
       "      <td>0.146621</td>\n",
       "    </tr>\n",
       "  </tbody>\n",
       "</table>\n",
       "</div>"
      ],
      "text/plain": [
       "      item    g  calorie   carbo  ...     pred1     pred2     pred3     pred4\n",
       "0    전복 생물   70     0.90  0.0510  ...  0.129188  0.158283  0.161498  0.161129\n",
       "1      오징어   57     0.92  0.0308  ...  0.132591  0.155089  0.154925  0.155164\n",
       "2      고등어   85     1.67  0.0000  ...  0.148885  0.150110  0.155482  0.163926\n",
       "3      주꾸미  120     0.47  0.0126  ...  0.095894  0.108480  0.070642  0.165341\n",
       "4       조개   85     0.76  0.0280  ...  0.130905  0.153812  0.164036  0.151927\n",
       "5    새우/대하   85     1.06  0.0091  ...  0.132696  0.142787  0.143803  0.160257\n",
       "6    명태/동태   90     0.76  0.0000  ...  0.154223  0.120317  0.116145  0.134779\n",
       "7       문어   80     0.82  0.0220  ...  0.128252  0.163821  0.166747  0.164138\n",
       "8       갈치   80     1.43  0.0000  ...  0.127772  0.164179  0.166989  0.164274\n",
       "9     굴 생물   90     0.68  0.0391  ...  0.194883  0.079863  0.079854  0.080170\n",
       "10      장어   85     1.07  0.0000  ...  0.126102  0.173241  0.190618  0.173313\n",
       "11      삼치  100     1.77  0.0000  ...  0.127985  0.129119  0.128833  0.150566\n",
       "12      꽃게  100     1.01  0.0000  ...  0.100020  0.149191  0.148934  0.181959\n",
       "13  대게/킹크랩  120     0.70  0.0003  ...  0.182997  0.145827  0.145957  0.146621\n",
       "\n",
       "[14 rows x 11 columns]"
      ]
     },
     "execution_count": 34,
     "metadata": {
      "tags": []
     },
     "output_type": "execute_result"
    }
   ],
   "source": [
    "result_fish"
   ]
  },
  {
   "cell_type": "code",
   "execution_count": null,
   "metadata": {
    "colab": {
     "base_uri": "https://localhost:8080/",
     "height": 265
    },
    "executionInfo": {
     "elapsed": 393,
     "status": "ok",
     "timestamp": 1624663133280,
     "user": {
      "displayName": "김미섭",
      "photoUrl": "",
      "userId": "10860151424334307550"
     },
     "user_tz": -540
    },
    "id": "SVbV7qBpd6zd",
    "outputId": "7a76727f-b177-453a-d642-343afb027197"
   },
   "outputs": [
    {
     "data": {
      "text/html": [
       "<div>\n",
       "<style scoped>\n",
       "    .dataframe tbody tr th:only-of-type {\n",
       "        vertical-align: middle;\n",
       "    }\n",
       "\n",
       "    .dataframe tbody tr th {\n",
       "        vertical-align: top;\n",
       "    }\n",
       "\n",
       "    .dataframe thead th {\n",
       "        text-align: right;\n",
       "    }\n",
       "</style>\n",
       "<table border=\"1\" class=\"dataframe\">\n",
       "  <thead>\n",
       "    <tr style=\"text-align: right;\">\n",
       "      <th></th>\n",
       "      <th>item</th>\n",
       "      <th>g</th>\n",
       "      <th>calorie</th>\n",
       "      <th>carbo</th>\n",
       "      <th>protein</th>\n",
       "      <th>fat</th>\n",
       "      <th>price</th>\n",
       "      <th>pred1</th>\n",
       "      <th>pred2</th>\n",
       "      <th>pred3</th>\n",
       "      <th>pred4</th>\n",
       "    </tr>\n",
       "  </thead>\n",
       "  <tbody>\n",
       "    <tr>\n",
       "      <th>0</th>\n",
       "      <td>쌈채소</td>\n",
       "      <td>100</td>\n",
       "      <td>0.27</td>\n",
       "      <td>0.0410</td>\n",
       "      <td>0.0350</td>\n",
       "      <td>0.0040</td>\n",
       "      <td>13.24</td>\n",
       "      <td>0.132314</td>\n",
       "      <td>0.134267</td>\n",
       "      <td>0.132311</td>\n",
       "      <td>0.133514</td>\n",
       "    </tr>\n",
       "    <tr>\n",
       "      <th>1</th>\n",
       "      <td>파/양파</td>\n",
       "      <td>50</td>\n",
       "      <td>0.30</td>\n",
       "      <td>0.0670</td>\n",
       "      <td>0.0120</td>\n",
       "      <td>0.0020</td>\n",
       "      <td>1.32</td>\n",
       "      <td>0.138404</td>\n",
       "      <td>0.149770</td>\n",
       "      <td>0.150980</td>\n",
       "      <td>0.138530</td>\n",
       "    </tr>\n",
       "    <tr>\n",
       "      <th>2</th>\n",
       "      <td>양배추/양상추</td>\n",
       "      <td>50</td>\n",
       "      <td>0.33</td>\n",
       "      <td>0.0792</td>\n",
       "      <td>0.0168</td>\n",
       "      <td>0.0008</td>\n",
       "      <td>7.88</td>\n",
       "      <td>0.137371</td>\n",
       "      <td>0.157641</td>\n",
       "      <td>0.146209</td>\n",
       "      <td>0.123264</td>\n",
       "    </tr>\n",
       "    <tr>\n",
       "      <th>3</th>\n",
       "      <td>미나리</td>\n",
       "      <td>70</td>\n",
       "      <td>0.27</td>\n",
       "      <td>0.0670</td>\n",
       "      <td>0.0100</td>\n",
       "      <td>0.0020</td>\n",
       "      <td>17.50</td>\n",
       "      <td>0.135096</td>\n",
       "      <td>0.161148</td>\n",
       "      <td>0.098704</td>\n",
       "      <td>0.098266</td>\n",
       "    </tr>\n",
       "    <tr>\n",
       "      <th>4</th>\n",
       "      <td>브로콜리/셀러리</td>\n",
       "      <td>100</td>\n",
       "      <td>0.32</td>\n",
       "      <td>0.0632</td>\n",
       "      <td>0.0308</td>\n",
       "      <td>0.0020</td>\n",
       "      <td>11.00</td>\n",
       "      <td>0.148326</td>\n",
       "      <td>0.121717</td>\n",
       "      <td>0.113180</td>\n",
       "      <td>0.114766</td>\n",
       "    </tr>\n",
       "    <tr>\n",
       "      <th>5</th>\n",
       "      <td>시금치</td>\n",
       "      <td>100</td>\n",
       "      <td>0.33</td>\n",
       "      <td>0.0600</td>\n",
       "      <td>0.0310</td>\n",
       "      <td>0.0050</td>\n",
       "      <td>8.50</td>\n",
       "      <td>0.428950</td>\n",
       "      <td>0.231048</td>\n",
       "      <td>-0.346939</td>\n",
       "      <td>-0.012311</td>\n",
       "    </tr>\n",
       "    <tr>\n",
       "      <th>6</th>\n",
       "      <td>부추</td>\n",
       "      <td>100</td>\n",
       "      <td>0.22</td>\n",
       "      <td>0.0410</td>\n",
       "      <td>0.0180</td>\n",
       "      <td>0.0030</td>\n",
       "      <td>5.87</td>\n",
       "      <td>0.117024</td>\n",
       "      <td>0.168855</td>\n",
       "      <td>0.168390</td>\n",
       "      <td>0.167927</td>\n",
       "    </tr>\n",
       "  </tbody>\n",
       "</table>\n",
       "</div>"
      ],
      "text/plain": [
       "       item    g  calorie   carbo  ...     pred1     pred2     pred3     pred4\n",
       "0       쌈채소  100     0.27  0.0410  ...  0.132314  0.134267  0.132311  0.133514\n",
       "1      파/양파   50     0.30  0.0670  ...  0.138404  0.149770  0.150980  0.138530\n",
       "2   양배추/양상추   50     0.33  0.0792  ...  0.137371  0.157641  0.146209  0.123264\n",
       "3       미나리   70     0.27  0.0670  ...  0.135096  0.161148  0.098704  0.098266\n",
       "4  브로콜리/셀러리  100     0.32  0.0632  ...  0.148326  0.121717  0.113180  0.114766\n",
       "5       시금치  100     0.33  0.0600  ...  0.428950  0.231048 -0.346939 -0.012311\n",
       "6        부추  100     0.22  0.0410  ...  0.117024  0.168855  0.168390  0.167927\n",
       "\n",
       "[7 rows x 11 columns]"
      ]
     },
     "execution_count": 35,
     "metadata": {
      "tags": []
     },
     "output_type": "execute_result"
    }
   ],
   "source": [
    "result_veg1"
   ]
  },
  {
   "cell_type": "code",
   "execution_count": null,
   "metadata": {
    "colab": {
     "base_uri": "https://localhost:8080/",
     "height": 326
    },
    "executionInfo": {
     "elapsed": 328,
     "status": "ok",
     "timestamp": 1624663138823,
     "user": {
      "displayName": "김미섭",
      "photoUrl": "",
      "userId": "10860151424334307550"
     },
     "user_tz": -540
    },
    "id": "7KhuxTWvd63Q",
    "outputId": "a9ad6129-0bd2-49df-8752-1c23f88308fc"
   },
   "outputs": [
    {
     "data": {
      "text/html": [
       "<div>\n",
       "<style scoped>\n",
       "    .dataframe tbody tr th:only-of-type {\n",
       "        vertical-align: middle;\n",
       "    }\n",
       "\n",
       "    .dataframe tbody tr th {\n",
       "        vertical-align: top;\n",
       "    }\n",
       "\n",
       "    .dataframe thead th {\n",
       "        text-align: right;\n",
       "    }\n",
       "</style>\n",
       "<table border=\"1\" class=\"dataframe\">\n",
       "  <thead>\n",
       "    <tr style=\"text-align: right;\">\n",
       "      <th></th>\n",
       "      <th>item</th>\n",
       "      <th>g</th>\n",
       "      <th>calorie</th>\n",
       "      <th>carbo</th>\n",
       "      <th>protein</th>\n",
       "      <th>fat</th>\n",
       "      <th>price</th>\n",
       "      <th>pred1</th>\n",
       "      <th>pred2</th>\n",
       "      <th>pred3</th>\n",
       "      <th>pred4</th>\n",
       "    </tr>\n",
       "  </thead>\n",
       "  <tbody>\n",
       "    <tr>\n",
       "      <th>0</th>\n",
       "      <td>표고버섯</td>\n",
       "      <td>50</td>\n",
       "      <td>0.31</td>\n",
       "      <td>0.1080</td>\n",
       "      <td>0.0390</td>\n",
       "      <td>0.0040</td>\n",
       "      <td>18.57</td>\n",
       "      <td>0.124760</td>\n",
       "      <td>0.134229</td>\n",
       "      <td>0.119395</td>\n",
       "      <td>0.144731</td>\n",
       "    </tr>\n",
       "    <tr>\n",
       "      <th>1</th>\n",
       "      <td>도라지/더덕</td>\n",
       "      <td>50</td>\n",
       "      <td>0.56</td>\n",
       "      <td>0.1300</td>\n",
       "      <td>0.0170</td>\n",
       "      <td>0.0011</td>\n",
       "      <td>28.00</td>\n",
       "      <td>0.033060</td>\n",
       "      <td>0.218516</td>\n",
       "      <td>0.373096</td>\n",
       "      <td>0.233937</td>\n",
       "    </tr>\n",
       "    <tr>\n",
       "      <th>2</th>\n",
       "      <td>우엉/연근</td>\n",
       "      <td>100</td>\n",
       "      <td>0.69</td>\n",
       "      <td>0.1530</td>\n",
       "      <td>0.0260</td>\n",
       "      <td>0.0006</td>\n",
       "      <td>11.86</td>\n",
       "      <td>0.150534</td>\n",
       "      <td>0.012987</td>\n",
       "      <td>-0.174084</td>\n",
       "      <td>-0.018068</td>\n",
       "    </tr>\n",
       "    <tr>\n",
       "      <th>3</th>\n",
       "      <td>토마토</td>\n",
       "      <td>100</td>\n",
       "      <td>0.19</td>\n",
       "      <td>0.0430</td>\n",
       "      <td>0.0100</td>\n",
       "      <td>0.0020</td>\n",
       "      <td>3.15</td>\n",
       "      <td>0.126276</td>\n",
       "      <td>0.165537</td>\n",
       "      <td>0.149642</td>\n",
       "      <td>0.126343</td>\n",
       "    </tr>\n",
       "    <tr>\n",
       "      <th>4</th>\n",
       "      <td>감자</td>\n",
       "      <td>100</td>\n",
       "      <td>0.70</td>\n",
       "      <td>0.1600</td>\n",
       "      <td>0.0200</td>\n",
       "      <td>0.0003</td>\n",
       "      <td>3.00</td>\n",
       "      <td>0.125132</td>\n",
       "      <td>0.130874</td>\n",
       "      <td>0.155030</td>\n",
       "      <td>0.131248</td>\n",
       "    </tr>\n",
       "    <tr>\n",
       "      <th>5</th>\n",
       "      <td>옥수수</td>\n",
       "      <td>100</td>\n",
       "      <td>1.64</td>\n",
       "      <td>0.3400</td>\n",
       "      <td>0.0480</td>\n",
       "      <td>0.0160</td>\n",
       "      <td>16.60</td>\n",
       "      <td>0.109564</td>\n",
       "      <td>0.130138</td>\n",
       "      <td>0.177949</td>\n",
       "      <td>0.131299</td>\n",
       "    </tr>\n",
       "    <tr>\n",
       "      <th>6</th>\n",
       "      <td>호박</td>\n",
       "      <td>100</td>\n",
       "      <td>0.38</td>\n",
       "      <td>0.0850</td>\n",
       "      <td>0.0090</td>\n",
       "      <td>0.0020</td>\n",
       "      <td>7.49</td>\n",
       "      <td>0.115885</td>\n",
       "      <td>0.141692</td>\n",
       "      <td>0.144648</td>\n",
       "      <td>0.154117</td>\n",
       "    </tr>\n",
       "    <tr>\n",
       "      <th>7</th>\n",
       "      <td>마늘/생강</td>\n",
       "      <td>20</td>\n",
       "      <td>1.23</td>\n",
       "      <td>0.2642</td>\n",
       "      <td>0.0745</td>\n",
       "      <td>0.0016</td>\n",
       "      <td>9.45</td>\n",
       "      <td>0.136881</td>\n",
       "      <td>0.132540</td>\n",
       "      <td>0.126354</td>\n",
       "      <td>0.131577</td>\n",
       "    </tr>\n",
       "    <tr>\n",
       "      <th>8</th>\n",
       "      <td>고추/피망/파프리카</td>\n",
       "      <td>45</td>\n",
       "      <td>0.27</td>\n",
       "      <td>0.0460</td>\n",
       "      <td>0.0140</td>\n",
       "      <td>0.0080</td>\n",
       "      <td>15.80</td>\n",
       "      <td>0.131450</td>\n",
       "      <td>0.132366</td>\n",
       "      <td>0.140759</td>\n",
       "      <td>0.134834</td>\n",
       "    </tr>\n",
       "  </tbody>\n",
       "</table>\n",
       "</div>"
      ],
      "text/plain": [
       "         item    g  calorie   carbo  ...     pred1     pred2     pred3     pred4\n",
       "0        표고버섯   50     0.31  0.1080  ...  0.124760  0.134229  0.119395  0.144731\n",
       "1      도라지/더덕   50     0.56  0.1300  ...  0.033060  0.218516  0.373096  0.233937\n",
       "2       우엉/연근  100     0.69  0.1530  ...  0.150534  0.012987 -0.174084 -0.018068\n",
       "3         토마토  100     0.19  0.0430  ...  0.126276  0.165537  0.149642  0.126343\n",
       "4          감자  100     0.70  0.1600  ...  0.125132  0.130874  0.155030  0.131248\n",
       "5         옥수수  100     1.64  0.3400  ...  0.109564  0.130138  0.177949  0.131299\n",
       "6          호박  100     0.38  0.0850  ...  0.115885  0.141692  0.144648  0.154117\n",
       "7       마늘/생강   20     1.23  0.2642  ...  0.136881  0.132540  0.126354  0.131577\n",
       "8  고추/피망/파프리카   45     0.27  0.0460  ...  0.131450  0.132366  0.140759  0.134834\n",
       "\n",
       "[9 rows x 11 columns]"
      ]
     },
     "execution_count": 36,
     "metadata": {
      "tags": []
     },
     "output_type": "execute_result"
    }
   ],
   "source": [
    "result_veg2"
   ]
  },
  {
   "cell_type": "code",
   "execution_count": null,
   "metadata": {
    "colab": {
     "base_uri": "https://localhost:8080/",
     "height": 172
    },
    "executionInfo": {
     "elapsed": 370,
     "status": "ok",
     "timestamp": 1624663147146,
     "user": {
      "displayName": "김미섭",
      "photoUrl": "",
      "userId": "10860151424334307550"
     },
     "user_tz": -540
    },
    "id": "siDuskZSdeMC",
    "outputId": "20aa411e-2266-4af4-eb73-9cbf0d05a401"
   },
   "outputs": [
    {
     "data": {
      "text/html": [
       "<div>\n",
       "<style scoped>\n",
       "    .dataframe tbody tr th:only-of-type {\n",
       "        vertical-align: middle;\n",
       "    }\n",
       "\n",
       "    .dataframe tbody tr th {\n",
       "        vertical-align: top;\n",
       "    }\n",
       "\n",
       "    .dataframe thead th {\n",
       "        text-align: right;\n",
       "    }\n",
       "</style>\n",
       "<table border=\"1\" class=\"dataframe\">\n",
       "  <thead>\n",
       "    <tr style=\"text-align: right;\">\n",
       "      <th></th>\n",
       "      <th>item</th>\n",
       "      <th>g</th>\n",
       "      <th>calorie</th>\n",
       "      <th>carbo</th>\n",
       "      <th>protein</th>\n",
       "      <th>fat</th>\n",
       "      <th>price</th>\n",
       "      <th>pred1</th>\n",
       "      <th>pred2</th>\n",
       "      <th>pred3</th>\n",
       "      <th>pred4</th>\n",
       "    </tr>\n",
       "  </thead>\n",
       "  <tbody>\n",
       "    <tr>\n",
       "      <th>0</th>\n",
       "      <td>젓갈류</td>\n",
       "      <td>30</td>\n",
       "      <td>1.28</td>\n",
       "      <td>0.1281</td>\n",
       "      <td>0.1174</td>\n",
       "      <td>0.0300</td>\n",
       "      <td>15.10</td>\n",
       "      <td>0.130975</td>\n",
       "      <td>0.136289</td>\n",
       "      <td>0.136567</td>\n",
       "      <td>0.123924</td>\n",
       "    </tr>\n",
       "    <tr>\n",
       "      <th>1</th>\n",
       "      <td>무김치</td>\n",
       "      <td>30</td>\n",
       "      <td>0.30</td>\n",
       "      <td>0.0635</td>\n",
       "      <td>0.0129</td>\n",
       "      <td>0.0027</td>\n",
       "      <td>8.32</td>\n",
       "      <td>0.155258</td>\n",
       "      <td>0.166408</td>\n",
       "      <td>0.132955</td>\n",
       "      <td>0.133985</td>\n",
       "    </tr>\n",
       "    <tr>\n",
       "      <th>2</th>\n",
       "      <td>물김치</td>\n",
       "      <td>30</td>\n",
       "      <td>0.20</td>\n",
       "      <td>0.0445</td>\n",
       "      <td>0.0112</td>\n",
       "      <td>0.0017</td>\n",
       "      <td>7.58</td>\n",
       "      <td>0.155774</td>\n",
       "      <td>0.172537</td>\n",
       "      <td>0.167988</td>\n",
       "      <td>0.143596</td>\n",
       "    </tr>\n",
       "    <tr>\n",
       "      <th>3</th>\n",
       "      <td>파김치</td>\n",
       "      <td>30</td>\n",
       "      <td>0.38</td>\n",
       "      <td>0.0824</td>\n",
       "      <td>0.0201</td>\n",
       "      <td>0.0031</td>\n",
       "      <td>9.80</td>\n",
       "      <td>0.123982</td>\n",
       "      <td>0.162629</td>\n",
       "      <td>0.093117</td>\n",
       "      <td>0.159566</td>\n",
       "    </tr>\n",
       "  </tbody>\n",
       "</table>\n",
       "</div>"
      ],
      "text/plain": [
       "  item   g  calorie   carbo  ...     pred1     pred2     pred3     pred4\n",
       "0  젓갈류  30     1.28  0.1281  ...  0.130975  0.136289  0.136567  0.123924\n",
       "1  무김치  30     0.30  0.0635  ...  0.155258  0.166408  0.132955  0.133985\n",
       "2  물김치  30     0.20  0.0445  ...  0.155774  0.172537  0.167988  0.143596\n",
       "3  파김치  30     0.38  0.0824  ...  0.123982  0.162629  0.093117  0.159566\n",
       "\n",
       "[4 rows x 11 columns]"
      ]
     },
     "execution_count": 37,
     "metadata": {
      "tags": []
     },
     "output_type": "execute_result"
    }
   ],
   "source": [
    "result_kimchi"
   ]
  },
  {
   "cell_type": "code",
   "execution_count": null,
   "metadata": {
    "colab": {
     "base_uri": "https://localhost:8080/",
     "height": 357
    },
    "executionInfo": {
     "elapsed": 283,
     "status": "ok",
     "timestamp": 1624668569959,
     "user": {
      "displayName": "김미섭",
      "photoUrl": "",
      "userId": "10860151424334307550"
     },
     "user_tz": -540
    },
    "id": "ityokMTOdePa",
    "outputId": "583cb54f-5025-4115-be3b-8984f3be71ea"
   },
   "outputs": [
    {
     "data": {
      "text/html": [
       "<div>\n",
       "<style scoped>\n",
       "    .dataframe tbody tr th:only-of-type {\n",
       "        vertical-align: middle;\n",
       "    }\n",
       "\n",
       "    .dataframe tbody tr th {\n",
       "        vertical-align: top;\n",
       "    }\n",
       "\n",
       "    .dataframe thead th {\n",
       "        text-align: right;\n",
       "    }\n",
       "</style>\n",
       "<table border=\"1\" class=\"dataframe\">\n",
       "  <thead>\n",
       "    <tr style=\"text-align: right;\">\n",
       "      <th></th>\n",
       "      <th>item</th>\n",
       "      <th>g</th>\n",
       "      <th>calorie</th>\n",
       "      <th>carbo</th>\n",
       "      <th>protein</th>\n",
       "      <th>fat</th>\n",
       "      <th>price</th>\n",
       "      <th>pred1</th>\n",
       "      <th>pred2</th>\n",
       "      <th>pred3</th>\n",
       "      <th>pred4</th>\n",
       "    </tr>\n",
       "  </thead>\n",
       "  <tbody>\n",
       "    <tr>\n",
       "      <th>0</th>\n",
       "      <td>포도/거봉/체리</td>\n",
       "      <td>100</td>\n",
       "      <td>0.67</td>\n",
       "      <td>0.1761</td>\n",
       "      <td>0.0083</td>\n",
       "      <td>0.0019</td>\n",
       "      <td>16.80</td>\n",
       "      <td>0.112691</td>\n",
       "      <td>0.136948</td>\n",
       "      <td>0.166813</td>\n",
       "      <td>0.178377</td>\n",
       "    </tr>\n",
       "    <tr>\n",
       "      <th>1</th>\n",
       "      <td>미숫가루/곡물가루</td>\n",
       "      <td>50</td>\n",
       "      <td>4.15</td>\n",
       "      <td>0.8000</td>\n",
       "      <td>0.1000</td>\n",
       "      <td>0.0600</td>\n",
       "      <td>10.00</td>\n",
       "      <td>0.108416</td>\n",
       "      <td>0.214852</td>\n",
       "      <td>0.214075</td>\n",
       "      <td>0.215105</td>\n",
       "    </tr>\n",
       "    <tr>\n",
       "      <th>2</th>\n",
       "      <td>견과류 호두</td>\n",
       "      <td>20</td>\n",
       "      <td>6.88</td>\n",
       "      <td>0.0700</td>\n",
       "      <td>0.1550</td>\n",
       "      <td>0.7199</td>\n",
       "      <td>13.20</td>\n",
       "      <td>0.136192</td>\n",
       "      <td>0.126098</td>\n",
       "      <td>0.115369</td>\n",
       "      <td>0.139469</td>\n",
       "    </tr>\n",
       "    <tr>\n",
       "      <th>3</th>\n",
       "      <td>딸기/복분자/블루베리</td>\n",
       "      <td>100</td>\n",
       "      <td>0.55</td>\n",
       "      <td>0.1257</td>\n",
       "      <td>0.0100</td>\n",
       "      <td>0.0080</td>\n",
       "      <td>42.00</td>\n",
       "      <td>0.170853</td>\n",
       "      <td>0.135265</td>\n",
       "      <td>0.098110</td>\n",
       "      <td>0.080592</td>\n",
       "    </tr>\n",
       "    <tr>\n",
       "      <th>4</th>\n",
       "      <td>감귤/한라봉/오렌지</td>\n",
       "      <td>100</td>\n",
       "      <td>0.50</td>\n",
       "      <td>0.1280</td>\n",
       "      <td>0.0100</td>\n",
       "      <td>0.0010</td>\n",
       "      <td>11.80</td>\n",
       "      <td>0.154215</td>\n",
       "      <td>0.130752</td>\n",
       "      <td>0.105990</td>\n",
       "      <td>0.107275</td>\n",
       "    </tr>\n",
       "    <tr>\n",
       "      <th>5</th>\n",
       "      <td>바나나/파인애플/망고</td>\n",
       "      <td>100</td>\n",
       "      <td>0.84</td>\n",
       "      <td>0.2190</td>\n",
       "      <td>0.0110</td>\n",
       "      <td>0.0010</td>\n",
       "      <td>3.83</td>\n",
       "      <td>0.125138</td>\n",
       "      <td>0.151829</td>\n",
       "      <td>0.148085</td>\n",
       "      <td>0.126960</td>\n",
       "    </tr>\n",
       "    <tr>\n",
       "      <th>6</th>\n",
       "      <td>참외/메론/수박</td>\n",
       "      <td>100</td>\n",
       "      <td>0.39</td>\n",
       "      <td>0.0940</td>\n",
       "      <td>0.0120</td>\n",
       "      <td>0.0018</td>\n",
       "      <td>7.90</td>\n",
       "      <td>0.074717</td>\n",
       "      <td>0.197835</td>\n",
       "      <td>0.303753</td>\n",
       "      <td>0.114353</td>\n",
       "    </tr>\n",
       "    <tr>\n",
       "      <th>7</th>\n",
       "      <td>키위/참다래</td>\n",
       "      <td>100</td>\n",
       "      <td>0.64</td>\n",
       "      <td>0.1480</td>\n",
       "      <td>0.0080</td>\n",
       "      <td>0.0100</td>\n",
       "      <td>11.27</td>\n",
       "      <td>0.130875</td>\n",
       "      <td>0.144404</td>\n",
       "      <td>0.150869</td>\n",
       "      <td>0.139160</td>\n",
       "    </tr>\n",
       "    <tr>\n",
       "      <th>8</th>\n",
       "      <td>견과류 마카다미아</td>\n",
       "      <td>20</td>\n",
       "      <td>7.20</td>\n",
       "      <td>0.1220</td>\n",
       "      <td>0.0830</td>\n",
       "      <td>0.7670</td>\n",
       "      <td>38.50</td>\n",
       "      <td>0.148354</td>\n",
       "      <td>0.104170</td>\n",
       "      <td>0.104538</td>\n",
       "      <td>0.180990</td>\n",
       "    </tr>\n",
       "    <tr>\n",
       "      <th>9</th>\n",
       "      <td>감/홍시</td>\n",
       "      <td>100</td>\n",
       "      <td>0.58</td>\n",
       "      <td>0.1575</td>\n",
       "      <td>0.0040</td>\n",
       "      <td>0.0004</td>\n",
       "      <td>11.94</td>\n",
       "      <td>0.129073</td>\n",
       "      <td>0.120915</td>\n",
       "      <td>0.121023</td>\n",
       "      <td>0.142583</td>\n",
       "    </tr>\n",
       "  </tbody>\n",
       "</table>\n",
       "</div>"
      ],
      "text/plain": [
       "          item    g  calorie   carbo  ...     pred1     pred2     pred3     pred4\n",
       "0     포도/거봉/체리  100     0.67  0.1761  ...  0.112691  0.136948  0.166813  0.178377\n",
       "1    미숫가루/곡물가루   50     4.15  0.8000  ...  0.108416  0.214852  0.214075  0.215105\n",
       "2       견과류 호두   20     6.88  0.0700  ...  0.136192  0.126098  0.115369  0.139469\n",
       "3  딸기/복분자/블루베리  100     0.55  0.1257  ...  0.170853  0.135265  0.098110  0.080592\n",
       "4   감귤/한라봉/오렌지  100     0.50  0.1280  ...  0.154215  0.130752  0.105990  0.107275\n",
       "5  바나나/파인애플/망고  100     0.84  0.2190  ...  0.125138  0.151829  0.148085  0.126960\n",
       "6     참외/메론/수박  100     0.39  0.0940  ...  0.074717  0.197835  0.303753  0.114353\n",
       "7       키위/참다래  100     0.64  0.1480  ...  0.130875  0.144404  0.150869  0.139160\n",
       "8    견과류 마카다미아   20     7.20  0.1220  ...  0.148354  0.104170  0.104538  0.180990\n",
       "9         감/홍시  100     0.58  0.1575  ...  0.129073  0.120915  0.121023  0.142583\n",
       "\n",
       "[10 rows x 11 columns]"
      ]
     },
     "execution_count": 77,
     "metadata": {
      "tags": []
     },
     "output_type": "execute_result"
    }
   ],
   "source": [
    "result_fruit"
   ]
  },
  {
   "cell_type": "markdown",
   "metadata": {
    "id": "DwH9rlbNfL42"
   },
   "source": [
    "2020년 1월 15일"
   ]
  },
  {
   "cell_type": "code",
   "execution_count": null,
   "metadata": {
    "id": "eecgZfY0eFVv"
   },
   "outputs": [],
   "source": [
    "result_rice = result_rice.iloc[:,0:8]\n",
    "result_rice.columns = ['item','g','calorie','carbo','protein','fat','price','pred']\n",
    "result_livestock = result_livestock.iloc[:,0:8]\n",
    "result_livestock.columns = ['item','g','calorie','carbo','protein','fat','price','pred']\n",
    "result_fish = result_fish.iloc[:,0:8]\n",
    "result_fish.columns = ['item','g','calorie','carbo','protein','fat','price','pred']\n",
    "result_veg1 = result_veg1.iloc[:,0:8]\n",
    "result_veg1.columns = ['item','g','calorie','carbo','protein','fat','price','pred']\n",
    "result_veg2 = result_veg2.iloc[:,0:8]\n",
    "result_veg2.columns = ['item','g','calorie','carbo','protein','fat','price','pred']\n",
    "result_kimchi = result_kimchi.iloc[:,0:8]\n",
    "result_kimchi.columns = ['item','g','calorie','carbo','protein','fat','price','pred']\n",
    "result_fruit = result_fruit.iloc[:,0:8]\n",
    "result_fruit.columns = ['item','g','calorie','carbo','protein','fat','price','pred']"
   ]
  },
  {
   "cell_type": "code",
   "execution_count": null,
   "metadata": {
    "id": "kvN_onT2fpQ9"
   },
   "outputs": [],
   "source": [
    "result_rice = calculate(result_rice)\n",
    "result_livestock = calculate(result_livestock)\n",
    "result_fish = calculate(result_fish)\n",
    "result_veg1 = calculate(result_veg1)\n",
    "result_veg2 = calculate(result_veg2)\n",
    "result_kimchi = calculate(result_kimchi)\n",
    "result_fruit = calculate(result_fruit)"
   ]
  },
  {
   "cell_type": "code",
   "execution_count": null,
   "metadata": {
    "colab": {
     "base_uri": "https://localhost:8080/",
     "height": 203
    },
    "executionInfo": {
     "elapsed": 487302,
     "status": "ok",
     "timestamp": 1624664088756,
     "user": {
      "displayName": "김미섭",
      "photoUrl": "",
      "userId": "10860151424334307550"
     },
     "user_tz": -540
    },
    "id": "gPLwLQ5WeFYu",
    "outputId": "2c35bd3a-3fab-4f95-e5fc-f5956d13c631"
   },
   "outputs": [
    {
     "data": {
      "text/html": [
       "<div>\n",
       "<style scoped>\n",
       "    .dataframe tbody tr th:only-of-type {\n",
       "        vertical-align: middle;\n",
       "    }\n",
       "\n",
       "    .dataframe tbody tr th {\n",
       "        vertical-align: top;\n",
       "    }\n",
       "\n",
       "    .dataframe thead th {\n",
       "        text-align: right;\n",
       "    }\n",
       "</style>\n",
       "<table border=\"1\" class=\"dataframe\">\n",
       "  <thead>\n",
       "    <tr style=\"text-align: right;\">\n",
       "      <th></th>\n",
       "      <th>rice</th>\n",
       "      <th>livestock</th>\n",
       "      <th>fish</th>\n",
       "      <th>veg1</th>\n",
       "      <th>veg2</th>\n",
       "      <th>kimchi</th>\n",
       "      <th>fruit</th>\n",
       "      <th>pred</th>\n",
       "    </tr>\n",
       "  </thead>\n",
       "  <tbody>\n",
       "    <tr>\n",
       "      <th>2889</th>\n",
       "      <td>쌀</td>\n",
       "      <td>닭가슴살</td>\n",
       "      <td>굴 생물</td>\n",
       "      <td>시금치</td>\n",
       "      <td>우엉/연근</td>\n",
       "      <td>물김치</td>\n",
       "      <td>견과류 마카다미아</td>\n",
       "      <td>1.310543</td>\n",
       "    </tr>\n",
       "    <tr>\n",
       "      <th>2887</th>\n",
       "      <td>쌀</td>\n",
       "      <td>닭가슴살</td>\n",
       "      <td>굴 생물</td>\n",
       "      <td>시금치</td>\n",
       "      <td>우엉/연근</td>\n",
       "      <td>무김치</td>\n",
       "      <td>견과류 마카다미아</td>\n",
       "      <td>1.310027</td>\n",
       "    </tr>\n",
       "    <tr>\n",
       "      <th>2888</th>\n",
       "      <td>쌀</td>\n",
       "      <td>닭가슴살</td>\n",
       "      <td>굴 생물</td>\n",
       "      <td>시금치</td>\n",
       "      <td>우엉/연근</td>\n",
       "      <td>물김치</td>\n",
       "      <td>견과류 호두</td>\n",
       "      <td>1.298380</td>\n",
       "    </tr>\n",
       "    <tr>\n",
       "      <th>2886</th>\n",
       "      <td>쌀</td>\n",
       "      <td>닭가슴살</td>\n",
       "      <td>굴 생물</td>\n",
       "      <td>시금치</td>\n",
       "      <td>우엉/연근</td>\n",
       "      <td>무김치</td>\n",
       "      <td>견과류 호두</td>\n",
       "      <td>1.297864</td>\n",
       "    </tr>\n",
       "    <tr>\n",
       "      <th>2923</th>\n",
       "      <td>쌀</td>\n",
       "      <td>닭가슴살</td>\n",
       "      <td>굴 생물</td>\n",
       "      <td>시금치</td>\n",
       "      <td>마늘/생강</td>\n",
       "      <td>물김치</td>\n",
       "      <td>견과류 마카다미아</td>\n",
       "      <td>1.296890</td>\n",
       "    </tr>\n",
       "  </tbody>\n",
       "</table>\n",
       "</div>"
      ],
      "text/plain": [
       "     rice livestock  fish veg1   veg2 kimchi      fruit      pred\n",
       "2889    쌀      닭가슴살  굴 생물  시금치  우엉/연근    물김치  견과류 마카다미아  1.310543\n",
       "2887    쌀      닭가슴살  굴 생물  시금치  우엉/연근    무김치  견과류 마카다미아  1.310027\n",
       "2888    쌀      닭가슴살  굴 생물  시금치  우엉/연근    물김치     견과류 호두  1.298380\n",
       "2886    쌀      닭가슴살  굴 생물  시금치  우엉/연근    무김치     견과류 호두  1.297864\n",
       "2923    쌀      닭가슴살  굴 생물  시금치  마늘/생강    물김치  견과류 마카다미아  1.296890"
      ]
     },
     "execution_count": 51,
     "metadata": {
      "tags": []
     },
     "output_type": "execute_result"
    }
   ],
   "source": [
    "selecting(result_rice,result_livestock,result_fish,result_veg1,result_veg2,result_kimchi,result_fruit)"
   ]
  },
  {
   "cell_type": "markdown",
   "metadata": {
    "id": "mwToFZeEfONB"
   },
   "source": [
    "2020년 4월 15일"
   ]
  },
  {
   "cell_type": "code",
   "execution_count": null,
   "metadata": {
    "id": "pYKgOMHxeFcL"
   },
   "outputs": [],
   "source": [
    "result_rice = pd.read_csv('/gdrive/My Drive/weather_bigdata_contest/result/result2_rice.csv')\n",
    "result_livestock = pd.read_csv('/gdrive/My Drive/weather_bigdata_contest/result/result2_livestock.csv',encoding='cp949')\n",
    "result_fish = pd.read_csv('/gdrive/My Drive/weather_bigdata_contest/result/result2_fish.csv',encoding='cp949')\n",
    "result_veg1 = pd.read_csv('/gdrive/My Drive/weather_bigdata_contest/result/result2_veg1.csv',encoding='cp949')\n",
    "result_veg2 = pd.read_csv('/gdrive/My Drive/weather_bigdata_contest/result/result2_veg2.csv',encoding='cp949')\n",
    "result_kimchi = pd.read_csv('/gdrive/My Drive/weather_bigdata_contest/result/result2_kimchi.csv',encoding='cp949')\n",
    "result_fruit = pd.read_csv('/gdrive/My Drive/weather_bigdata_contest/result/result2_fruit.csv',encoding='cp949')"
   ]
  },
  {
   "cell_type": "code",
   "execution_count": null,
   "metadata": {
    "id": "MPYNzLMIeFe5"
   },
   "outputs": [],
   "source": [
    "result_rice = pd.concat([result_rice.iloc[:,0:7],result_rice.iloc[:,8]],axis=1)\n",
    "result_rice.columns = ['item','g','calorie','carbo','protein','fat','price','pred']\n",
    "result_livestock = pd.concat([result_livestock.iloc[:,0:7],result_livestock.iloc[:,8]],axis=1)\n",
    "result_livestock.columns = ['item','g','calorie','carbo','protein','fat','price','pred']\n",
    "result_fish = pd.concat([result_fish.iloc[:,0:7],result_fish.iloc[:,8]],axis=1)\n",
    "result_fish.columns = ['item','g','calorie','carbo','protein','fat','price','pred']\n",
    "result_veg1 = pd.concat([result_veg1.iloc[:,0:7],result_veg1.iloc[:,8]],axis=1)\n",
    "result_veg1.columns = ['item','g','calorie','carbo','protein','fat','price','pred']\n",
    "result_veg2 = pd.concat([result_veg2.iloc[:,0:7],result_veg2.iloc[:,8]],axis=1)\n",
    "result_veg2.columns = ['item','g','calorie','carbo','protein','fat','price','pred']\n",
    "result_kimchi = pd.concat([result_kimchi.iloc[:,0:7],result_kimchi.iloc[:,8]],axis=1)\n",
    "result_kimchi.columns = ['item','g','calorie','carbo','protein','fat','price','pred']\n",
    "result_fruit = pd.concat([result_fruit.iloc[:,0:7],result_fruit.iloc[:,8]],axis=1)\n",
    "result_fruit.columns = ['item','g','calorie','carbo','protein','fat','price','pred']"
   ]
  },
  {
   "cell_type": "code",
   "execution_count": null,
   "metadata": {
    "id": "a6h1_leqf1KO"
   },
   "outputs": [],
   "source": [
    "result_rice = calculate(result_rice)\n",
    "result_livestock = calculate(result_livestock)\n",
    "result_fish = calculate(result_fish)\n",
    "result_veg1 = calculate(result_veg1)\n",
    "result_veg2 = calculate(result_veg2)\n",
    "result_kimchi = calculate(result_kimchi)\n",
    "result_fruit = calculate(result_fruit)"
   ]
  },
  {
   "cell_type": "code",
   "execution_count": null,
   "metadata": {
    "colab": {
     "base_uri": "https://localhost:8080/",
     "height": 203
    },
    "executionInfo": {
     "elapsed": 490624,
     "status": "ok",
     "timestamp": 1624664705623,
     "user": {
      "displayName": "김미섭",
      "photoUrl": "",
      "userId": "10860151424334307550"
     },
     "user_tz": -540
    },
    "id": "rShrVllqfHhV",
    "outputId": "3529cfd1-0fbe-40f5-b1f7-5ea6b494fc59"
   },
   "outputs": [
    {
     "data": {
      "text/html": [
       "<div>\n",
       "<style scoped>\n",
       "    .dataframe tbody tr th:only-of-type {\n",
       "        vertical-align: middle;\n",
       "    }\n",
       "\n",
       "    .dataframe tbody tr th {\n",
       "        vertical-align: top;\n",
       "    }\n",
       "\n",
       "    .dataframe thead th {\n",
       "        text-align: right;\n",
       "    }\n",
       "</style>\n",
       "<table border=\"1\" class=\"dataframe\">\n",
       "  <thead>\n",
       "    <tr style=\"text-align: right;\">\n",
       "      <th></th>\n",
       "      <th>rice</th>\n",
       "      <th>livestock</th>\n",
       "      <th>fish</th>\n",
       "      <th>veg1</th>\n",
       "      <th>veg2</th>\n",
       "      <th>kimchi</th>\n",
       "      <th>fruit</th>\n",
       "      <th>pred</th>\n",
       "    </tr>\n",
       "  </thead>\n",
       "  <tbody>\n",
       "    <tr>\n",
       "      <th>4490</th>\n",
       "      <td>쌀</td>\n",
       "      <td>오리고기/훈제오리</td>\n",
       "      <td>고등어</td>\n",
       "      <td>시금치</td>\n",
       "      <td>도라지/더덕</td>\n",
       "      <td>물김치</td>\n",
       "      <td>참외/메론/수박</td>\n",
       "      <td>1.276180</td>\n",
       "    </tr>\n",
       "    <tr>\n",
       "      <th>4488</th>\n",
       "      <td>쌀</td>\n",
       "      <td>오리고기/훈제오리</td>\n",
       "      <td>고등어</td>\n",
       "      <td>시금치</td>\n",
       "      <td>도라지/더덕</td>\n",
       "      <td>무김치</td>\n",
       "      <td>참외/메론/수박</td>\n",
       "      <td>1.270051</td>\n",
       "    </tr>\n",
       "    <tr>\n",
       "      <th>4492</th>\n",
       "      <td>쌀</td>\n",
       "      <td>오리고기/훈제오리</td>\n",
       "      <td>고등어</td>\n",
       "      <td>시금치</td>\n",
       "      <td>도라지/더덕</td>\n",
       "      <td>파김치</td>\n",
       "      <td>참외/메론/수박</td>\n",
       "      <td>1.266271</td>\n",
       "    </tr>\n",
       "    <tr>\n",
       "      <th>3669</th>\n",
       "      <td>쌀</td>\n",
       "      <td>오리고기/훈제오리</td>\n",
       "      <td>오징어</td>\n",
       "      <td>시금치</td>\n",
       "      <td>토마토</td>\n",
       "      <td>물김치</td>\n",
       "      <td>미숫가루/곡물가루</td>\n",
       "      <td>1.245197</td>\n",
       "    </tr>\n",
       "    <tr>\n",
       "      <th>7036</th>\n",
       "      <td>쌀</td>\n",
       "      <td>오리고기/훈제오리</td>\n",
       "      <td>갈치</td>\n",
       "      <td>부추</td>\n",
       "      <td>도라지/더덕</td>\n",
       "      <td>물김치</td>\n",
       "      <td>미숫가루/곡물가루</td>\n",
       "      <td>1.245074</td>\n",
       "    </tr>\n",
       "  </tbody>\n",
       "</table>\n",
       "</div>"
      ],
      "text/plain": [
       "     rice  livestock fish veg1    veg2 kimchi      fruit      pred\n",
       "4490    쌀  오리고기/훈제오리  고등어  시금치  도라지/더덕    물김치   참외/메론/수박  1.276180\n",
       "4488    쌀  오리고기/훈제오리  고등어  시금치  도라지/더덕    무김치   참외/메론/수박  1.270051\n",
       "4492    쌀  오리고기/훈제오리  고등어  시금치  도라지/더덕    파김치   참외/메론/수박  1.266271\n",
       "3669    쌀  오리고기/훈제오리  오징어  시금치     토마토    물김치  미숫가루/곡물가루  1.245197\n",
       "7036    쌀  오리고기/훈제오리   갈치   부추  도라지/더덕    물김치  미숫가루/곡물가루  1.245074"
      ]
     },
     "execution_count": 55,
     "metadata": {
      "tags": []
     },
     "output_type": "execute_result"
    }
   ],
   "source": [
    "selecting(result_rice,result_livestock,result_fish,result_veg1,result_veg2,result_kimchi,result_fruit)"
   ]
  },
  {
   "cell_type": "markdown",
   "metadata": {
    "id": "LAhUMFDIfQZ0"
   },
   "source": [
    "2020년 7월 15일"
   ]
  },
  {
   "cell_type": "code",
   "execution_count": null,
   "metadata": {
    "id": "elHRpkkAfHkO"
   },
   "outputs": [],
   "source": [
    "result_rice = pd.read_csv('/gdrive/My Drive/weather_bigdata_contest/result/result2_rice.csv')\n",
    "result_livestock = pd.read_csv('/gdrive/My Drive/weather_bigdata_contest/result/result2_livestock.csv',encoding='cp949')\n",
    "result_fish = pd.read_csv('/gdrive/My Drive/weather_bigdata_contest/result/result2_fish.csv',encoding='cp949')\n",
    "result_veg1 = pd.read_csv('/gdrive/My Drive/weather_bigdata_contest/result/result2_veg1.csv',encoding='cp949')\n",
    "result_veg2 = pd.read_csv('/gdrive/My Drive/weather_bigdata_contest/result/result2_veg2.csv',encoding='cp949')\n",
    "result_kimchi = pd.read_csv('/gdrive/My Drive/weather_bigdata_contest/result/result2_kimchi.csv',encoding='cp949')\n",
    "result_fruit = pd.read_csv('/gdrive/My Drive/weather_bigdata_contest/result/result2_fruit.csv',encoding='cp949')"
   ]
  },
  {
   "cell_type": "code",
   "execution_count": null,
   "metadata": {
    "id": "F0MO9m0Pfb6n"
   },
   "outputs": [],
   "source": [
    "result_rice = pd.concat([result_rice.iloc[:,0:7],result_rice.iloc[:,9]],axis=1)\n",
    "result_rice.columns = ['item','g','calorie','carbo','protein','fat','price','pred']\n",
    "result_livestock = pd.concat([result_livestock.iloc[:,0:7],result_livestock.iloc[:,9]],axis=1)\n",
    "result_livestock.columns = ['item','g','calorie','carbo','protein','fat','price','pred']\n",
    "result_fish = pd.concat([result_fish.iloc[:,0:7],result_fish.iloc[:,9]],axis=1)\n",
    "result_fish.columns = ['item','g','calorie','carbo','protein','fat','price','pred']\n",
    "result_veg1 = pd.concat([result_veg1.iloc[:,0:7],result_veg1.iloc[:,9]],axis=1)\n",
    "result_veg1.columns = ['item','g','calorie','carbo','protein','fat','price','pred']\n",
    "result_veg2 = pd.concat([result_veg2.iloc[:,0:7],result_veg2.iloc[:,9]],axis=1)\n",
    "result_veg2.columns = ['item','g','calorie','carbo','protein','fat','price','pred']\n",
    "result_kimchi = pd.concat([result_kimchi.iloc[:,0:7],result_kimchi.iloc[:,9]],axis=1)\n",
    "result_kimchi.columns = ['item','g','calorie','carbo','protein','fat','price','pred']\n",
    "result_fruit = pd.concat([result_fruit.iloc[:,0:7],result_fruit.iloc[:,9]],axis=1)\n",
    "result_fruit.columns = ['item','g','calorie','carbo','protein','fat','price','pred']"
   ]
  },
  {
   "cell_type": "code",
   "execution_count": null,
   "metadata": {
    "id": "2de3RR6af2RQ"
   },
   "outputs": [],
   "source": [
    "result_rice = calculate(result_rice)\n",
    "result_livestock = calculate(result_livestock)\n",
    "result_fish = calculate(result_fish)\n",
    "result_veg1 = calculate(result_veg1)\n",
    "result_veg2 = calculate(result_veg2)\n",
    "result_kimchi = calculate(result_kimchi)\n",
    "result_fruit = calculate(result_fruit)"
   ]
  },
  {
   "cell_type": "code",
   "execution_count": null,
   "metadata": {
    "colab": {
     "base_uri": "https://localhost:8080/",
     "height": 203
    },
    "executionInfo": {
     "elapsed": 488755,
     "status": "ok",
     "timestamp": 1624665352784,
     "user": {
      "displayName": "김미섭",
      "photoUrl": "",
      "userId": "10860151424334307550"
     },
     "user_tz": -540
    },
    "id": "I2JdVljwfHnA",
    "outputId": "02805ba8-e175-4905-917e-eb7476cc3068"
   },
   "outputs": [
    {
     "data": {
      "text/html": [
       "<div>\n",
       "<style scoped>\n",
       "    .dataframe tbody tr th:only-of-type {\n",
       "        vertical-align: middle;\n",
       "    }\n",
       "\n",
       "    .dataframe tbody tr th {\n",
       "        vertical-align: top;\n",
       "    }\n",
       "\n",
       "    .dataframe thead th {\n",
       "        text-align: right;\n",
       "    }\n",
       "</style>\n",
       "<table border=\"1\" class=\"dataframe\">\n",
       "  <thead>\n",
       "    <tr style=\"text-align: right;\">\n",
       "      <th></th>\n",
       "      <th>rice</th>\n",
       "      <th>livestock</th>\n",
       "      <th>fish</th>\n",
       "      <th>veg1</th>\n",
       "      <th>veg2</th>\n",
       "      <th>kimchi</th>\n",
       "      <th>fruit</th>\n",
       "      <th>pred</th>\n",
       "    </tr>\n",
       "  </thead>\n",
       "  <tbody>\n",
       "    <tr>\n",
       "      <th>2443</th>\n",
       "      <td>쌀</td>\n",
       "      <td>닭가슴살</td>\n",
       "      <td>갈치</td>\n",
       "      <td>부추</td>\n",
       "      <td>도라지/더덕</td>\n",
       "      <td>물김치</td>\n",
       "      <td>참외/메론/수박</td>\n",
       "      <td>1.466224</td>\n",
       "    </tr>\n",
       "    <tr>\n",
       "      <th>932</th>\n",
       "      <td>쌀</td>\n",
       "      <td>닭가슴살</td>\n",
       "      <td>고등어</td>\n",
       "      <td>부추</td>\n",
       "      <td>도라지/더덕</td>\n",
       "      <td>물김치</td>\n",
       "      <td>참외/메론/수박</td>\n",
       "      <td>1.454718</td>\n",
       "    </tr>\n",
       "    <tr>\n",
       "      <th>1978</th>\n",
       "      <td>쌀</td>\n",
       "      <td>닭가슴살</td>\n",
       "      <td>갈치</td>\n",
       "      <td>파/양파</td>\n",
       "      <td>도라지/더덕</td>\n",
       "      <td>물김치</td>\n",
       "      <td>참외/메론/수박</td>\n",
       "      <td>1.448813</td>\n",
       "    </tr>\n",
       "    <tr>\n",
       "      <th>2129</th>\n",
       "      <td>쌀</td>\n",
       "      <td>닭가슴살</td>\n",
       "      <td>갈치</td>\n",
       "      <td>양배추/양상추</td>\n",
       "      <td>도라지/더덕</td>\n",
       "      <td>물김치</td>\n",
       "      <td>참외/메론/수박</td>\n",
       "      <td>1.444043</td>\n",
       "    </tr>\n",
       "    <tr>\n",
       "      <th>566</th>\n",
       "      <td>쌀</td>\n",
       "      <td>닭가슴살</td>\n",
       "      <td>고등어</td>\n",
       "      <td>파/양파</td>\n",
       "      <td>도라지/더덕</td>\n",
       "      <td>물김치</td>\n",
       "      <td>참외/메론/수박</td>\n",
       "      <td>1.437307</td>\n",
       "    </tr>\n",
       "  </tbody>\n",
       "</table>\n",
       "</div>"
      ],
      "text/plain": [
       "     rice livestock fish     veg1    veg2 kimchi     fruit      pred\n",
       "2443    쌀      닭가슴살   갈치       부추  도라지/더덕    물김치  참외/메론/수박  1.466224\n",
       "932     쌀      닭가슴살  고등어       부추  도라지/더덕    물김치  참외/메론/수박  1.454718\n",
       "1978    쌀      닭가슴살   갈치     파/양파  도라지/더덕    물김치  참외/메론/수박  1.448813\n",
       "2129    쌀      닭가슴살   갈치  양배추/양상추  도라지/더덕    물김치  참외/메론/수박  1.444043\n",
       "566     쌀      닭가슴살  고등어     파/양파  도라지/더덕    물김치  참외/메론/수박  1.437307"
      ]
     },
     "execution_count": 63,
     "metadata": {
      "tags": []
     },
     "output_type": "execute_result"
    }
   ],
   "source": [
    "selecting(result_rice,result_livestock,result_fish,result_veg1,result_veg2,result_kimchi,result_fruit)"
   ]
  },
  {
   "cell_type": "markdown",
   "metadata": {
    "id": "Ns1jGqTdf7d3"
   },
   "source": [
    "2020년 10월 15일"
   ]
  },
  {
   "cell_type": "code",
   "execution_count": null,
   "metadata": {
    "id": "RzN9KW2RfHqN"
   },
   "outputs": [],
   "source": [
    "result_rice = pd.read_csv('/gdrive/My Drive/weather_bigdata_contest/result/result2_rice.csv')\n",
    "result_livestock = pd.read_csv('/gdrive/My Drive/weather_bigdata_contest/result/result2_livestock.csv',encoding='cp949')\n",
    "result_fish = pd.read_csv('/gdrive/My Drive/weather_bigdata_contest/result/result2_fish.csv',encoding='cp949')\n",
    "result_veg1 = pd.read_csv('/gdrive/My Drive/weather_bigdata_contest/result/result2_veg1.csv',encoding='cp949')\n",
    "result_veg2 = pd.read_csv('/gdrive/My Drive/weather_bigdata_contest/result/result2_veg2.csv',encoding='cp949')\n",
    "result_kimchi = pd.read_csv('/gdrive/My Drive/weather_bigdata_contest/result/result2_kimchi.csv',encoding='cp949')\n",
    "result_fruit = pd.read_csv('/gdrive/My Drive/weather_bigdata_contest/result/result2_fruit.csv',encoding='cp949')"
   ]
  },
  {
   "cell_type": "code",
   "execution_count": null,
   "metadata": {
    "id": "u_il1KfJfHsz"
   },
   "outputs": [],
   "source": [
    "result_rice = pd.concat([result_rice.iloc[:,0:7],result_rice.iloc[:,10]],axis=1)\n",
    "result_rice.columns = ['item','g','calorie','carbo','protein','fat','price','pred']\n",
    "result_livestock = pd.concat([result_livestock.iloc[:,0:7],result_livestock.iloc[:,10]],axis=1)\n",
    "result_livestock.columns = ['item','g','calorie','carbo','protein','fat','price','pred']\n",
    "result_fish = pd.concat([result_fish.iloc[:,0:7],result_fish.iloc[:,10]],axis=1)\n",
    "result_fish.columns = ['item','g','calorie','carbo','protein','fat','price','pred']\n",
    "result_veg1 = pd.concat([result_veg1.iloc[:,0:7],result_veg1.iloc[:,10]],axis=1)\n",
    "result_veg1.columns = ['item','g','calorie','carbo','protein','fat','price','pred']\n",
    "result_veg2 = pd.concat([result_veg2.iloc[:,0:7],result_veg2.iloc[:,10]],axis=1)\n",
    "result_veg2.columns = ['item','g','calorie','carbo','protein','fat','price','pred']\n",
    "result_kimchi = pd.concat([result_kimchi.iloc[:,0:7],result_kimchi.iloc[:,10]],axis=1)\n",
    "result_kimchi.columns = ['item','g','calorie','carbo','protein','fat','price','pred']\n",
    "result_fruit = pd.concat([result_fruit.iloc[:,0:7],result_fruit.iloc[:,10]],axis=1)\n",
    "result_fruit.columns = ['item','g','calorie','carbo','protein','fat','price','pred']"
   ]
  },
  {
   "cell_type": "code",
   "execution_count": null,
   "metadata": {
    "id": "8w-WrG0qml3_"
   },
   "outputs": [],
   "source": [
    "result_rice = calculate(result_rice)\n",
    "result_livestock = calculate(result_livestock)\n",
    "result_fish = calculate(result_fish)\n",
    "result_veg1 = calculate(result_veg1)\n",
    "result_veg2 = calculate(result_veg2)\n",
    "result_kimchi = calculate(result_kimchi)\n",
    "result_fruit = calculate(result_fruit)"
   ]
  },
  {
   "cell_type": "code",
   "execution_count": null,
   "metadata": {
    "colab": {
     "base_uri": "https://localhost:8080/",
     "height": 203
    },
    "executionInfo": {
     "elapsed": 485016,
     "status": "ok",
     "timestamp": 1624665870773,
     "user": {
      "displayName": "김미섭",
      "photoUrl": "",
      "userId": "10860151424334307550"
     },
     "user_tz": -540
    },
    "id": "BfkWnLIpfHvr",
    "outputId": "e4da9374-fede-4c4f-c9ee-5c101e394e02"
   },
   "outputs": [
    {
     "data": {
      "text/html": [
       "<div>\n",
       "<style scoped>\n",
       "    .dataframe tbody tr th:only-of-type {\n",
       "        vertical-align: middle;\n",
       "    }\n",
       "\n",
       "    .dataframe tbody tr th {\n",
       "        vertical-align: top;\n",
       "    }\n",
       "\n",
       "    .dataframe thead th {\n",
       "        text-align: right;\n",
       "    }\n",
       "</style>\n",
       "<table border=\"1\" class=\"dataframe\">\n",
       "  <thead>\n",
       "    <tr style=\"text-align: right;\">\n",
       "      <th></th>\n",
       "      <th>rice</th>\n",
       "      <th>livestock</th>\n",
       "      <th>fish</th>\n",
       "      <th>veg1</th>\n",
       "      <th>veg2</th>\n",
       "      <th>kimchi</th>\n",
       "      <th>fruit</th>\n",
       "      <th>pred</th>\n",
       "    </tr>\n",
       "  </thead>\n",
       "  <tbody>\n",
       "    <tr>\n",
       "      <th>935</th>\n",
       "      <td>쌀</td>\n",
       "      <td>닭가슴살</td>\n",
       "      <td>고등어</td>\n",
       "      <td>부추</td>\n",
       "      <td>도라지/더덕</td>\n",
       "      <td>파김치</td>\n",
       "      <td>포도/거봉/체리</td>\n",
       "      <td>1.161905</td>\n",
       "    </tr>\n",
       "    <tr>\n",
       "      <th>485</th>\n",
       "      <td>쌀</td>\n",
       "      <td>닭가슴살</td>\n",
       "      <td>오징어</td>\n",
       "      <td>부추</td>\n",
       "      <td>도라지/더덕</td>\n",
       "      <td>파김치</td>\n",
       "      <td>견과류 마카다미아</td>\n",
       "      <td>1.155758</td>\n",
       "    </tr>\n",
       "    <tr>\n",
       "      <th>1529</th>\n",
       "      <td>쌀</td>\n",
       "      <td>닭가슴살</td>\n",
       "      <td>조개</td>\n",
       "      <td>부추</td>\n",
       "      <td>도라지/더덕</td>\n",
       "      <td>파김치</td>\n",
       "      <td>견과류 마카다미아</td>\n",
       "      <td>1.152520</td>\n",
       "    </tr>\n",
       "    <tr>\n",
       "      <th>929</th>\n",
       "      <td>쌀</td>\n",
       "      <td>닭가슴살</td>\n",
       "      <td>고등어</td>\n",
       "      <td>부추</td>\n",
       "      <td>도라지/더덕</td>\n",
       "      <td>물김치</td>\n",
       "      <td>포도/거봉/체리</td>\n",
       "      <td>1.145935</td>\n",
       "    </tr>\n",
       "    <tr>\n",
       "      <th>483</th>\n",
       "      <td>쌀</td>\n",
       "      <td>닭가슴살</td>\n",
       "      <td>오징어</td>\n",
       "      <td>부추</td>\n",
       "      <td>도라지/더덕</td>\n",
       "      <td>물김치</td>\n",
       "      <td>견과류 마카다미아</td>\n",
       "      <td>1.139787</td>\n",
       "    </tr>\n",
       "  </tbody>\n",
       "</table>\n",
       "</div>"
      ],
      "text/plain": [
       "     rice livestock fish veg1    veg2 kimchi      fruit      pred\n",
       "935     쌀      닭가슴살  고등어   부추  도라지/더덕    파김치   포도/거봉/체리  1.161905\n",
       "485     쌀      닭가슴살  오징어   부추  도라지/더덕    파김치  견과류 마카다미아  1.155758\n",
       "1529    쌀      닭가슴살   조개   부추  도라지/더덕    파김치  견과류 마카다미아  1.152520\n",
       "929     쌀      닭가슴살  고등어   부추  도라지/더덕    물김치   포도/거봉/체리  1.145935\n",
       "483     쌀      닭가슴살  오징어   부추  도라지/더덕    물김치  견과류 마카다미아  1.139787"
      ]
     },
     "execution_count": 67,
     "metadata": {
      "tags": []
     },
     "output_type": "execute_result"
    }
   ],
   "source": [
    "selecting(result_rice,result_livestock,result_fish,result_veg1,result_veg2,result_kimchi,result_fruit)"
   ]
  }
 ],
 "metadata": {
  "accelerator": "GPU",
  "colab": {
   "collapsed_sections": [],
   "name": "하늘바라기_코드.ipynb",
   "provenance": []
  },
  "kernelspec": {
   "display_name": "Python 3",
   "language": "python",
   "name": "python3"
  },
  "language_info": {
   "codemirror_mode": {
    "name": "ipython",
    "version": 3
   },
   "file_extension": ".py",
   "mimetype": "text/x-python",
   "name": "python",
   "nbconvert_exporter": "python",
   "pygments_lexer": "ipython3",
   "version": "3.8.5"
  }
 },
 "nbformat": 4,
 "nbformat_minor": 1
}
